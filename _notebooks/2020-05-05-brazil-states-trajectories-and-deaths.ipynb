{
 "cells": [
  {
   "cell_type": "markdown",
   "metadata": {},
   "source": [
    "# Comparativo trajetória por estado [in Portuguese]\n",
    "> Casos confirmados (escala logarítmica)\n",
    "\n",
    "- toc: false\n",
    "- badges: true\n",
    "- comments: true\n",
    "- author: Cleber Jorge Amaral\n",
    "- categories: [covid-19, brasil, comparativo, altair, jupyter]\n",
    "- image: images/brazil-states-cases-trajectories.png"
   ]
  },
  {
   "cell_type": "markdown",
   "metadata": {},
   "source": [
    "### NOTA\n",
    "Os dados utilizados nestas análises são inerentemente incertos. Não há garantia de que os dados e as análises estejam devidamente atualizados e corretos. Antes de tomar conclusões é fundamental verificar dados e conclusões com outras fontes."
   ]
  },
  {
   "cell_type": "code",
   "execution_count": 1,
   "metadata": {
    "execution": {
     "iopub.execute_input": "2020-04-28T12:08:06.220739Z",
     "iopub.status.busy": "2020-04-28T12:08:06.220132Z",
     "iopub.status.idle": "2020-04-28T12:08:06.644708Z",
     "shell.execute_reply": "2020-04-28T12:08:06.643619Z"
    },
    "papermill": {
     "duration": 0.441167,
     "end_time": "2020-04-28T12:08:06.644848",
     "exception": false,
     "start_time": "2020-04-28T12:08:06.203681",
     "status": "completed"
    },
    "tags": []
   },
   "outputs": [
    {
     "name": "stderr",
     "output_type": "stream",
     "text": [
      "/usr/local/lib/python3.8/site-packages/pandas/compat/__init__.py:117: UserWarning: Could not import the lzma module. Your installed Python is incomplete. Attempting to use lzma compression will result in a RuntimeError.\n",
      "  warnings.warn(msg)\n"
     ]
    }
   ],
   "source": [
    "#hide\n",
    "import pandas as pd\n",
    "import altair as alt\n",
    "import math\n",
    "import requests\n",
    "from altair_saver import save\n",
    "from IPython.display import HTML\n",
    "\n",
    "CHART_WIDTH = 600\n",
    "CHART_HEIGHT = 450"
   ]
  },
  {
   "cell_type": "code",
   "execution_count": 2,
   "metadata": {},
   "outputs": [
    {
     "name": "stdout",
     "output_type": "stream",
     "text": [
      "Defaulting to user installation because normal site-packages is not writeable\n",
      "\u001b[31mERROR: Could not find a version that satisfies the requirement lzma (from versions: none)\u001b[0m\n",
      "\u001b[31mERROR: No matching distribution found for lzma\u001b[0m\n",
      "Note: you may need to restart the kernel to use updated packages.\n"
     ]
    }
   ],
   "source": [
    "pip install lzma"
   ]
  },
  {
   "cell_type": "code",
   "execution_count": null,
   "metadata": {
    "scrolled": true
   },
   "outputs": [],
   "source": [
    "#hide\n",
    "# Get source original file from brasil.io\n",
    "# Expected to have the columns: ['state', 'date', 'confirmed']\n",
    "url = ('https://data.brasil.io/dataset/covid19/caso.csv.gz')\n",
    "\n",
    "# Pretending to be a browser\n",
    "header = {\n",
    "  \"user-agent\": \"Mozilla/5.0 (X11; Linux x86_64) AppleWebKit/537.36 (KHTML, like Gecko) Chrome/581.0.4044.138 Safari/537.36\",\n",
    "  \"x-requested-with\": \"XMLHttpRequest\",\n",
    "  \"accept-encoding\": \"gzip, deflate, br\"\n",
    "}\n",
    "\n",
    "response = requests.get(url, headers=header, stream=True)\n",
    "\n",
    "raw = response.raw\n",
    "with open('../assets/db/caso.csv.gz', 'wb') as out_file:\n",
    "    while True:\n",
    "        chunk = raw.read(1024, decode_content=True)\n",
    "        if not chunk:\n",
    "            break\n",
    "        out_file.write(chunk)\n",
    "\n",
    "#src = pd.read_csv('caso.csv.gz')\n",
    "src = pd.read_csv('../assets/db/caso.csv.gz')\n",
    "df = src[(src['place_type'] == 'state')]\n",
    "df['date'] = pd.to_datetime(df['date'])\n",
    "df['date'] = df['date'].dt.strftime('%m/%d/%y')\n",
    "#df.head()"
   ]
  },
  {
   "cell_type": "code",
   "execution_count": null,
   "metadata": {
    "scrolled": true
   },
   "outputs": [],
   "source": [
    "#hide\n",
    "# Pivot data regarding dates, putting them as columns\n",
    "df = df[['state','date','confirmed']].groupby(['state','date'],as_index = False).sum().pivot('state','date').fillna(0)\n",
    "df = df.droplevel(None, axis=1)\n",
    "df = df.reset_index()\n",
    "#df.head()"
   ]
  },
  {
   "cell_type": "code",
   "execution_count": null,
   "metadata": {},
   "outputs": [],
   "source": [
    "#hide\n",
    "STATE_COLUMN = \"Estado\"\n",
    "DATE_COLUMN = \"Data\"\n",
    "MEAN_FUNCTION = '_Média'\n",
    "MEDIAN_FUNCTION = '_Mediana'\n",
    "SUM_FUNCTION = '_Brasil'\n",
    "CONFIRMED_CASES = 'Casos confirmados'\n",
    "DEATHS = 'Mortes'\n",
    "DAYS_SINCE_100_CASES = 'Dias desde 100 casos'\n",
    "DAYS_SINCE_10_DEATHS = 'Dias desde 10 mortes'\n",
    "COMPARE_TRAJECTORY_WITH = 'Comparativo da trajetória entre os estados'\n",
    "\n",
    "df = df.rename(columns={\"state\": STATE_COLUMN})\n",
    "acc = df\n",
    "#df.tail()"
   ]
  },
  {
   "cell_type": "code",
   "execution_count": null,
   "metadata": {
    "scrolled": true
   },
   "outputs": [],
   "source": [
    "#hide\n",
    "dt_cols = df.columns[~df.columns.isin([STATE_COLUMN])]\n",
    "#if data of last cells is empty (actually the accumulative minor then prior), copy prior\n",
    "for c in range(0, len(dt_cols[0::])+1):\n",
    "    for r in range(0, len(df)):\n",
    "        if c > 1 and df.iloc[r,c] < df.iloc[r,c-1]:\n",
    "            df.iloc[r,c] = df.iloc[r,c-1]\n",
    "#df.to_csv('modified_absolute.csv')\n",
    "#df.tail()"
   ]
  },
  {
   "cell_type": "code",
   "execution_count": null,
   "metadata": {},
   "outputs": [],
   "source": [
    "#hide\n",
    "# Get mean, median and total\n",
    "mean = df.mean(axis=0)\n",
    "median = df.median(axis=0)\n",
    "total = df.sum(axis=0)\n",
    "df.loc['Mean',dt_cols]=mean\n",
    "df.loc['Mean',STATE_COLUMN] = MEAN_FUNCTION\n",
    "df.loc['Median',dt_cols]=median\n",
    "df.loc['Median',STATE_COLUMN] = MEDIAN_FUNCTION\n",
    "df.loc['Total',dt_cols]=total\n",
    "df.loc['Total',STATE_COLUMN] = SUM_FUNCTION"
   ]
  },
  {
   "cell_type": "code",
   "execution_count": null,
   "metadata": {},
   "outputs": [],
   "source": [
    "#hide\n",
    "# Get differences for each day\n",
    "dff = acc.groupby(STATE_COLUMN)[dt_cols].sum().stack().reset_index(name=CONFIRMED_CASES).rename(columns={'date': DATE_COLUMN})\n",
    "dff[DATE_COLUMN] = pd.to_datetime(dff[DATE_COLUMN], format='%m/%d/%y')\n",
    "#dff.tail()"
   ]
  },
  {
   "cell_type": "code",
   "execution_count": null,
   "metadata": {
    "execution": {
     "iopub.execute_input": "2020-04-28T12:08:06.797468Z",
     "iopub.status.busy": "2020-04-28T12:08:06.795785Z",
     "iopub.status.idle": "2020-04-28T12:08:06.799694Z",
     "shell.execute_reply": "2020-04-28T12:08:06.799182Z"
    },
    "papermill": {
     "duration": 0.026853,
     "end_time": "2020-04-28T12:08:06.799799",
     "exception": false,
     "start_time": "2020-04-28T12:08:06.772946",
     "status": "completed"
    },
    "tags": []
   },
   "outputs": [],
   "source": [
    "#hide\n",
    "MIN_CASES = 300\n",
    "LAST_DATE = dt_cols[-1]\n",
    "# sometimes last column may be empty, then go backwards\n",
    "# it should not occur, just keeping original code\n",
    "for c in dt_cols[::-1]:\n",
    "    if not df[c].fillna(0).eq(0).all():\n",
    "        LAST_DATE = c\n",
    "        break\n",
    "countries = dff[dff[DATE_COLUMN].eq(LAST_DATE) & dff[CONFIRMED_CASES].ge(MIN_CASES)\n",
    "       ].sort_values(by=CONFIRMED_CASES, ascending=False)\n",
    "countries = countries[STATE_COLUMN].values"
   ]
  },
  {
   "cell_type": "code",
   "execution_count": null,
   "metadata": {},
   "outputs": [],
   "source": [
    "#hide\n",
    "SINCE_CASES_NUM = 100\n",
    "dff2 = dff[dff[STATE_COLUMN].isin(countries)].copy()\n",
    "days_since = (dff2.assign(F=dff2[CONFIRMED_CASES].ge(SINCE_CASES_NUM))\n",
    "              .set_index(DATE_COLUMN)\n",
    "              .groupby(STATE_COLUMN)['F'].transform('idxmax'))\n",
    "dff2[DAYS_SINCE_100_CASES] = (dff2[DATE_COLUMN] - days_since.values).dt.days.values\n",
    "dff2 = dff2[dff2[DAYS_SINCE_100_CASES].ge(0)]\n",
    "#list(dff2)"
   ]
  },
  {
   "cell_type": "code",
   "execution_count": null,
   "metadata": {
    "execution": {
     "iopub.execute_input": "2020-04-28T12:08:06.928783Z",
     "iopub.status.busy": "2020-04-28T12:08:06.928169Z",
     "iopub.status.idle": "2020-04-28T12:08:06.940044Z",
     "shell.execute_reply": "2020-04-28T12:08:06.939450Z"
    },
    "papermill": {
     "duration": 0.030626,
     "end_time": "2020-04-28T12:08:06.940148",
     "exception": false,
     "start_time": "2020-04-28T12:08:06.909522",
     "status": "completed"
    },
    "scrolled": true,
    "tags": []
   },
   "outputs": [],
   "source": [
    "#hide_input\n",
    "preselected_items = ['AM','CE','DF','RJ','SC','SP']\n",
    "max_date = dff2[DATE_COLUMN].max()\n",
    "color_domain = list(dff2[STATE_COLUMN].unique())\n",
    "y_domain_max = pow(10, math.ceil(math.log10(dff[CONFIRMED_CASES].max())))\n",
    "ref_max_day = math.ceil(math.log(y_domain_max / SINCE_CASES_NUM, 1.33))\n",
    "\n",
    "def make_since_chart(highlight_items=[], preselected_items=preselected_items):\n",
    "    selection = alt.selection_multi(fields=[STATE_COLUMN], bind='legend', \n",
    "                                    init=[{STATE_COLUMN: x} for x in highlight_items + preselected_items])\n",
    "\n",
    "    base = alt.Chart(dff2, width=CHART_WIDTH, height=CHART_HEIGHT).encode(\n",
    "        x=DAYS_SINCE_100_CASES+':Q',\n",
    "        y=alt.Y(CONFIRMED_CASES+':Q', scale=alt.Scale(type='log')),\n",
    "        color=alt.Color(STATE_COLUMN+':N', scale=alt.Scale(domain=color_domain), legend=alt.Legend(columns=math.ceil(len(color_domain)/26), symbolLimit=len(color_domain))),\n",
    "        tooltip=list(dff2),\n",
    "        opacity=alt.condition(selection, alt.value(1), alt.value(0.05))\n",
    "    )\n",
    "    max_day = dff2[DAYS_SINCE_100_CASES].max()\n",
    "    ref = pd.DataFrame([[x, 100*1.33**x] for x in range(ref_max_day)], columns=[DAYS_SINCE_100_CASES, CONFIRMED_CASES])\n",
    "    base_ref = alt.Chart(ref).encode(x=DAYS_SINCE_100_CASES+':Q', y=CONFIRMED_CASES+':Q')\n",
    "    return (\n",
    "        base_ref.mark_line(color='black', opacity=.5, strokeDash=[3,3]) +\n",
    "        base_ref.transform_filter(\n",
    "            alt.datum[DAYS_SINCE_100_CASES] >= ref_max_day - 1\n",
    "        ).mark_text(dx=-30, dy=30, align='right', fontSize=10, text='33% Daily Growth') +\n",
    "        base.mark_line(point=True).add_selection(selection) + \n",
    "        base.transform_filter(\n",
    "            alt.datum[DATE_COLUMN] >= int(max_date.timestamp() * 1000)\n",
    "        ).mark_text(dy=-8, align='right', fontWeight='bold').encode(text=STATE_COLUMN+':N')\n",
    "    ).properties(\n",
    "        title=f\" {CONFIRMED_CASES+': '+COMPARE_TRAJECTORY_WITH+' '+', '.join(preselected_items)}\"\n",
    "    )\n",
    "chart = make_since_chart()\n",
    "chart"
   ]
  },
  {
   "cell_type": "code",
   "execution_count": null,
   "metadata": {},
   "outputs": [],
   "source": [
    "#hide\n",
    "df = src[(src['place_type'] == 'state')]\n",
    "df['date'] = pd.to_datetime(df['date'])\n",
    "df['date'] = df['date'].dt.strftime('%m/%d/%y')\n",
    "#df.head()"
   ]
  },
  {
   "cell_type": "code",
   "execution_count": null,
   "metadata": {},
   "outputs": [],
   "source": [
    "#hide\n",
    "# Pivot data regarding dates, putting them as columns\n",
    "df = df[['state','date','deaths']].groupby(['state','date'],as_index = False).sum().pivot('state','date').fillna(0)\n",
    "df = df.droplevel(None, axis=1)\n",
    "df = df.reset_index()\n",
    "#df.head()"
   ]
  },
  {
   "cell_type": "code",
   "execution_count": null,
   "metadata": {},
   "outputs": [],
   "source": [
    "#hide\n",
    "df = df.rename(columns={\"state\": STATE_COLUMN})\n",
    "#df.to_csv('modified_absolute.csv')\n",
    "acc = df\n",
    "#df.tail()"
   ]
  },
  {
   "cell_type": "code",
   "execution_count": null,
   "metadata": {},
   "outputs": [],
   "source": [
    "#hide\n",
    "dt_cols = df.columns[~df.columns.isin([STATE_COLUMN])]\n",
    "#if data of last cells is empty (actually the accumulative minor then prior), copy prior\n",
    "for c in range(0, len(dt_cols[0::])+1):\n",
    "    for r in range(0, len(df)):\n",
    "        if c > 1 and df.iloc[r,c] < df.iloc[r,c-1]:\n",
    "            df.iloc[r,c] = df.iloc[r,c-1]\n",
    "#df.to_csv('modified_absolute.csv')\n",
    "#df.tail()"
   ]
  },
  {
   "cell_type": "code",
   "execution_count": null,
   "metadata": {},
   "outputs": [],
   "source": [
    "#hide\n",
    "# Get mean, median and total\n",
    "mean = df.mean(axis=0)\n",
    "median = df.median(axis=0)\n",
    "total = df.sum(axis=0)\n",
    "df.loc['Mean',dt_cols]=mean\n",
    "df.loc['Mean',STATE_COLUMN] = MEAN_FUNCTION\n",
    "df.loc['Median',dt_cols]=median\n",
    "df.loc['Median',STATE_COLUMN] = MEDIAN_FUNCTION\n",
    "df.loc['Total',dt_cols]=total\n",
    "df.loc['Total',STATE_COLUMN] = SUM_FUNCTION"
   ]
  },
  {
   "cell_type": "code",
   "execution_count": null,
   "metadata": {},
   "outputs": [],
   "source": [
    "#hide\n",
    "# Get differences for each day\n",
    "dff = acc.groupby(STATE_COLUMN)[dt_cols].sum().stack().reset_index(name=DEATHS).rename(columns={'date': DATE_COLUMN})\n",
    "dff[DATE_COLUMN] = pd.to_datetime(dff[DATE_COLUMN], format='%m/%d/%y')\n",
    "#dff.tail()"
   ]
  },
  {
   "cell_type": "code",
   "execution_count": null,
   "metadata": {},
   "outputs": [],
   "source": [
    "#hide\n",
    "MIN_CASES = 30\n",
    "LAST_DATE = dt_cols[-1]\n",
    "# sometimes last column may be empty, then go backwards\n",
    "# it should not occur, just keeping original code\n",
    "for c in dt_cols[::-1]:\n",
    "    if not df[c].fillna(0).eq(0).all():\n",
    "        LAST_DATE = c\n",
    "        break\n",
    "countries = dff[dff[DATE_COLUMN].eq(LAST_DATE) & dff[DEATHS].ge(MIN_CASES)\n",
    "       ].sort_values(by=DEATHS, ascending=False)\n",
    "countries = countries[STATE_COLUMN].values"
   ]
  },
  {
   "cell_type": "code",
   "execution_count": null,
   "metadata": {},
   "outputs": [],
   "source": [
    "#hide\n",
    "SINCE_CASES_NUM = 10\n",
    "dff2 = dff[dff[STATE_COLUMN].isin(countries)].copy()\n",
    "days_since = (dff2.assign(F=dff2[DEATHS].ge(SINCE_CASES_NUM))\n",
    "              .set_index(DATE_COLUMN)\n",
    "              .groupby(STATE_COLUMN)['F'].transform('idxmax'))\n",
    "dff2[DAYS_SINCE_10_DEATHS] = (dff2[DATE_COLUMN] - days_since.values).dt.days.values\n",
    "dff2 = dff2[dff2[DAYS_SINCE_10_DEATHS].ge(0)]\n",
    "#list(dff2)"
   ]
  },
  {
   "cell_type": "code",
   "execution_count": null,
   "metadata": {},
   "outputs": [],
   "source": [
    "#hide_input\n",
    "preselected_items = ['AM','CE','DF','RJ','SC','SP',SUM_FUNCTION]\n",
    "max_date = dff2[DATE_COLUMN].max()\n",
    "color_domain = list(dff2[STATE_COLUMN].unique())\n",
    "y_domain_max = pow(10, math.ceil(math.log10(dff[DEATHS].max())))\n",
    "ref_max_day = math.ceil(math.log(y_domain_max / SINCE_CASES_NUM, 1.33))\n",
    "\n",
    "def make_since_chart(highlight_items=[], preselected_items=preselected_items):\n",
    "    selection = alt.selection_multi(fields=[STATE_COLUMN], bind='legend', \n",
    "                                    init=[{STATE_COLUMN: x} for x in highlight_items + preselected_items])\n",
    "\n",
    "    base = alt.Chart(dff2, width=CHART_WIDTH, height=CHART_HEIGHT).encode(\n",
    "        x=DAYS_SINCE_10_DEATHS+':Q',\n",
    "        y=alt.Y(DEATHS+':Q', scale=alt.Scale(type='log')),\n",
    "        color=alt.Color(STATE_COLUMN+':N', scale=alt.Scale(domain=color_domain), legend=alt.Legend(columns=math.ceil(len(color_domain)/26), symbolLimit=len(color_domain))),\n",
    "        tooltip=list(dff2),\n",
    "        opacity=alt.condition(selection, alt.value(1), alt.value(0.05))\n",
    "    )\n",
    "    max_day = dff2[DAYS_SINCE_10_DEATHS].max()\n",
    "    ref = pd.DataFrame([[x, 100*1.33**x] for x in range(ref_max_day)], columns=[DAYS_SINCE_10_DEATHS, DEATHS])\n",
    "    base_ref = alt.Chart(ref).encode(x=DAYS_SINCE_10_DEATHS+':Q', y=DEATHS+':Q')\n",
    "    return (\n",
    "        base_ref.mark_line(color='black', opacity=.5, strokeDash=[3,3]) +\n",
    "        base_ref.transform_filter(\n",
    "            alt.datum[DAYS_SINCE_10_DEATHS] >= ref_max_day - 1\n",
    "        ).mark_text(dx=-30, dy=30, align='right', fontSize=10, text='33% Daily Growth') +\n",
    "        base.mark_line(point=True).add_selection(selection) + \n",
    "        base.transform_filter(\n",
    "            alt.datum[DATE_COLUMN] >= int(max_date.timestamp() * 1000)\n",
    "        ).mark_text(dy=-8, align='right', fontWeight='bold').encode(text=STATE_COLUMN+':N')\n",
    "    ).properties(\n",
    "        title=f\" {DEATHS+': '+COMPARE_TRAJECTORY_WITH+' '+', '.join(preselected_items)}\"\n",
    "    )\n",
    "chart = make_since_chart()\n",
    "chart"
   ]
  },
  {
   "cell_type": "code",
   "execution_count": null,
   "metadata": {
    "execution": {
     "iopub.execute_input": "2020-04-28T12:08:07.019126Z",
     "iopub.status.busy": "2020-04-28T12:08:07.018469Z",
     "iopub.status.idle": "2020-04-28T12:08:07.022478Z",
     "shell.execute_reply": "2020-04-28T12:08:07.023057Z"
    },
    "papermill": {
     "duration": 0.028185,
     "end_time": "2020-04-28T12:08:07.023194",
     "exception": false,
     "start_time": "2020-04-28T12:08:06.995009",
     "status": "completed"
    },
    "tags": []
   },
   "outputs": [],
   "source": [
    "#hide_input\n",
    "HTML(f'<small class=\"float-right\">Última atualização em {pd.to_datetime(LAST_DATE).strftime(\"%d/%m/%Y\")}</small>')"
   ]
  },
  {
   "cell_type": "markdown",
   "metadata": {
    "papermill": {
     "duration": 0.07254,
     "end_time": "2020-04-28T12:08:09.077685",
     "exception": false,
     "start_time": "2020-04-28T12:08:09.005145",
     "status": "completed"
    },
    "tags": []
   },
   "source": [
    "Based on the [notebook](https://github.com/pratapvardhan/notebooks/blob/master/covid19/covid19-compare-country-trajectories.ipynb) developed by [Pratap Vardhan](https://twitter.com/PratapVardhan), adapted by [Cleber Jorge Amaral](http://cleberjamaral.github.io/). Data source: [brasil.io](https://brasil.io/home/)"
   ]
  },
  {
   "cell_type": "code",
   "execution_count": null,
   "metadata": {},
   "outputs": [],
   "source": [
    "#hide\n",
    "save(chart,\"../images/brazil-states-cases-trajectories.png\")"
   ]
  }
 ],
 "metadata": {
  "kernelspec": {
   "display_name": "Python 3",
   "language": "python",
   "name": "python3"
  },
  "language_info": {
   "codemirror_mode": {
    "name": "ipython",
    "version": 3
   },
   "file_extension": ".py",
   "mimetype": "text/x-python",
   "name": "python",
   "nbconvert_exporter": "python",
   "pygments_lexer": "ipython3",
   "version": "3.8.2"
  },
  "papermill": {
   "duration": 3.904156,
   "end_time": "2020-04-28T12:08:09.239969",
   "environment_variables": {},
   "exception": null,
   "input_path": "2020-03-17-compare-trajectories.ipynb",
   "output_path": "2020-03-17-compare-trajectories.ipynb",
   "parameters": {},
   "start_time": "2020-04-28T12:08:05.335813",
   "version": "2.0.0"
  }
 },
 "nbformat": 4,
 "nbformat_minor": 2
}
