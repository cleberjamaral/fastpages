{
 "cells": [
  {
   "cell_type": "markdown",
   "metadata": {},
   "source": [
    "# Chess AI using Deep Learning\n",
    "> Following Victor Sim's tutorial\n",
    "\n",
    "- toc: false\n",
    "- badges: true\n",
    "- comments: true\n",
    "- author: Cleber Jorge Amaral\n",
    "- categories: [comparison, jupyter]\n",
    "- image: images/normal-distribution-tests.png"
   ]
  },
  {
   "cell_type": "code",
   "execution_count": 5,
   "metadata": {},
   "outputs": [],
   "source": [
    "#hide\n",
    "import os\n",
    "import chess\n",
    "import numpy as np\n",
    "import pandas as pd\n",
    "from tensorflow import keras\n",
    "from tensorflow.keras import layers"
   ]
  },
  {
   "cell_type": "code",
   "execution_count": 2,
   "metadata": {},
   "outputs": [
    {
     "ename": "FileNotFoundError",
     "evalue": "[Errno 2] No such file or directory: 'XXXXXXXXXXX'",
     "output_type": "error",
     "traceback": [
      "\u001b[0;31m---------------------------------------------------------------------------\u001b[0m",
      "\u001b[0;31mFileNotFoundError\u001b[0m                         Traceback (most recent call last)",
      "\u001b[0;32m<ipython-input-2-c6347092417d>\u001b[0m in \u001b[0;36m<module>\u001b[0;34m\u001b[0m\n\u001b[1;32m      1\u001b[0m \u001b[0;31m#hide\u001b[0m\u001b[0;34m\u001b[0m\u001b[0;34m\u001b[0m\u001b[0;34m\u001b[0m\u001b[0m\n\u001b[0;32m----> 2\u001b[0;31m \u001b[0mos\u001b[0m\u001b[0;34m.\u001b[0m\u001b[0mchdir\u001b[0m\u001b[0;34m(\u001b[0m\u001b[0;34m'XXXXXXXXXXX'\u001b[0m\u001b[0;34m)\u001b[0m\u001b[0;34m\u001b[0m\u001b[0;34m\u001b[0m\u001b[0m\n\u001b[0m\u001b[1;32m      3\u001b[0m \u001b[0mdf\u001b[0m \u001b[0;34m=\u001b[0m \u001b[0mpd\u001b[0m\u001b[0;34m.\u001b[0m\u001b[0mread_csv\u001b[0m\u001b[0;34m(\u001b[0m\u001b[0;34m'chess_normalized.csv'\u001b[0m\u001b[0;34m)\u001b[0m\u001b[0;34m\u001b[0m\u001b[0;34m\u001b[0m\u001b[0m\n\u001b[1;32m      4\u001b[0m \u001b[0mdata\u001b[0m \u001b[0;34m=\u001b[0m \u001b[0mdf\u001b[0m\u001b[0;34m[\u001b[0m\u001b[0;34m'moves'\u001b[0m\u001b[0;34m]\u001b[0m\u001b[0;34m.\u001b[0m\u001b[0mtolist\u001b[0m\u001b[0;34m(\u001b[0m\u001b[0;34m)\u001b[0m\u001b[0;34m[\u001b[0m\u001b[0;34m:\u001b[0m\u001b[0;36m500\u001b[0m\u001b[0;34m]\u001b[0m\u001b[0;34m\u001b[0m\u001b[0;34m\u001b[0m\u001b[0m\n\u001b[1;32m      5\u001b[0m \u001b[0msplit_data\u001b[0m \u001b[0;34m=\u001b[0m \u001b[0;34m[\u001b[0m\u001b[0;34m]\u001b[0m\u001b[0;34m\u001b[0m\u001b[0;34m\u001b[0m\u001b[0m\n",
      "\u001b[0;31mFileNotFoundError\u001b[0m: [Errno 2] No such file or directory: 'XXXXXXXXXXX'"
     ]
    }
   ],
   "source": [
    "#hide\n",
    "os.chdir('XXXXXXXXXXX')\n",
    "df = pd.read_csv('chess_normalized.csv')\n",
    "data = df['moves'].tolist()[:500]\n",
    "split_data = []\n",
    "indice = 500"
   ]
  },
  {
   "cell_type": "code",
   "execution_count": 6,
   "metadata": {},
   "outputs": [],
   "source": [
    "#hide\n",
    "chess_dict = {\n",
    "    'p' : [1,0,0,0,0,0,0,0,0,0,0,0],\n",
    "    'P' : [0,0,0,0,0,0,1,0,0,0,0,0],\n",
    "    'n' : [0,1,0,0,0,0,0,0,0,0,0,0],\n",
    "    'N' : [0,0,0,0,0,0,0,1,0,0,0,0],\n",
    "    'b' : [0,0,1,0,0,0,0,0,0,0,0,0],\n",
    "    'B' : [0,0,0,0,0,0,0,0,1,0,0,0],\n",
    "    'r' : [0,0,0,1,0,0,0,0,0,0,0,0],\n",
    "    'R' : [0,0,0,0,0,0,0,0,0,1,0,0],\n",
    "    'q' : [0,0,0,0,1,0,0,0,0,0,0,0],\n",
    "    'Q' : [0,0,0,0,0,0,0,0,0,0,1,0],\n",
    "    'k' : [0,0,0,0,0,1,0,0,0,0,0,0],\n",
    "    'K' : [0,0,0,0,0,0,0,0,0,0,0,1],\n",
    "    '.' : [0,0,0,0,0,0,0,0,0,0,0,0],\n",
    "}\n",
    "alpha_dict = {\n",
    "    'a' : [0,0,0,0,0,0,0],\n",
    "    'b' : [1,0,0,0,0,0,0],\n",
    "    'c' : [0,1,0,0,0,0,0],\n",
    "    'd' : [0,0,1,0,0,0,0],\n",
    "    'e' : [0,0,0,1,0,0,0],\n",
    "    'f' : [0,0,0,0,1,0,0],\n",
    "    'g' : [0,0,0,0,0,1,0],\n",
    "    'h' : [0,0,0,0,0,0,1],\n",
    "}\n",
    "number_dict = {\n",
    "    1 : [0,0,0,0,0,0,0],\n",
    "    2 : [1,0,0,0,0,0,0],\n",
    "    3 : [0,1,0,0,0,0,0],\n",
    "    4 : [0,0,1,0,0,0,0],\n",
    "    5 : [0,0,0,1,0,0,0],\n",
    "    6 : [0,0,0,0,1,0,0],\n",
    "    7 : [0,0,0,0,0,1,0],\n",
    "    8 : [0,0,0,0,0,0,1],\n",
    "}"
   ]
  },
  {
   "cell_type": "code",
   "execution_count": 7,
   "metadata": {},
   "outputs": [],
   "source": [
    "#hide\n",
    "def make_matrix(board): \n",
    "    pgn = board.epd()\n",
    "    foo = []  \n",
    "    pieces = pgn.split(\" \", 1)[0]\n",
    "    rows = pieces.split(\"/\")\n",
    "    for row in rows:\n",
    "        foo2 = []  \n",
    "        for thing in row:\n",
    "            if thing.isdigit():\n",
    "                for i in range(0, int(thing)):\n",
    "                    foo2.append('.')\n",
    "            else:\n",
    "                foo2.append(thing)\n",
    "        foo.append(foo2)\n",
    "    return foo\n",
    "def translate(matrix,chess_dict):\n",
    "    rows = []\n",
    "    for row in matrix:\n",
    "        terms = []\n",
    "        for term in row:\n",
    "            terms.append(chess_dict[term])\n",
    "        rows.append(terms)\n",
    "    return rows"
   ]
  },
  {
   "cell_type": "code",
   "execution_count": 8,
   "metadata": {},
   "outputs": [
    {
     "ename": "NameError",
     "evalue": "name 'data' is not defined",
     "output_type": "error",
     "traceback": [
      "\u001b[0;31m---------------------------------------------------------------------------\u001b[0m",
      "\u001b[0;31mNameError\u001b[0m                                 Traceback (most recent call last)",
      "\u001b[0;32m<ipython-input-8-ab15a9d19067>\u001b[0m in \u001b[0;36m<module>\u001b[0;34m\u001b[0m\n\u001b[1;32m      1\u001b[0m \u001b[0;31m#hide\u001b[0m\u001b[0;34m\u001b[0m\u001b[0;34m\u001b[0m\u001b[0;34m\u001b[0m\u001b[0m\n\u001b[0;32m----> 2\u001b[0;31m \u001b[0;32mfor\u001b[0m \u001b[0mpoint\u001b[0m \u001b[0;32min\u001b[0m \u001b[0mdata\u001b[0m\u001b[0;34m[\u001b[0m\u001b[0;34m:\u001b[0m\u001b[0mindice\u001b[0m\u001b[0;34m]\u001b[0m\u001b[0;34m:\u001b[0m\u001b[0;34m\u001b[0m\u001b[0;34m\u001b[0m\u001b[0m\n\u001b[0m\u001b[1;32m      3\u001b[0m     \u001b[0mpoint\u001b[0m \u001b[0;34m=\u001b[0m \u001b[0mpoint\u001b[0m\u001b[0;34m.\u001b[0m\u001b[0msplit\u001b[0m\u001b[0;34m(\u001b[0m\u001b[0;34m)\u001b[0m\u001b[0;34m\u001b[0m\u001b[0;34m\u001b[0m\u001b[0m\n\u001b[1;32m      4\u001b[0m     \u001b[0msplit_data\u001b[0m\u001b[0;34m.\u001b[0m\u001b[0mappend\u001b[0m\u001b[0;34m(\u001b[0m\u001b[0mpoint\u001b[0m\u001b[0;34m)\u001b[0m\u001b[0;34m\u001b[0m\u001b[0;34m\u001b[0m\u001b[0m\n\u001b[1;32m      5\u001b[0m \u001b[0;34m\u001b[0m\u001b[0m\n",
      "\u001b[0;31mNameError\u001b[0m: name 'data' is not defined"
     ]
    }
   ],
   "source": [
    "#hide\n",
    "for point in data[:indice]:\n",
    "    point = point.split()\n",
    "    split_data.append(point)\n",
    "    \n",
    "data = []\n",
    "for game in split_data:\n",
    "    board = chess.Board()\n",
    "    for move in game:\n",
    "        board_ready = board.copy()\n",
    "        data.append(board.copy())\n",
    "        board.push_san(move)\n",
    "trans_data = []\n",
    "for board in data:\n",
    "    matrix = make_matrix(board)\n",
    "    trans = translate(matrix,chess_dict)\n",
    "    trans_data.append(trans)\n",
    "pieces = []\n",
    "alphas = []\n",
    "numbers = []"
   ]
  },
  {
   "cell_type": "code",
   "execution_count": 9,
   "metadata": {},
   "outputs": [
    {
     "ename": "NameError",
     "evalue": "name 'flatten' is not defined",
     "output_type": "error",
     "traceback": [
      "\u001b[0;31m---------------------------------------------------------------------------\u001b[0m",
      "\u001b[0;31mNameError\u001b[0m                                 Traceback (most recent call last)",
      "\u001b[0;32m<ipython-input-9-3bcee95c5bb4>\u001b[0m in \u001b[0;36m<module>\u001b[0;34m\u001b[0m\n\u001b[1;32m      1\u001b[0m \u001b[0;31m#hide\u001b[0m\u001b[0;34m\u001b[0m\u001b[0;34m\u001b[0m\u001b[0;34m\u001b[0m\u001b[0m\n\u001b[0;32m----> 2\u001b[0;31m \u001b[0mtrue_data\u001b[0m \u001b[0;34m=\u001b[0m \u001b[0mflatten\u001b[0m\u001b[0;34m(\u001b[0m\u001b[0msplit_data\u001b[0m\u001b[0;34m)\u001b[0m\u001b[0;34m\u001b[0m\u001b[0;34m\u001b[0m\u001b[0m\n\u001b[0m\u001b[1;32m      3\u001b[0m \u001b[0;32mfor\u001b[0m \u001b[0mi\u001b[0m \u001b[0;32min\u001b[0m \u001b[0mrange\u001b[0m\u001b[0;34m(\u001b[0m\u001b[0mlen\u001b[0m\u001b[0;34m(\u001b[0m\u001b[0mtrue_data\u001b[0m\u001b[0;34m)\u001b[0m\u001b[0;34m)\u001b[0m\u001b[0;34m:\u001b[0m\u001b[0;34m\u001b[0m\u001b[0;34m\u001b[0m\u001b[0m\n\u001b[1;32m      4\u001b[0m     \u001b[0;32mtry\u001b[0m\u001b[0;34m:\u001b[0m\u001b[0;34m\u001b[0m\u001b[0;34m\u001b[0m\u001b[0m\n\u001b[1;32m      5\u001b[0m         \u001b[0mterm\u001b[0m \u001b[0;34m=\u001b[0m \u001b[0mflatten\u001b[0m\u001b[0;34m(\u001b[0m\u001b[0msplit_data\u001b[0m\u001b[0;34m)\u001b[0m\u001b[0;34m[\u001b[0m\u001b[0mi\u001b[0m\u001b[0;34m]\u001b[0m\u001b[0;34m\u001b[0m\u001b[0;34m\u001b[0m\u001b[0m\n",
      "\u001b[0;31mNameError\u001b[0m: name 'flatten' is not defined"
     ]
    }
   ],
   "source": [
    "#hide\n",
    "true_data = flatten(split_data)\n",
    "for i in range(len(true_data)):\n",
    "    try:\n",
    "        term = flatten(split_data)[i]\n",
    "        original = term[:]\n",
    "        term = term.replace('x','')\n",
    "        term = term.replace('#','')\n",
    "        term = term.replace('+','')\n",
    "        if len(term) == 2:\n",
    "            piece = 'p' \n",
    "        else:\n",
    "            piece = term[0]\n",
    "        alpha = term[-2]\n",
    "        number = term[-1]\n",
    "        pieces.append(chess_dict[piece])\n",
    "        alphas.append(alpha_dict[alpha])\n",
    "        numbers.append(number_dict[int(number)])\n",
    "    except:\n",
    "        pass"
   ]
  },
  {
   "cell_type": "code",
   "execution_count": null,
   "metadata": {},
   "outputs": [],
   "source": [
    "#hide\n",
    "board_inputs = keras.Input(shape=(8, 8, 12))\n",
    "conv1= layers.Conv2D(10, 3, activation='relu')\n",
    "conv2 = layers.Conv2D(10, 3, activation='relu')\n",
    "pooling1 = layers.MaxPooling2D(pool_size=(2, 2), strides=None, padding=\"valid\", data_format=None,)\n",
    "pooling2 = layers.MaxPooling2D(pool_size=(2, 2), strides=None, padding=\"valid\", data_format=None,)\n",
    "flatten = keras.layers.Flatten(data_format=None)\n",
    "x = conv1(board_inputs)\n",
    "x = pooling1(x)\n",
    "x = conv2(x)\n",
    "x = flatten(x)\n",
    "piece_output = layers.Dense(12,name = 'piece')(x)\n",
    "model_pieces = keras.Model(inputs=board_inputs, outputs=piece_output, name=\"chess_ai_v3\")\n",
    "earlystop = keras.callbacks.EarlyStopping(monitor='loss', min_delta=0, patience=250, verbose=0, mode='auto', baseline=None, restore_best_weights=True)\n",
    "model_pieces.compile(\n",
    "    loss=keras.losses.mse,\n",
    "    optimizer=keras.optimizers.Adam(),\n",
    "    metrics=None,\n",
    ")\n",
    "model_pieces.fit(trans_data[:len(pieces)],pieces[:len(pieces)],batch_size=64, epochs=100,callbacks = [earlystop])\n",
    "clear_output()\n",
    "board_inputs = keras.Input(shape=(8, 8, 12))\n",
    "conv1= layers.Conv2D(10, 3, activation='relu')\n",
    "conv2 = layers.Conv2D(10, 3, activation='relu')\n",
    "pooling1 = layers.MaxPooling2D(pool_size=(2, 2), strides=None, padding=\"valid\", data_format=None,)\n",
    "pooling2 = layers.MaxPooling2D(pool_size=(2, 2), strides=None, padding=\"valid\", data_format=None,)\n",
    "flatten = keras.layers.Flatten(data_format=None)\n",
    "x = conv1(board_inputs)\n",
    "x = pooling1(x)\n",
    "x = conv2(x)\n",
    "x = flatten(x)\n",
    "alpha_output = layers.Dense(7,name = 'alpha')(x)\n",
    "model_alpha = keras.Model(inputs=board_inputs, outputs=alpha_output, name=\"chess_ai_v3\")\n",
    "earlystop = keras.callbacks.EarlyStopping(monitor='loss', min_delta=0, patience=250, verbose=0, mode='auto', baseline=None, restore_best_weights=True)\n",
    "model_alpha.compile(\n",
    "    loss=keras.losses.mse,\n",
    "    optimizer=keras.optimizers.Adam(),\n",
    "    metrics=None,\n",
    ")\n",
    "model_alpha.fit(trans_data[:len(alphas)],alphas[:len(alphas)],batch_size=64, epochs=100,callbacks = [earlystop])\n",
    "clear_output()\n",
    "board_inputs = keras.Input(shape=(8, 8, 12))\n",
    "conv1= layers.Conv2D(10, 3, activation='relu')\n",
    "conv2 = layers.Conv2D(10, 3, activation='relu')\n",
    "pooling1 = layers.MaxPooling2D(pool_size=(2, 2), strides=None, padding=\"valid\", data_format=None,)\n",
    "pooling2 = layers.MaxPooling2D(pool_size=(2, 2), strides=None, padding=\"valid\", data_format=None,)\n",
    "flatten = keras.layers.Flatten(data_format=None)\n",
    "x = conv1(board_inputs)\n",
    "x = pooling1(x)\n",
    "x = conv2(x)\n",
    "x = flatten(x)\n",
    "numbers_output = layers.Dense(7,name = 'number')(x)\n",
    "model_number = keras.Model(inputs=board_inputs, outputs=numbers_output, name=\"chess_ai_v3\")\n",
    "earlystop = keras.callbacks.EarlyStopping(monitor='loss', min_delta=0, patience=250, verbose=0, mode='auto', baseline=None, restore_best_weights=True)\n",
    "model_number.compile(\n",
    "    loss=keras.losses.mse,\n",
    "    optimizer=keras.optimizers.Adam(),\n",
    "    metrics=None,\n",
    ")\n",
    "model_number.fit(trans_data[:len(numbers)],numbers[:len(numbers)],batch_size=64, epochs=100,callbacks = [earlystop])\n",
    "clear_output()"
   ]
  },
  {
   "cell_type": "code",
   "execution_count": null,
   "metadata": {},
   "outputs": [],
   "source": [
    "#hide\n",
    "new_chess_dict = {}\n",
    "new_alpha_dict = {}\n",
    "new_number_dict = {}\n",
    "for term in chess_dict:\n",
    "    definition = tuple(chess_dict[term])\n",
    "    new_chess_dict[definition] = term\n",
    "    new_chess_dict[term] = definition\n",
    "    \n",
    "for term in alpha_dict:\n",
    "    definition = tuple(alpha_dict[term])\n",
    "    new_alpha_dict[definition] = term\n",
    "    new_alpha_dict[term] = definition\n",
    "    \n",
    "for term in number_dict:\n",
    "    definition = tuple(number_dict[term])\n",
    "    new_number_dict[definition] = term\n",
    "    new_number_dict[term] = definition\n",
    "data = np.reshape(trans_data[0],(1,8,8,12))\n",
    "pred = model_pieces.predict(data)\n",
    "def translate_pred(pred):\n",
    "    translation = np.zeros(pred.shape)\n",
    "    index = pred[0].tolist().index(max(pred[0]))\n",
    "    translation[0][index] = 1\n",
    "    return translation[0]\n",
    "piece = translate_pred(model_pieces.predict(data))\n",
    "alpha = translate_pred(model_alpha.predict(data))\n",
    "number = translate_pred(model_alpha.predict(data))\n",
    "piece_pred = new_chess_dict[tuple(piece)]\n",
    "alpha_pred = new_alpha_dict[tuple(alpha)]\n",
    "number_pred = new_number_dict[tuple(number)]\n",
    "move =str(piece_pred)+str(alpha_pred)+str(number_pred)"
   ]
  },
  {
   "cell_type": "markdown",
   "metadata": {},
   "source": [
    "Developed by [Cleber Jorge Amaral](https://cleberjamaral.github.io/).\n",
    "\n",
    "Sources:\n",
    "* [Creating A Chess AI using Deep Learning - Victor Sim's article](https://towardsdatascience.com/creating-a-chess-ai-using-deep-learning-d5278ea7dcf)\n",
    "* [Portable Game Notation](https://en.wikipedia.org/wiki/Portable_Game_Notation)"
   ]
  },
  {
   "cell_type": "code",
   "execution_count": null,
   "metadata": {},
   "outputs": [],
   "source": []
  }
 ],
 "metadata": {
  "kernelspec": {
   "display_name": "Python 3",
   "language": "python",
   "name": "python3"
  },
  "language_info": {
   "codemirror_mode": {
    "name": "ipython",
    "version": 3
   },
   "file_extension": ".py",
   "mimetype": "text/x-python",
   "name": "python",
   "nbconvert_exporter": "python",
   "pygments_lexer": "ipython3",
   "version": "3.8.2"
  }
 },
 "nbformat": 4,
 "nbformat_minor": 4
}
