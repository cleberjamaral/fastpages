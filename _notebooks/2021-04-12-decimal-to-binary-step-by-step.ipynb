{
 "cells": [
  {
   "cell_type": "markdown",
   "metadata": {},
   "source": [
    "# Decimal to binary step by step\n",
    "> Convert a decimal number to binary base step by step\n",
    "\n",
    "- toc: false\n",
    "- badges: true\n",
    "- comments: true\n",
    "- author: Cleber Jorge Amaral\n",
    "- categories: [jupyter, digitalmente]\n",
    "- image: images/DecToBin_ManimCE_v0.5.0.png"
   ]
  },
  {
   "cell_type": "markdown",
   "metadata": {},
   "source": [
    "## Converting a base 10 number to a base 2 number\n",
    "\n",
    "This videos shows step by step how to convert a decimal number to a binary number, first dividing the given decimal number by 2, followed by the division of the quotient by 2 again until the quotient is less than 2. The final binary is given by the remainders of the divisions in which the remainder of the last division is the Most Significant Bit (MSB) and the remainder of the first division is the Least Significant Bit (LSB)."
   ]
  },
  {
   "cell_type": "markdown",
   "metadata": {},
   "source": [
    "### Let us consider the decimal 67\n",
    "\n",
    "To run it, please use the [Interactive Notebook](https://mybinder.org/v2/gist/behackl/725d956ec80969226b7bf9b4aef40b78/HEAD?filepath=basic%20example%20scenes.ipynb) provided by Manim Community. First run the cell for importing manim library (`from manim import *`), copy and paste the content below in another cell and run it."
   ]
  },
  {
   "cell_type": "code",
   "execution_count": 3,
   "metadata": {},
   "outputs": [],
   "source": [
    "from manim import *"
   ]
  },
  {
   "cell_type": "code",
   "execution_count": 5,
   "metadata": {},
   "outputs": [
    {
     "name": "stderr",
     "output_type": "stream",
     "text": [
      "<string>:99: DeprecationWarning: This method is not guaranteed to stay around. Please prefer getting the attribute normally.\n",
      "<string>:101: DeprecationWarning: This method is not guaranteed to stay around. Please prefer getting the attribute normally.\n",
      "<string>:99: DeprecationWarning: This method is not guaranteed to stay around. Please prefer getting the attribute normally.\n",
      "<string>:101: DeprecationWarning: This method is not guaranteed to stay around. Please prefer getting the attribute normally.\n",
      "<string>:99: DeprecationWarning: This method is not guaranteed to stay around. Please prefer getting the attribute normally.\n",
      "<string>:101: DeprecationWarning: This method is not guaranteed to stay around. Please prefer getting the attribute normally.\n",
      "<string>:99: DeprecationWarning: This method is not guaranteed to stay around. Please prefer getting the attribute normally.\n",
      "<string>:101: DeprecationWarning: This method is not guaranteed to stay around. Please prefer getting the attribute normally.\n",
      "<string>:99: DeprecationWarning: This method is not guaranteed to stay around. Please prefer getting the attribute normally.\n",
      "<string>:101: DeprecationWarning: This method is not guaranteed to stay around. Please prefer getting the attribute normally.\n",
      "<string>:99: DeprecationWarning: This method is not guaranteed to stay around. Please prefer getting the attribute normally.\n",
      "<string>:101: DeprecationWarning: This method is not guaranteed to stay around. Please prefer getting the attribute normally.\n",
      "<string>:54: DeprecationWarning: This method is not guaranteed to stay around. Please prefer getting the attribute normally.\n",
      "<string>:54: DeprecationWarning: This method is not guaranteed to stay around. Please prefer setting the attribute normally or with Mobject.set().\n",
      "<string>:54: DeprecationWarning: This method is not guaranteed to stay around. Please prefer getting the attribute normally.\n",
      "<string>:54: DeprecationWarning: This method is not guaranteed to stay around. Please prefer setting the attribute normally or with Mobject.set().\n",
      "<string>:54: DeprecationWarning: This method is not guaranteed to stay around. Please prefer getting the attribute normally.\n",
      "<string>:54: DeprecationWarning: This method is not guaranteed to stay around. Please prefer setting the attribute normally or with Mobject.set().\n",
      "<string>:54: DeprecationWarning: This method is not guaranteed to stay around. Please prefer getting the attribute normally.\n",
      "<string>:54: DeprecationWarning: This method is not guaranteed to stay around. Please prefer setting the attribute normally or with Mobject.set().\n",
      "<string>:54: DeprecationWarning: This method is not guaranteed to stay around. Please prefer getting the attribute normally.\n",
      "<string>:54: DeprecationWarning: This method is not guaranteed to stay around. Please prefer setting the attribute normally or with Mobject.set().\n",
      "<string>:54: DeprecationWarning: This method is not guaranteed to stay around. Please prefer getting the attribute normally.\n",
      "<string>:54: DeprecationWarning: This method is not guaranteed to stay around. Please prefer setting the attribute normally or with Mobject.set().\n",
      "<string>:54: DeprecationWarning: This method is not guaranteed to stay around. Please prefer getting the attribute normally.\n",
      "<string>:54: DeprecationWarning: This method is not guaranteed to stay around. Please prefer setting the attribute normally or with Mobject.set().\n",
      "                                                                                        \r"
     ]
    },
    {
     "data": {
      "text/html": [
       "<video src=\"media/jupyter/29a3579fac9ea65a279f3dff5a43d2bbed34f52c.mp4\" controls autoplay loop style=\"max-width: 25vw;\"  >\n",
       "      Your browser does not support the <code>video</code> element.\n",
       "    </video>"
      ],
      "text/plain": [
       "<IPython.core.display.Video object>"
      ]
     },
     "metadata": {},
     "output_type": "display_data"
    }
   ],
   "source": [
    "%%manim DecToBin -ql -v ERROR\n",
    "\n",
    "class DecToBin(Scene):\n",
    "    def print_result(self, dividend, divisor, dd, dv, rlist):\n",
    "        quotient = dividend // divisor\n",
    "        remainder = dividend % divisor\n",
    "\n",
    "        re = Tex(str(remainder)).next_to(dd, DOWN, buff=MED_SMALL_BUFF)\n",
    "        rlist.append(re)\n",
    "        qu = Tex(str(quotient)).next_to(dv, DOWN, buff=MED_SMALL_BUFF)\n",
    "        self.play(Write(qu))\n",
    "        self.play(Write(re))\n",
    "\n",
    "        ndv = Tex(str(divisor)).next_to(qu, RIGHT, buff=MED_SMALL_BUFF)\n",
    "        if quotient >= divisor:\n",
    "            semi_box = SemiBox(ndv, color = YELLOW)\n",
    "            self.play(ShowCreation(semi_box))\n",
    "            self.play(Write(ndv))\n",
    "\n",
    "        return quotient, qu, ndv\n",
    "\n",
    "    def construct(self):\n",
    "        dividend = 67\n",
    "        divisor = 2\n",
    "\n",
    "        dd = Tex(str(dividend))\n",
    "        self.play(Write(dd))\n",
    "        self.play(dd.animate.to_corner(UP + LEFT))\n",
    "        dv = Tex(str(divisor)).next_to(dd, RIGHT, buff=MED_SMALL_BUFF)\n",
    "        semi_box = SemiBox(dv, color = YELLOW)\n",
    "        self.play(ShowCreation(semi_box))\n",
    "        self.play(Write(dv))\n",
    "\n",
    "        rlist = []\n",
    "        quotient, qu, ndv = self.print_result(dividend, divisor, dd, dv, rlist)\n",
    "        while quotient >= divisor:\n",
    "            quotient, qu, ndv = self.print_result(quotient, divisor, qu, ndv, rlist);\n",
    "        bin = qu.copy()\n",
    "\n",
    "        rect = SurroundingRectangle(qu, color = PINK)\n",
    "        self.play(ShowCreation(rect))\n",
    "        clist = [bin]\n",
    "        for r in reversed(rlist):\n",
    "            rect = SurroundingRectangle(r, color = PINK)\n",
    "            self.play(ShowCreation(rect))\n",
    "            rem = r.copy()\n",
    "            clist.append(rem)\n",
    "\n",
    "        for c in clist:\n",
    "            c.generate_target()\n",
    "            if clist.index(c) == 0:\n",
    "                c.target.move_to(ORIGIN)\n",
    "            else:\n",
    "                c.target.next_to(clist[clist.index(c)-1], RIGHT)\n",
    "            c.set_height(2*c.get_height())\n",
    "            self.play(\n",
    "                MoveToTarget(c)\n",
    "            )\n",
    "            self.play(\n",
    "                c.animate.scale(1.5)\n",
    "            )\n",
    "\n",
    "        amsb = Arrow(start=UP, end=DOWN, buff=SMALL_BUFF).next_to(clist[0], DOWN)\n",
    "        msb = Tex(r\"MSB\").next_to(amsb, DOWN)\n",
    "        tmsb = Tex(r\"Most~Significant~Bit\")\n",
    "        tmsb.next_to(msb, DOWN)\n",
    "        tmsb.scale(0.8)\n",
    "        amsb.set_color(GREEN)\n",
    "        msb.set_color(GREEN)\n",
    "        tmsb.set_color(GREEN)\n",
    "        self.play(\n",
    "            ShowCreation(amsb),\n",
    "            ShowCreation(msb),\n",
    "            ShowCreation(tmsb),\n",
    "            tmsb.animate.shift(LEFT),\n",
    "            clist[0].animate.scale(1.5)\n",
    "        )\n",
    "\n",
    "        alsb = Arrow(start=UP, end=DOWN, buff=SMALL_BUFF).next_to(clist[-1], DOWN)\n",
    "        lsb = Tex(r\"LSB\").next_to(alsb, DOWN)\n",
    "        tlsb = Tex(r\"Least~Significant~Bit\")\n",
    "        tlsb.scale(0.8)\n",
    "        tlsb.next_to(lsb, DOWN)\n",
    "        alsb.set_color(BLUE)\n",
    "        lsb.set_color(BLUE)\n",
    "        tlsb.set_color(BLUE)\n",
    "        self.play(\n",
    "            ShowCreation(alsb),\n",
    "            ShowCreation(lsb),\n",
    "            ShowCreation(tlsb),\n",
    "            tlsb.animate.shift(RIGHT*1.5),\n",
    "            clist[-1].animate.scale(0.75)\n",
    "        )\n",
    "\n",
    "        self.wait()\n",
    "        \n",
    "class SemiBox(VGroup):\n",
    "    def __init__(self, mobject, **kwargs):\n",
    "        VGroup.__init__(self, **kwargs)\n",
    "        hline = Line(start=[-0.2,0,0], end=[mobject.get_width(),0,0], stroke_color=YELLOW).next_to(mobject, DOWN, buff=SMALL_BUFF)\n",
    "        hline.set_stroke(self.stroke_color)\n",
    "        vline = Line(start=[0,-0.2,0], end=[0,mobject.get_height(),0], stroke_color=YELLOW).next_to(mobject, LEFT, buff=SMALL_BUFF)\n",
    "        vline.set_stroke(self.stroke_color)\n",
    "        self.add(hline, vline)"
   ]
  },
  {
   "cell_type": "markdown",
   "metadata": {},
   "source": [
    "This notebook uses [Manim](https://github.com/ManimCommunity/manim).\n",
    "Manim is an animation engine for explanatory math videos. It's used to create precise animations programmatically, as demonstrated in the videos of [3Blue1Brown](https://www.3blue1brown.com).\n",
    "\n",
    "Animations created by [Cleber Jorge Amaral](http://cleberjamaral.github.io/)."
   ]
  },
  {
   "cell_type": "markdown",
   "metadata": {},
   "source": [
    "[![DecToBin](../images/DecToBin_ManimCE_v0.5.0.png)](https://youtu.be/I5KQFJDJzdU \"Decimal to Binary\")"
   ]
  },
  {
   "cell_type": "code",
   "execution_count": null,
   "metadata": {},
   "outputs": [],
   "source": []
  }
 ],
 "metadata": {
  "kernelspec": {
   "display_name": "Python 3",
   "language": "python",
   "name": "python3"
  },
  "language_info": {
   "codemirror_mode": {
    "name": "ipython",
    "version": 3
   },
   "file_extension": ".py",
   "mimetype": "text/x-python",
   "name": "python",
   "nbconvert_exporter": "python",
   "pygments_lexer": "ipython3",
   "version": "3.8.2"
  }
 },
 "nbformat": 4,
 "nbformat_minor": 4
}
