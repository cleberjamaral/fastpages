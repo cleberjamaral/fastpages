{
 "cells": [
  {
   "cell_type": "markdown",
   "metadata": {
    "papermill": {
     "duration": 0.018943,
     "end_time": "2020-04-28T12:08:06.188782",
     "exception": false,
     "start_time": "2020-04-28T12:08:06.169839",
     "status": "completed"
    },
    "tags": []
   },
   "source": [
    "# Achate a curva\n",
    "> Número de casos ativos e estimativa de leitos de UTI total e para pacientes covid-19\n",
    "\n",
    "- toc: true\n",
    "- badges: true\n",
    "- comments: true\n",
    "- author: Cleber Jorge Amaral\n",
    "- categories: [jupyter]\n",
    "- image: images/brazil-flatten-the-curve.png"
   ]
  },
  {
   "cell_type": "code",
   "execution_count": 1,
   "metadata": {
    "execution": {
     "iopub.execute_input": "2020-04-28T12:08:06.220739Z",
     "iopub.status.busy": "2020-04-28T12:08:06.220132Z",
     "iopub.status.idle": "2020-04-28T12:08:06.644708Z",
     "shell.execute_reply": "2020-04-28T12:08:06.643619Z"
    },
    "papermill": {
     "duration": 0.441167,
     "end_time": "2020-04-28T12:08:06.644848",
     "exception": false,
     "start_time": "2020-04-28T12:08:06.203681",
     "status": "completed"
    },
    "tags": []
   },
   "outputs": [
    {
     "name": "stderr",
     "output_type": "stream",
     "text": [
      "/usr/local/lib/python3.8/site-packages/pandas/compat/__init__.py:117: UserWarning: Could not import the lzma module. Your installed Python is incomplete. Attempting to use lzma compression will result in a RuntimeError.\n",
      "  warnings.warn(msg)\n"
     ]
    }
   ],
   "source": [
    "#hide\n",
    "import pandas as pd\n",
    "import altair as alt\n",
    "import math\n",
    "from IPython.display import HTML\n",
    "\n",
    "CHART_WIDTH = 600\n",
    "CHART_HEIGHT = 400"
   ]
  },
  {
   "cell_type": "code",
   "execution_count": 2,
   "metadata": {},
   "outputs": [],
   "source": [
    "#hide\n",
    "STATE_COLUMN = \"Estado\"\n",
    "DATE_COLUMN = \"Data\"\n",
    "CONFIRMED_CASES = 'Casos confirmados'\n",
    "DEATHS = 'Mortes'\n",
    "ACTIVE_COLUMN = \"Casos Ativos\"\n",
    "VALUE = \"Valor\"\n",
    "CASES_NEED_ICU = 0.12\n",
    "POPULATION = 211000000\n",
    "ICU_PER_100k = 20\n",
    "TOTAL_ICU = (211000000 / 100000 * 20) + 1456\n",
    "AVAILABLE_PERCENTAGE_ICU = 0.3\n",
    "TOTAL_AVAILABLE_ICU = TOTAL_ICU * AVAILABLE_PERCENTAGE_ICU\n",
    "CASES_NEED_ICU_COLUMN = \"Precisam de UTI\"\n",
    "CASES_DONT_NEED_ICU_COLUMN = \"Sem necessidade de UTI\"\n",
    "PATIENTS = \"Pacientes\""
   ]
  },
  {
   "cell_type": "code",
   "execution_count": 3,
   "metadata": {
    "scrolled": true
   },
   "outputs": [
    {
     "name": "stderr",
     "output_type": "stream",
     "text": [
      "<ipython-input-3-39af19bb8182>:8: SettingWithCopyWarning: \n",
      "A value is trying to be set on a copy of a slice from a DataFrame.\n",
      "Try using .loc[row_indexer,col_indexer] = value instead\n",
      "\n",
      "See the caveats in the documentation: https://pandas.pydata.org/pandas-docs/stable/user_guide/indexing.html#returning-a-view-versus-a-copy\n",
      "  df_cases['base'] = 'cases'\n",
      "<ipython-input-3-39af19bb8182>:12: SettingWithCopyWarning: \n",
      "A value is trying to be set on a copy of a slice from a DataFrame.\n",
      "Try using .loc[row_indexer,col_indexer] = value instead\n",
      "\n",
      "See the caveats in the documentation: https://pandas.pydata.org/pandas-docs/stable/user_guide/indexing.html#returning-a-view-versus-a-copy\n",
      "  df_recoveries['base'] = 'recoveries'\n",
      "<ipython-input-3-39af19bb8182>:16: SettingWithCopyWarning: \n",
      "A value is trying to be set on a copy of a slice from a DataFrame.\n",
      "Try using .loc[row_indexer,col_indexer] = value instead\n",
      "\n",
      "See the caveats in the documentation: https://pandas.pydata.org/pandas-docs/stable/user_guide/indexing.html#returning-a-view-versus-a-copy\n",
      "  df_deaths['base'] = 'deaths'\n"
     ]
    }
   ],
   "source": [
    "#hide\n",
    "url_cases = ('https://raw.githubusercontent.com/CSSEGISandData/COVID-19/master/csse_covid_19_data/csse_covid_19_time_series/time_series_covid19_confirmed_global.csv')\n",
    "url_deaths = ('https://raw.githubusercontent.com/CSSEGISandData/COVID-19/master/csse_covid_19_data/csse_covid_19_time_series/time_series_covid19_deaths_global.csv')\n",
    "url_recoveries = ('https://raw.githubusercontent.com/CSSEGISandData/COVID-19/master/csse_covid_19_data/csse_covid_19_time_series/time_series_covid19_recovered_global.csv')\n",
    "\n",
    "src = pd.read_csv(url_cases)\n",
    "df_cases = src[(src['Country/Region'] == 'Brazil')]\n",
    "df_cases['base'] = 'cases'\n",
    "\n",
    "src = pd.read_csv(url_recoveries)\n",
    "df_recoveries = src[(src['Country/Region'] == 'Brazil')]\n",
    "df_recoveries['base'] = 'recoveries'\n",
    "\n",
    "src = pd.read_csv(url_deaths)\n",
    "df_deaths = src[(src['Country/Region'] == 'Brazil')]\n",
    "df_deaths['base'] = 'deaths'\n",
    "\n",
    "df = [df_cases, df_recoveries, df_deaths]\n",
    "df = pd.concat(df)\n",
    "\n",
    "df = df.drop(['Province/State', 'Country/Region', 'Lat', 'Long'], axis=1)\n",
    "#df = df.reset_index()\n",
    "\n",
    "# Add active cases row\n",
    "df = df.set_index('base')\n",
    "new_row = df.loc['cases'] - df.loc['recoveries'] - df.loc['deaths']\n",
    "new_row.name = 'actives'\n",
    "df = df.append([new_row])\n",
    "# Reset index after added new row\n",
    "df = df.reset_index()\n",
    "df = df.rename(columns={\"index\":\"base\"})\n",
    "\n",
    "# Melt structure (unpivot)\n",
    "dt_cols = list(df.columns[~df.columns.isin(['base','index'])])\n",
    "df = df.melt(id_vars=['base'], value_vars=dt_cols)\n",
    "df = df.rename(columns={\n",
    "     \"base\": STATE_COLUMN, \n",
    "     \"variable\":DATE_COLUMN, \n",
    "     \"value\":VALUE,\n",
    "     \"actives\": ACTIVE_COLUMN\n",
    "})\n",
    "df[DATE_COLUMN] = pd.to_datetime(df[DATE_COLUMN])\n",
    "df[DATE_COLUMN] = df[DATE_COLUMN].dt.strftime('%m/%d/%y')\n",
    "df = df.sort_values(by=[DATE_COLUMN])\n",
    "\n",
    "df = df[df[STATE_COLUMN].isin(['actives'])]\n",
    "\n",
    "data = df.copy()\n",
    "#df.tail()"
   ]
  },
  {
   "cell_type": "code",
   "execution_count": 4,
   "metadata": {},
   "outputs": [],
   "source": [
    "#hide\n",
    "df = data.copy()\n",
    "STATE_COLUMN = PATIENTS\n",
    "df[VALUE] = round(df[VALUE] * (CASES_NEED_ICU),0)\n",
    "df[STATE_COLUMN] = CASES_NEED_ICU_COLUMN\n",
    "df = df.rename(columns={VALUE:ACTIVE_COLUMN})"
   ]
  },
  {
   "cell_type": "code",
   "execution_count": 5,
   "metadata": {},
   "outputs": [
    {
     "data": {
      "text/html": [
       "\n",
       "<div id=\"altair-viz-f23b8e99ba1b4028b7d4e02ec94bac7b\"></div>\n",
       "<script type=\"text/javascript\">\n",
       "  (function(spec, embedOpt){\n",
       "    let outputDiv = document.currentScript.previousElementSibling;\n",
       "    if (outputDiv.id !== \"altair-viz-f23b8e99ba1b4028b7d4e02ec94bac7b\") {\n",
       "      outputDiv = document.getElementById(\"altair-viz-f23b8e99ba1b4028b7d4e02ec94bac7b\");\n",
       "    }\n",
       "    const paths = {\n",
       "      \"vega\": \"https://cdn.jsdelivr.net/npm//vega@5?noext\",\n",
       "      \"vega-lib\": \"https://cdn.jsdelivr.net/npm//vega-lib?noext\",\n",
       "      \"vega-lite\": \"https://cdn.jsdelivr.net/npm//vega-lite@4.8.1?noext\",\n",
       "      \"vega-embed\": \"https://cdn.jsdelivr.net/npm//vega-embed@6?noext\",\n",
       "    };\n",
       "\n",
       "    function loadScript(lib) {\n",
       "      return new Promise(function(resolve, reject) {\n",
       "        var s = document.createElement('script');\n",
       "        s.src = paths[lib];\n",
       "        s.async = true;\n",
       "        s.onload = () => resolve(paths[lib]);\n",
       "        s.onerror = () => reject(`Error loading script: ${paths[lib]}`);\n",
       "        document.getElementsByTagName(\"head\")[0].appendChild(s);\n",
       "      });\n",
       "    }\n",
       "\n",
       "    function showError(err) {\n",
       "      outputDiv.innerHTML = `<div class=\"error\" style=\"color:red;\">${err}</div>`;\n",
       "      throw err;\n",
       "    }\n",
       "\n",
       "    function displayChart(vegaEmbed) {\n",
       "      vegaEmbed(outputDiv, spec, embedOpt)\n",
       "        .catch(err => showError(`Javascript Error: ${err.message}<br>This usually means there's a typo in your chart specification. See the javascript console for the full traceback.`));\n",
       "    }\n",
       "\n",
       "    if(typeof define === \"function\" && define.amd) {\n",
       "      requirejs.config({paths});\n",
       "      require([\"vega-embed\"], displayChart, err => showError(`Error loading script: ${err.message}`));\n",
       "    } else if (typeof vegaEmbed === \"function\") {\n",
       "      displayChart(vegaEmbed);\n",
       "    } else {\n",
       "      loadScript(\"vega\")\n",
       "        .then(() => loadScript(\"vega-lite\"))\n",
       "        .then(() => loadScript(\"vega-embed\"))\n",
       "        .catch(showError)\n",
       "        .then(() => displayChart(vegaEmbed));\n",
       "    }\n",
       "  })({\"config\": {\"view\": {\"continuousWidth\": 400, \"continuousHeight\": 300}}, \"hconcat\": [{\"layer\": [{\"data\": {\"name\": \"data-d02234cae1ff752a4acbdb89a9e2b675\"}, \"mark\": \"bar\", \"encoding\": {\"color\": {\"condition\": {\"type\": \"nominal\", \"field\": \"Pacientes\", \"legend\": null, \"scale\": {\"reverse\": false, \"scheme\": \"tableau20\"}, \"selection\": \"selector001\"}, \"value\": \"#ffbf79\"}, \"order\": {\"type\": \"nominal\", \"field\": \"Pacientes\", \"sort\": \"ascending\"}, \"tooltip\": [{\"type\": \"nominal\", \"field\": \"Data\"}, {\"type\": \"nominal\", \"field\": \"Pacientes\"}, {\"type\": \"quantitative\", \"field\": \"Casos Ativos\"}], \"x\": {\"type\": \"ordinal\", \"axis\": {\"title\": \"Data\"}, \"field\": \"Data\"}, \"y\": {\"type\": \"quantitative\", \"axis\": {\"title\": \"12% dos Casos Ativos\"}, \"field\": \"Casos Ativos\"}}, \"height\": 400, \"selection\": {\"selector001\": {\"type\": \"multi\", \"fields\": [\"Pacientes\"], \"on\": \"mouseover\"}}, \"title\": [\"Achate a curva - apenas os ativos que estima-se que precisem de UTI\", \" * ver premissas\"], \"width\": 600}, {\"data\": {\"name\": \"data-34d9b806eba4af7cf55b2faaa85e55a5\"}, \"mark\": {\"type\": \"rule\", \"color\": \"#e42726\", \"strokeWidth\": 2}, \"encoding\": {\"y\": {\"type\": \"quantitative\", \"field\": \"y\"}}}, {\"data\": {\"name\": \"data-34d9b806eba4af7cf55b2faaa85e55a5\"}, \"mark\": {\"type\": \"text\", \"align\": \"left\", \"color\": \"#e42726\", \"dy\": 10, \"strokeWidth\": 1, \"x\": 5}, \"encoding\": {\"text\": {\"value\": \"UTIs para pacientes COVID19: 13097\"}, \"y\": {\"type\": \"quantitative\", \"field\": \"y\"}}}]}, {\"data\": {\"name\": \"data-d02234cae1ff752a4acbdb89a9e2b675\"}, \"mark\": \"point\", \"encoding\": {\"color\": {\"condition\": {\"type\": \"nominal\", \"field\": \"Pacientes\", \"legend\": null, \"scale\": {\"reverse\": false, \"scheme\": \"tableau20\"}, \"selection\": \"selector001\"}, \"value\": \"#ffbf79\"}, \"y\": {\"type\": \"nominal\", \"axis\": {\"orient\": \"right\"}, \"field\": \"Pacientes\"}}}], \"$schema\": \"https://vega.github.io/schema/vega-lite/v4.8.1.json\", \"datasets\": {\"data-d02234cae1ff752a4acbdb89a9e2b675\": [{\"Estado\": \"actives\", \"Data\": \"01/22/20\", \"Casos Ativos\": 0.0, \"Pacientes\": \"Precisam de UTI\"}, {\"Estado\": \"actives\", \"Data\": \"01/23/20\", \"Casos Ativos\": 0.0, \"Pacientes\": \"Precisam de UTI\"}, {\"Estado\": \"actives\", \"Data\": \"01/24/20\", \"Casos Ativos\": 0.0, \"Pacientes\": \"Precisam de UTI\"}, {\"Estado\": \"actives\", \"Data\": \"01/25/20\", \"Casos Ativos\": 0.0, \"Pacientes\": \"Precisam de UTI\"}, {\"Estado\": \"actives\", \"Data\": \"01/26/20\", \"Casos Ativos\": 0.0, \"Pacientes\": \"Precisam de UTI\"}, {\"Estado\": \"actives\", \"Data\": \"01/27/20\", \"Casos Ativos\": 0.0, \"Pacientes\": \"Precisam de UTI\"}, {\"Estado\": \"actives\", \"Data\": \"01/28/20\", \"Casos Ativos\": 0.0, \"Pacientes\": \"Precisam de UTI\"}, {\"Estado\": \"actives\", \"Data\": \"01/29/20\", \"Casos Ativos\": 0.0, \"Pacientes\": \"Precisam de UTI\"}, {\"Estado\": \"actives\", \"Data\": \"01/30/20\", \"Casos Ativos\": 0.0, \"Pacientes\": \"Precisam de UTI\"}, {\"Estado\": \"actives\", \"Data\": \"01/31/20\", \"Casos Ativos\": 0.0, \"Pacientes\": \"Precisam de UTI\"}, {\"Estado\": \"actives\", \"Data\": \"02/01/20\", \"Casos Ativos\": 0.0, \"Pacientes\": \"Precisam de UTI\"}, {\"Estado\": \"actives\", \"Data\": \"02/02/20\", \"Casos Ativos\": 0.0, \"Pacientes\": \"Precisam de UTI\"}, {\"Estado\": \"actives\", \"Data\": \"02/03/20\", \"Casos Ativos\": 0.0, \"Pacientes\": \"Precisam de UTI\"}, {\"Estado\": \"actives\", \"Data\": \"02/04/20\", \"Casos Ativos\": 0.0, \"Pacientes\": \"Precisam de UTI\"}, {\"Estado\": \"actives\", \"Data\": \"02/05/20\", \"Casos Ativos\": 0.0, \"Pacientes\": \"Precisam de UTI\"}, {\"Estado\": \"actives\", \"Data\": \"02/06/20\", \"Casos Ativos\": 0.0, \"Pacientes\": \"Precisam de UTI\"}, {\"Estado\": \"actives\", \"Data\": \"02/07/20\", \"Casos Ativos\": 0.0, \"Pacientes\": \"Precisam de UTI\"}, {\"Estado\": \"actives\", \"Data\": \"02/08/20\", \"Casos Ativos\": 0.0, \"Pacientes\": \"Precisam de UTI\"}, {\"Estado\": \"actives\", \"Data\": \"02/09/20\", \"Casos Ativos\": 0.0, \"Pacientes\": \"Precisam de UTI\"}, {\"Estado\": \"actives\", \"Data\": \"02/10/20\", \"Casos Ativos\": 0.0, \"Pacientes\": \"Precisam de UTI\"}, {\"Estado\": \"actives\", \"Data\": \"02/11/20\", \"Casos Ativos\": 0.0, \"Pacientes\": \"Precisam de UTI\"}, {\"Estado\": \"actives\", \"Data\": \"02/12/20\", \"Casos Ativos\": 0.0, \"Pacientes\": \"Precisam de UTI\"}, {\"Estado\": \"actives\", \"Data\": \"02/13/20\", \"Casos Ativos\": 0.0, \"Pacientes\": \"Precisam de UTI\"}, {\"Estado\": \"actives\", \"Data\": \"02/14/20\", \"Casos Ativos\": 0.0, \"Pacientes\": \"Precisam de UTI\"}, {\"Estado\": \"actives\", \"Data\": \"02/15/20\", \"Casos Ativos\": 0.0, \"Pacientes\": \"Precisam de UTI\"}, {\"Estado\": \"actives\", \"Data\": \"02/16/20\", \"Casos Ativos\": 0.0, \"Pacientes\": \"Precisam de UTI\"}, {\"Estado\": \"actives\", \"Data\": \"02/17/20\", \"Casos Ativos\": 0.0, \"Pacientes\": \"Precisam de UTI\"}, {\"Estado\": \"actives\", \"Data\": \"02/18/20\", \"Casos Ativos\": 0.0, \"Pacientes\": \"Precisam de UTI\"}, {\"Estado\": \"actives\", \"Data\": \"02/19/20\", \"Casos Ativos\": 0.0, \"Pacientes\": \"Precisam de UTI\"}, {\"Estado\": \"actives\", \"Data\": \"02/20/20\", \"Casos Ativos\": 0.0, \"Pacientes\": \"Precisam de UTI\"}, {\"Estado\": \"actives\", \"Data\": \"02/21/20\", \"Casos Ativos\": 0.0, \"Pacientes\": \"Precisam de UTI\"}, {\"Estado\": \"actives\", \"Data\": \"02/22/20\", \"Casos Ativos\": 0.0, \"Pacientes\": \"Precisam de UTI\"}, {\"Estado\": \"actives\", \"Data\": \"02/23/20\", \"Casos Ativos\": 0.0, \"Pacientes\": \"Precisam de UTI\"}, {\"Estado\": \"actives\", \"Data\": \"02/24/20\", \"Casos Ativos\": 0.0, \"Pacientes\": \"Precisam de UTI\"}, {\"Estado\": \"actives\", \"Data\": \"02/25/20\", \"Casos Ativos\": 0.0, \"Pacientes\": \"Precisam de UTI\"}, {\"Estado\": \"actives\", \"Data\": \"02/26/20\", \"Casos Ativos\": 0.0, \"Pacientes\": \"Precisam de UTI\"}, {\"Estado\": \"actives\", \"Data\": \"02/27/20\", \"Casos Ativos\": 0.0, \"Pacientes\": \"Precisam de UTI\"}, {\"Estado\": \"actives\", \"Data\": \"02/28/20\", \"Casos Ativos\": 0.0, \"Pacientes\": \"Precisam de UTI\"}, {\"Estado\": \"actives\", \"Data\": \"02/29/20\", \"Casos Ativos\": 0.0, \"Pacientes\": \"Precisam de UTI\"}, {\"Estado\": \"actives\", \"Data\": \"03/01/20\", \"Casos Ativos\": 0.0, \"Pacientes\": \"Precisam de UTI\"}, {\"Estado\": \"actives\", \"Data\": \"03/02/20\", \"Casos Ativos\": 0.0, \"Pacientes\": \"Precisam de UTI\"}, {\"Estado\": \"actives\", \"Data\": \"03/03/20\", \"Casos Ativos\": 0.0, \"Pacientes\": \"Precisam de UTI\"}, {\"Estado\": \"actives\", \"Data\": \"03/04/20\", \"Casos Ativos\": 0.0, \"Pacientes\": \"Precisam de UTI\"}, {\"Estado\": \"actives\", \"Data\": \"03/05/20\", \"Casos Ativos\": 0.0, \"Pacientes\": \"Precisam de UTI\"}, {\"Estado\": \"actives\", \"Data\": \"03/06/20\", \"Casos Ativos\": 2.0, \"Pacientes\": \"Precisam de UTI\"}, {\"Estado\": \"actives\", \"Data\": \"03/07/20\", \"Casos Ativos\": 2.0, \"Pacientes\": \"Precisam de UTI\"}, {\"Estado\": \"actives\", \"Data\": \"03/08/20\", \"Casos Ativos\": 2.0, \"Pacientes\": \"Precisam de UTI\"}, {\"Estado\": \"actives\", \"Data\": \"03/09/20\", \"Casos Ativos\": 3.0, \"Pacientes\": \"Precisam de UTI\"}, {\"Estado\": \"actives\", \"Data\": \"03/10/20\", \"Casos Ativos\": 4.0, \"Pacientes\": \"Precisam de UTI\"}, {\"Estado\": \"actives\", \"Data\": \"03/11/20\", \"Casos Ativos\": 5.0, \"Pacientes\": \"Precisam de UTI\"}, {\"Estado\": \"actives\", \"Data\": \"03/12/20\", \"Casos Ativos\": 6.0, \"Pacientes\": \"Precisam de UTI\"}, {\"Estado\": \"actives\", \"Data\": \"03/13/20\", \"Casos Ativos\": 18.0, \"Pacientes\": \"Precisam de UTI\"}, {\"Estado\": \"actives\", \"Data\": \"03/14/20\", \"Casos Ativos\": 18.0, \"Pacientes\": \"Precisam de UTI\"}, {\"Estado\": \"actives\", \"Data\": \"03/15/20\", \"Casos Ativos\": 19.0, \"Pacientes\": \"Precisam de UTI\"}, {\"Estado\": \"actives\", \"Data\": \"03/16/20\", \"Casos Ativos\": 24.0, \"Pacientes\": \"Precisam de UTI\"}, {\"Estado\": \"actives\", \"Data\": \"03/17/20\", \"Casos Ativos\": 38.0, \"Pacientes\": \"Precisam de UTI\"}, {\"Estado\": \"actives\", \"Data\": \"03/18/20\", \"Casos Ativos\": 44.0, \"Pacientes\": \"Precisam de UTI\"}, {\"Estado\": \"actives\", \"Data\": \"03/19/20\", \"Casos Ativos\": 74.0, \"Pacientes\": \"Precisam de UTI\"}, {\"Estado\": \"actives\", \"Data\": \"03/20/20\", \"Casos Ativos\": 94.0, \"Pacientes\": \"Precisam de UTI\"}, {\"Estado\": \"actives\", \"Data\": \"03/21/20\", \"Casos Ativos\": 120.0, \"Pacientes\": \"Precisam de UTI\"}, {\"Estado\": \"actives\", \"Data\": \"03/22/20\", \"Casos Ativos\": 182.0, \"Pacientes\": \"Precisam de UTI\"}, {\"Estado\": \"actives\", \"Data\": \"03/23/20\", \"Casos Ativos\": 227.0, \"Pacientes\": \"Precisam de UTI\"}, {\"Estado\": \"actives\", \"Data\": \"03/24/20\", \"Casos Ativos\": 264.0, \"Pacientes\": \"Precisam de UTI\"}, {\"Estado\": \"actives\", \"Data\": \"03/25/20\", \"Casos Ativos\": 299.0, \"Pacientes\": \"Precisam de UTI\"}, {\"Estado\": \"actives\", \"Data\": \"03/26/20\", \"Casos Ativos\": 348.0, \"Pacientes\": \"Precisam de UTI\"}, {\"Estado\": \"actives\", \"Data\": \"03/27/20\", \"Casos Ativos\": 398.0, \"Pacientes\": \"Precisam de UTI\"}, {\"Estado\": \"actives\", \"Data\": \"03/28/20\", \"Casos Ativos\": 454.0, \"Pacientes\": \"Precisam de UTI\"}, {\"Estado\": \"actives\", \"Data\": \"03/29/20\", \"Casos Ativos\": 494.0, \"Pacientes\": \"Precisam de UTI\"}, {\"Estado\": \"actives\", \"Data\": \"03/30/20\", \"Casos Ativos\": 516.0, \"Pacientes\": \"Precisam de UTI\"}, {\"Estado\": \"actives\", \"Data\": \"03/31/20\", \"Casos Ativos\": 647.0, \"Pacientes\": \"Precisam de UTI\"}, {\"Estado\": \"actives\", \"Data\": \"04/01/20\", \"Casos Ativos\": 776.0, \"Pacientes\": \"Precisam de UTI\"}, {\"Estado\": \"actives\", \"Data\": \"04/02/20\", \"Casos Ativos\": 911.0, \"Pacientes\": \"Precisam de UTI\"}, {\"Estado\": \"actives\", \"Data\": \"04/03/20\", \"Casos Ativos\": 1028.0, \"Pacientes\": \"Precisam de UTI\"}, {\"Estado\": \"actives\", \"Data\": \"04/04/20\", \"Casos Ativos\": 1175.0, \"Pacientes\": \"Precisam de UTI\"}, {\"Estado\": \"actives\", \"Data\": \"04/05/20\", \"Casos Ativos\": 1262.0, \"Pacientes\": \"Precisam de UTI\"}, {\"Estado\": \"actives\", \"Data\": \"04/06/20\", \"Casos Ativos\": 1376.0, \"Pacientes\": \"Precisam de UTI\"}, {\"Estado\": \"actives\", \"Data\": \"04/07/20\", \"Casos Ativos\": 1587.0, \"Pacientes\": \"Precisam de UTI\"}, {\"Estado\": \"actives\", \"Data\": \"04/08/20\", \"Casos Ativos\": 1827.0, \"Pacientes\": \"Precisam de UTI\"}, {\"Estado\": \"actives\", \"Data\": \"04/09/20\", \"Casos Ativos\": 2036.0, \"Pacientes\": \"Precisam de UTI\"}, {\"Estado\": \"actives\", \"Data\": \"04/10/20\", \"Casos Ativos\": 2209.0, \"Pacientes\": \"Precisam de UTI\"}, {\"Estado\": \"actives\", \"Data\": \"04/11/20\", \"Casos Ativos\": 2332.0, \"Pacientes\": \"Precisam de UTI\"}, {\"Estado\": \"actives\", \"Data\": \"04/12/20\", \"Casos Ativos\": 2496.0, \"Pacientes\": \"Precisam de UTI\"}, {\"Estado\": \"actives\", \"Data\": \"04/13/20\", \"Casos Ativos\": 2631.0, \"Pacientes\": \"Precisam de UTI\"}, {\"Estado\": \"actives\", \"Data\": \"04/14/20\", \"Casos Ativos\": 2482.0, \"Pacientes\": \"Precisam de UTI\"}, {\"Estado\": \"actives\", \"Data\": \"04/15/20\", \"Casos Ativos\": 1507.0, \"Pacientes\": \"Precisam de UTI\"}, {\"Estado\": \"actives\", \"Data\": \"04/16/20\", \"Casos Ativos\": 1737.0, \"Pacientes\": \"Precisam de UTI\"}, {\"Estado\": \"actives\", \"Data\": \"04/17/20\", \"Casos Ativos\": 2102.0, \"Pacientes\": \"Precisam de UTI\"}, {\"Estado\": \"actives\", \"Data\": \"04/18/20\", \"Casos Ativos\": 2433.0, \"Pacientes\": \"Precisam de UTI\"}, {\"Estado\": \"actives\", \"Data\": \"04/19/20\", \"Casos Ativos\": 1687.0, \"Pacientes\": \"Precisam de UTI\"}, {\"Estado\": \"actives\", \"Data\": \"04/20/20\", \"Casos Ativos\": 1923.0, \"Pacientes\": \"Precisam de UTI\"}, {\"Estado\": \"actives\", \"Data\": \"04/21/20\", \"Casos Ativos\": 2082.0, \"Pacientes\": \"Precisam de UTI\"}, {\"Estado\": \"actives\", \"Data\": \"04/22/20\", \"Casos Ativos\": 2104.0, \"Pacientes\": \"Precisam de UTI\"}, {\"Estado\": \"actives\", \"Data\": \"04/23/20\", \"Casos Ativos\": 2416.0, \"Pacientes\": \"Precisam de UTI\"}, {\"Estado\": \"actives\", \"Data\": \"04/24/20\", \"Casos Ativos\": 2722.0, \"Pacientes\": \"Precisam de UTI\"}, {\"Estado\": \"actives\", \"Data\": \"04/25/20\", \"Casos Ativos\": 3133.0, \"Pacientes\": \"Precisam de UTI\"}, {\"Estado\": \"actives\", \"Data\": \"04/26/20\", \"Casos Ativos\": 3439.0, \"Pacientes\": \"Precisam de UTI\"}, {\"Estado\": \"actives\", \"Data\": \"04/27/20\", \"Casos Ativos\": 3804.0, \"Pacientes\": \"Precisam de UTI\"}, {\"Estado\": \"actives\", \"Data\": \"04/28/20\", \"Casos Ativos\": 4273.0, \"Pacientes\": \"Precisam de UTI\"}, {\"Estado\": \"actives\", \"Data\": \"04/29/20\", \"Casos Ativos\": 4805.0, \"Pacientes\": \"Precisam de UTI\"}, {\"Estado\": \"actives\", \"Data\": \"04/30/20\", \"Casos Ativos\": 5430.0, \"Pacientes\": \"Precisam de UTI\"}, {\"Estado\": \"actives\", \"Data\": \"05/01/20\", \"Casos Ativos\": 5730.0, \"Pacientes\": \"Precisam de UTI\"}, {\"Estado\": \"actives\", \"Data\": \"05/02/20\", \"Casos Ativos\": 5928.0, \"Pacientes\": \"Precisam de UTI\"}, {\"Estado\": \"actives\", \"Data\": \"05/03/20\", \"Casos Ativos\": 6214.0, \"Pacientes\": \"Precisam de UTI\"}, {\"Estado\": \"actives\", \"Data\": \"05/04/20\", \"Casos Ativos\": 6653.0, \"Pacientes\": \"Precisam de UTI\"}, {\"Estado\": \"actives\", \"Data\": \"05/05/20\", \"Casos Ativos\": 7116.0, \"Pacientes\": \"Precisam de UTI\"}, {\"Estado\": \"actives\", \"Data\": \"05/06/20\", \"Casos Ativos\": 7998.0, \"Pacientes\": \"Precisam de UTI\"}, {\"Estado\": \"actives\", \"Data\": \"05/07/20\", \"Casos Ativos\": 8548.0, \"Pacientes\": \"Precisam de UTI\"}, {\"Estado\": \"actives\", \"Data\": \"05/08/20\", \"Casos Ativos\": 9310.0, \"Pacientes\": \"Precisam de UTI\"}, {\"Estado\": \"actives\", \"Data\": \"05/09/20\", \"Casos Ativos\": 10046.0, \"Pacientes\": \"Precisam de UTI\"}, {\"Estado\": \"actives\", \"Data\": \"05/10/20\", \"Casos Ativos\": 10394.0, \"Pacientes\": \"Precisam de UTI\"}], \"data-34d9b806eba4af7cf55b2faaa85e55a5\": [{\"y\": 13096.8}]}}, {\"mode\": \"vega-lite\"});\n",
       "</script>"
      ],
      "text/plain": [
       "alt.HConcatChart(...)"
      ]
     },
     "execution_count": 5,
     "metadata": {},
     "output_type": "execute_result"
    }
   ],
   "source": [
    "#hide_input\n",
    "selection = alt.selection_multi(fields=[STATE_COLUMN], on='mouseover')\n",
    "color = alt.condition(selection,\n",
    "                    alt.Color(STATE_COLUMN+':N', \n",
    "                              scale=alt.Scale(scheme='tableau20', reverse=False), legend=None),\n",
    "                              alt.value('#ffbf79')\n",
    "                     )\n",
    "\n",
    "chart = alt.Chart(df).mark_bar().encode(\n",
    "    x=alt.X(DATE_COLUMN+':O', axis=alt.Axis(title=DATE_COLUMN)),\n",
    "    y=alt.Y(ACTIVE_COLUMN, axis=alt.Axis(title=\"{:.0f}\".format(CASES_NEED_ICU*100)+\"% dos \"+ACTIVE_COLUMN)),\n",
    "    color=color,\n",
    "    tooltip=[DATE_COLUMN, STATE_COLUMN, ACTIVE_COLUMN],\n",
    "    order=alt.Order(\n",
    "    STATE_COLUMN,\n",
    "    sort='ascending'\n",
    "    )\n",
    ").properties(\n",
    "    title=[\n",
    "        \"Achate a curva - apenas os ativos que estima-se que precisem de UTI\",\n",
    "        \" * ver premissas\"\n",
    "    ]\n",
    ").add_selection(\n",
    "    selection\n",
    ")\n",
    "\n",
    "legend = alt.Chart(df).mark_point().encode(\n",
    "    y=alt.Y(STATE_COLUMN+':N', axis=alt.Axis(orient='right')),\n",
    "    color=color\n",
    ")\n",
    "\n",
    "x1line = alt.Chart(pd.DataFrame({'y': [TOTAL_AVAILABLE_ICU]})).mark_rule(color='#e42726', strokeWidth=2).encode(\n",
    "    y='y:Q'\n",
    ")\n",
    "text1 = x1line.mark_text(align='left', x=5, dy=10, color='#e42726', strokeWidth=1).encode(\n",
    "    text=alt.value(\"UTIs para pacientes COVID19: \"+\"{:.0f}\".format(TOTAL_AVAILABLE_ICU))\n",
    ")\n",
    "\n",
    "chart.properties(width=CHART_WIDTH, height=CHART_HEIGHT) + x1line + text1 | legend"
   ]
  },
  {
   "cell_type": "code",
   "execution_count": 6,
   "metadata": {},
   "outputs": [],
   "source": [
    "#hide\n",
    "df1 = data.copy()\n",
    "STATE_COLUMN = PATIENTS\n",
    "df1[VALUE] = round(df1[VALUE] * (CASES_NEED_ICU),0)\n",
    "df1[STATE_COLUMN] = CASES_NEED_ICU_COLUMN\n",
    "df2 = data.copy()\n",
    "df2[VALUE] = round(df2[VALUE] * (1-CASES_NEED_ICU),)\n",
    "df2[STATE_COLUMN] = CASES_DONT_NEED_ICU_COLUMN\n",
    "df = pd.concat([df1, df2])\n",
    "df = df.rename(columns={VALUE:ACTIVE_COLUMN})"
   ]
  },
  {
   "cell_type": "code",
   "execution_count": 7,
   "metadata": {
    "scrolled": false
   },
   "outputs": [
    {
     "data": {
      "text/html": [
       "\n",
       "<div id=\"altair-viz-11dc718e872c49f3a5ef3965018441c6\"></div>\n",
       "<script type=\"text/javascript\">\n",
       "  (function(spec, embedOpt){\n",
       "    let outputDiv = document.currentScript.previousElementSibling;\n",
       "    if (outputDiv.id !== \"altair-viz-11dc718e872c49f3a5ef3965018441c6\") {\n",
       "      outputDiv = document.getElementById(\"altair-viz-11dc718e872c49f3a5ef3965018441c6\");\n",
       "    }\n",
       "    const paths = {\n",
       "      \"vega\": \"https://cdn.jsdelivr.net/npm//vega@5?noext\",\n",
       "      \"vega-lib\": \"https://cdn.jsdelivr.net/npm//vega-lib?noext\",\n",
       "      \"vega-lite\": \"https://cdn.jsdelivr.net/npm//vega-lite@4.8.1?noext\",\n",
       "      \"vega-embed\": \"https://cdn.jsdelivr.net/npm//vega-embed@6?noext\",\n",
       "    };\n",
       "\n",
       "    function loadScript(lib) {\n",
       "      return new Promise(function(resolve, reject) {\n",
       "        var s = document.createElement('script');\n",
       "        s.src = paths[lib];\n",
       "        s.async = true;\n",
       "        s.onload = () => resolve(paths[lib]);\n",
       "        s.onerror = () => reject(`Error loading script: ${paths[lib]}`);\n",
       "        document.getElementsByTagName(\"head\")[0].appendChild(s);\n",
       "      });\n",
       "    }\n",
       "\n",
       "    function showError(err) {\n",
       "      outputDiv.innerHTML = `<div class=\"error\" style=\"color:red;\">${err}</div>`;\n",
       "      throw err;\n",
       "    }\n",
       "\n",
       "    function displayChart(vegaEmbed) {\n",
       "      vegaEmbed(outputDiv, spec, embedOpt)\n",
       "        .catch(err => showError(`Javascript Error: ${err.message}<br>This usually means there's a typo in your chart specification. See the javascript console for the full traceback.`));\n",
       "    }\n",
       "\n",
       "    if(typeof define === \"function\" && define.amd) {\n",
       "      requirejs.config({paths});\n",
       "      require([\"vega-embed\"], displayChart, err => showError(`Error loading script: ${err.message}`));\n",
       "    } else if (typeof vegaEmbed === \"function\") {\n",
       "      displayChart(vegaEmbed);\n",
       "    } else {\n",
       "      loadScript(\"vega\")\n",
       "        .then(() => loadScript(\"vega-lite\"))\n",
       "        .then(() => loadScript(\"vega-embed\"))\n",
       "        .catch(showError)\n",
       "        .then(() => displayChart(vegaEmbed));\n",
       "    }\n",
       "  })({\"config\": {\"view\": {\"continuousWidth\": 400, \"continuousHeight\": 300}}, \"hconcat\": [{\"layer\": [{\"data\": {\"name\": \"data-012a441b40fa1444e058147beaa23ec0\"}, \"mark\": \"bar\", \"encoding\": {\"color\": {\"condition\": {\"type\": \"nominal\", \"field\": \"Pacientes\", \"legend\": null, \"scale\": {\"reverse\": false, \"scheme\": \"tableau20\"}, \"selection\": \"selector002\"}, \"value\": \"#ffbf79\"}, \"order\": {\"type\": \"nominal\", \"field\": \"Pacientes\", \"sort\": \"ascending\"}, \"tooltip\": [{\"type\": \"nominal\", \"field\": \"Data\"}, {\"type\": \"nominal\", \"field\": \"Pacientes\"}, {\"type\": \"quantitative\", \"field\": \"Casos Ativos\"}], \"x\": {\"type\": \"ordinal\", \"axis\": {\"title\": \"Data\"}, \"field\": \"Data\"}, \"y\": {\"type\": \"quantitative\", \"axis\": {\"title\": \"Casos Ativos\"}, \"field\": \"Casos Ativos\"}}, \"height\": 400, \"selection\": {\"selector002\": {\"type\": \"multi\", \"fields\": [\"Pacientes\"], \"on\": \"mouseover\"}}, \"title\": [\"Achate a curva - todos os casos ativos\", \" * ver premissas\"], \"width\": 600}, {\"data\": {\"name\": \"data-34d9b806eba4af7cf55b2faaa85e55a5\"}, \"mark\": {\"type\": \"rule\", \"color\": \"#e42726\", \"strokeWidth\": 2}, \"encoding\": {\"y\": {\"type\": \"quantitative\", \"field\": \"y\"}}}, {\"data\": {\"name\": \"data-34d9b806eba4af7cf55b2faaa85e55a5\"}, \"mark\": {\"type\": \"text\", \"align\": \"left\", \"color\": \"#e42726\", \"dy\": 10, \"strokeWidth\": 1, \"x\": 5}, \"encoding\": {\"text\": {\"value\": \"UTIs para pacientes COVID19: 13097\"}, \"y\": {\"type\": \"quantitative\", \"field\": \"y\"}}}, {\"data\": {\"name\": \"data-8abec10a19213157203ee9f47c2b269f\"}, \"mark\": {\"type\": \"rule\", \"color\": \"darkred\", \"strokeWidth\": 2}, \"encoding\": {\"y\": {\"type\": \"quantitative\", \"field\": \"y\"}}}, {\"data\": {\"name\": \"data-8abec10a19213157203ee9f47c2b269f\"}, \"mark\": {\"type\": \"text\", \"align\": \"left\", \"color\": \"darkred\", \"dy\": 10, \"strokeWidth\": 1, \"x\": 5}, \"encoding\": {\"text\": {\"value\": \"Total de UTIs: 43656\"}, \"y\": {\"type\": \"quantitative\", \"field\": \"y\"}}}]}, {\"data\": {\"name\": \"data-012a441b40fa1444e058147beaa23ec0\"}, \"mark\": \"point\", \"encoding\": {\"color\": {\"condition\": {\"type\": \"nominal\", \"field\": \"Pacientes\", \"legend\": null, \"scale\": {\"reverse\": false, \"scheme\": \"tableau20\"}, \"selection\": \"selector002\"}, \"value\": \"#ffbf79\"}, \"y\": {\"type\": \"nominal\", \"axis\": {\"orient\": \"right\"}, \"field\": \"Pacientes\"}}}], \"$schema\": \"https://vega.github.io/schema/vega-lite/v4.8.1.json\", \"datasets\": {\"data-012a441b40fa1444e058147beaa23ec0\": [{\"Estado\": \"actives\", \"Data\": \"01/22/20\", \"Casos Ativos\": 0.0, \"Pacientes\": \"Precisam de UTI\"}, {\"Estado\": \"actives\", \"Data\": \"01/23/20\", \"Casos Ativos\": 0.0, \"Pacientes\": \"Precisam de UTI\"}, {\"Estado\": \"actives\", \"Data\": \"01/24/20\", \"Casos Ativos\": 0.0, \"Pacientes\": \"Precisam de UTI\"}, {\"Estado\": \"actives\", \"Data\": \"01/25/20\", \"Casos Ativos\": 0.0, \"Pacientes\": \"Precisam de UTI\"}, {\"Estado\": \"actives\", \"Data\": \"01/26/20\", \"Casos Ativos\": 0.0, \"Pacientes\": \"Precisam de UTI\"}, {\"Estado\": \"actives\", \"Data\": \"01/27/20\", \"Casos Ativos\": 0.0, \"Pacientes\": \"Precisam de UTI\"}, {\"Estado\": \"actives\", \"Data\": \"01/28/20\", \"Casos Ativos\": 0.0, \"Pacientes\": \"Precisam de UTI\"}, {\"Estado\": \"actives\", \"Data\": \"01/29/20\", \"Casos Ativos\": 0.0, \"Pacientes\": \"Precisam de UTI\"}, {\"Estado\": \"actives\", \"Data\": \"01/30/20\", \"Casos Ativos\": 0.0, \"Pacientes\": \"Precisam de UTI\"}, {\"Estado\": \"actives\", \"Data\": \"01/31/20\", \"Casos Ativos\": 0.0, \"Pacientes\": \"Precisam de UTI\"}, {\"Estado\": \"actives\", \"Data\": \"02/01/20\", \"Casos Ativos\": 0.0, \"Pacientes\": \"Precisam de UTI\"}, {\"Estado\": \"actives\", \"Data\": \"02/02/20\", \"Casos Ativos\": 0.0, \"Pacientes\": \"Precisam de UTI\"}, {\"Estado\": \"actives\", \"Data\": \"02/03/20\", \"Casos Ativos\": 0.0, \"Pacientes\": \"Precisam de UTI\"}, {\"Estado\": \"actives\", \"Data\": \"02/04/20\", \"Casos Ativos\": 0.0, \"Pacientes\": \"Precisam de UTI\"}, {\"Estado\": \"actives\", \"Data\": \"02/05/20\", \"Casos Ativos\": 0.0, \"Pacientes\": \"Precisam de UTI\"}, {\"Estado\": \"actives\", \"Data\": \"02/06/20\", \"Casos Ativos\": 0.0, \"Pacientes\": \"Precisam de UTI\"}, {\"Estado\": \"actives\", \"Data\": \"02/07/20\", \"Casos Ativos\": 0.0, \"Pacientes\": \"Precisam de UTI\"}, {\"Estado\": \"actives\", \"Data\": \"02/08/20\", \"Casos Ativos\": 0.0, \"Pacientes\": \"Precisam de UTI\"}, {\"Estado\": \"actives\", \"Data\": \"02/09/20\", \"Casos Ativos\": 0.0, \"Pacientes\": \"Precisam de UTI\"}, {\"Estado\": \"actives\", \"Data\": \"02/10/20\", \"Casos Ativos\": 0.0, \"Pacientes\": \"Precisam de UTI\"}, {\"Estado\": \"actives\", \"Data\": \"02/11/20\", \"Casos Ativos\": 0.0, \"Pacientes\": \"Precisam de UTI\"}, {\"Estado\": \"actives\", \"Data\": \"02/12/20\", \"Casos Ativos\": 0.0, \"Pacientes\": \"Precisam de UTI\"}, {\"Estado\": \"actives\", \"Data\": \"02/13/20\", \"Casos Ativos\": 0.0, \"Pacientes\": \"Precisam de UTI\"}, {\"Estado\": \"actives\", \"Data\": \"02/14/20\", \"Casos Ativos\": 0.0, \"Pacientes\": \"Precisam de UTI\"}, {\"Estado\": \"actives\", \"Data\": \"02/15/20\", \"Casos Ativos\": 0.0, \"Pacientes\": \"Precisam de UTI\"}, {\"Estado\": \"actives\", \"Data\": \"02/16/20\", \"Casos Ativos\": 0.0, \"Pacientes\": \"Precisam de UTI\"}, {\"Estado\": \"actives\", \"Data\": \"02/17/20\", \"Casos Ativos\": 0.0, \"Pacientes\": \"Precisam de UTI\"}, {\"Estado\": \"actives\", \"Data\": \"02/18/20\", \"Casos Ativos\": 0.0, \"Pacientes\": \"Precisam de UTI\"}, {\"Estado\": \"actives\", \"Data\": \"02/19/20\", \"Casos Ativos\": 0.0, \"Pacientes\": \"Precisam de UTI\"}, {\"Estado\": \"actives\", \"Data\": \"02/20/20\", \"Casos Ativos\": 0.0, \"Pacientes\": \"Precisam de UTI\"}, {\"Estado\": \"actives\", \"Data\": \"02/21/20\", \"Casos Ativos\": 0.0, \"Pacientes\": \"Precisam de UTI\"}, {\"Estado\": \"actives\", \"Data\": \"02/22/20\", \"Casos Ativos\": 0.0, \"Pacientes\": \"Precisam de UTI\"}, {\"Estado\": \"actives\", \"Data\": \"02/23/20\", \"Casos Ativos\": 0.0, \"Pacientes\": \"Precisam de UTI\"}, {\"Estado\": \"actives\", \"Data\": \"02/24/20\", \"Casos Ativos\": 0.0, \"Pacientes\": \"Precisam de UTI\"}, {\"Estado\": \"actives\", \"Data\": \"02/25/20\", \"Casos Ativos\": 0.0, \"Pacientes\": \"Precisam de UTI\"}, {\"Estado\": \"actives\", \"Data\": \"02/26/20\", \"Casos Ativos\": 0.0, \"Pacientes\": \"Precisam de UTI\"}, {\"Estado\": \"actives\", \"Data\": \"02/27/20\", \"Casos Ativos\": 0.0, \"Pacientes\": \"Precisam de UTI\"}, {\"Estado\": \"actives\", \"Data\": \"02/28/20\", \"Casos Ativos\": 0.0, \"Pacientes\": \"Precisam de UTI\"}, {\"Estado\": \"actives\", \"Data\": \"02/29/20\", \"Casos Ativos\": 0.0, \"Pacientes\": \"Precisam de UTI\"}, {\"Estado\": \"actives\", \"Data\": \"03/01/20\", \"Casos Ativos\": 0.0, \"Pacientes\": \"Precisam de UTI\"}, {\"Estado\": \"actives\", \"Data\": \"03/02/20\", \"Casos Ativos\": 0.0, \"Pacientes\": \"Precisam de UTI\"}, {\"Estado\": \"actives\", \"Data\": \"03/03/20\", \"Casos Ativos\": 0.0, \"Pacientes\": \"Precisam de UTI\"}, {\"Estado\": \"actives\", \"Data\": \"03/04/20\", \"Casos Ativos\": 0.0, \"Pacientes\": \"Precisam de UTI\"}, {\"Estado\": \"actives\", \"Data\": \"03/05/20\", \"Casos Ativos\": 0.0, \"Pacientes\": \"Precisam de UTI\"}, {\"Estado\": \"actives\", \"Data\": \"03/06/20\", \"Casos Ativos\": 2.0, \"Pacientes\": \"Precisam de UTI\"}, {\"Estado\": \"actives\", \"Data\": \"03/07/20\", \"Casos Ativos\": 2.0, \"Pacientes\": \"Precisam de UTI\"}, {\"Estado\": \"actives\", \"Data\": \"03/08/20\", \"Casos Ativos\": 2.0, \"Pacientes\": \"Precisam de UTI\"}, {\"Estado\": \"actives\", \"Data\": \"03/09/20\", \"Casos Ativos\": 3.0, \"Pacientes\": \"Precisam de UTI\"}, {\"Estado\": \"actives\", \"Data\": \"03/10/20\", \"Casos Ativos\": 4.0, \"Pacientes\": \"Precisam de UTI\"}, {\"Estado\": \"actives\", \"Data\": \"03/11/20\", \"Casos Ativos\": 5.0, \"Pacientes\": \"Precisam de UTI\"}, {\"Estado\": \"actives\", \"Data\": \"03/12/20\", \"Casos Ativos\": 6.0, \"Pacientes\": \"Precisam de UTI\"}, {\"Estado\": \"actives\", \"Data\": \"03/13/20\", \"Casos Ativos\": 18.0, \"Pacientes\": \"Precisam de UTI\"}, {\"Estado\": \"actives\", \"Data\": \"03/14/20\", \"Casos Ativos\": 18.0, \"Pacientes\": \"Precisam de UTI\"}, {\"Estado\": \"actives\", \"Data\": \"03/15/20\", \"Casos Ativos\": 19.0, \"Pacientes\": \"Precisam de UTI\"}, {\"Estado\": \"actives\", \"Data\": \"03/16/20\", \"Casos Ativos\": 24.0, \"Pacientes\": \"Precisam de UTI\"}, {\"Estado\": \"actives\", \"Data\": \"03/17/20\", \"Casos Ativos\": 38.0, \"Pacientes\": \"Precisam de UTI\"}, {\"Estado\": \"actives\", \"Data\": \"03/18/20\", \"Casos Ativos\": 44.0, \"Pacientes\": \"Precisam de UTI\"}, {\"Estado\": \"actives\", \"Data\": \"03/19/20\", \"Casos Ativos\": 74.0, \"Pacientes\": \"Precisam de UTI\"}, {\"Estado\": \"actives\", \"Data\": \"03/20/20\", \"Casos Ativos\": 94.0, \"Pacientes\": \"Precisam de UTI\"}, {\"Estado\": \"actives\", \"Data\": \"03/21/20\", \"Casos Ativos\": 120.0, \"Pacientes\": \"Precisam de UTI\"}, {\"Estado\": \"actives\", \"Data\": \"03/22/20\", \"Casos Ativos\": 182.0, \"Pacientes\": \"Precisam de UTI\"}, {\"Estado\": \"actives\", \"Data\": \"03/23/20\", \"Casos Ativos\": 227.0, \"Pacientes\": \"Precisam de UTI\"}, {\"Estado\": \"actives\", \"Data\": \"03/24/20\", \"Casos Ativos\": 264.0, \"Pacientes\": \"Precisam de UTI\"}, {\"Estado\": \"actives\", \"Data\": \"03/25/20\", \"Casos Ativos\": 299.0, \"Pacientes\": \"Precisam de UTI\"}, {\"Estado\": \"actives\", \"Data\": \"03/26/20\", \"Casos Ativos\": 348.0, \"Pacientes\": \"Precisam de UTI\"}, {\"Estado\": \"actives\", \"Data\": \"03/27/20\", \"Casos Ativos\": 398.0, \"Pacientes\": \"Precisam de UTI\"}, {\"Estado\": \"actives\", \"Data\": \"03/28/20\", \"Casos Ativos\": 454.0, \"Pacientes\": \"Precisam de UTI\"}, {\"Estado\": \"actives\", \"Data\": \"03/29/20\", \"Casos Ativos\": 494.0, \"Pacientes\": \"Precisam de UTI\"}, {\"Estado\": \"actives\", \"Data\": \"03/30/20\", \"Casos Ativos\": 516.0, \"Pacientes\": \"Precisam de UTI\"}, {\"Estado\": \"actives\", \"Data\": \"03/31/20\", \"Casos Ativos\": 647.0, \"Pacientes\": \"Precisam de UTI\"}, {\"Estado\": \"actives\", \"Data\": \"04/01/20\", \"Casos Ativos\": 776.0, \"Pacientes\": \"Precisam de UTI\"}, {\"Estado\": \"actives\", \"Data\": \"04/02/20\", \"Casos Ativos\": 911.0, \"Pacientes\": \"Precisam de UTI\"}, {\"Estado\": \"actives\", \"Data\": \"04/03/20\", \"Casos Ativos\": 1028.0, \"Pacientes\": \"Precisam de UTI\"}, {\"Estado\": \"actives\", \"Data\": \"04/04/20\", \"Casos Ativos\": 1175.0, \"Pacientes\": \"Precisam de UTI\"}, {\"Estado\": \"actives\", \"Data\": \"04/05/20\", \"Casos Ativos\": 1262.0, \"Pacientes\": \"Precisam de UTI\"}, {\"Estado\": \"actives\", \"Data\": \"04/06/20\", \"Casos Ativos\": 1376.0, \"Pacientes\": \"Precisam de UTI\"}, {\"Estado\": \"actives\", \"Data\": \"04/07/20\", \"Casos Ativos\": 1587.0, \"Pacientes\": \"Precisam de UTI\"}, {\"Estado\": \"actives\", \"Data\": \"04/08/20\", \"Casos Ativos\": 1827.0, \"Pacientes\": \"Precisam de UTI\"}, {\"Estado\": \"actives\", \"Data\": \"04/09/20\", \"Casos Ativos\": 2036.0, \"Pacientes\": \"Precisam de UTI\"}, {\"Estado\": \"actives\", \"Data\": \"04/10/20\", \"Casos Ativos\": 2209.0, \"Pacientes\": \"Precisam de UTI\"}, {\"Estado\": \"actives\", \"Data\": \"04/11/20\", \"Casos Ativos\": 2332.0, \"Pacientes\": \"Precisam de UTI\"}, {\"Estado\": \"actives\", \"Data\": \"04/12/20\", \"Casos Ativos\": 2496.0, \"Pacientes\": \"Precisam de UTI\"}, {\"Estado\": \"actives\", \"Data\": \"04/13/20\", \"Casos Ativos\": 2631.0, \"Pacientes\": \"Precisam de UTI\"}, {\"Estado\": \"actives\", \"Data\": \"04/14/20\", \"Casos Ativos\": 2482.0, \"Pacientes\": \"Precisam de UTI\"}, {\"Estado\": \"actives\", \"Data\": \"04/15/20\", \"Casos Ativos\": 1507.0, \"Pacientes\": \"Precisam de UTI\"}, {\"Estado\": \"actives\", \"Data\": \"04/16/20\", \"Casos Ativos\": 1737.0, \"Pacientes\": \"Precisam de UTI\"}, {\"Estado\": \"actives\", \"Data\": \"04/17/20\", \"Casos Ativos\": 2102.0, \"Pacientes\": \"Precisam de UTI\"}, {\"Estado\": \"actives\", \"Data\": \"04/18/20\", \"Casos Ativos\": 2433.0, \"Pacientes\": \"Precisam de UTI\"}, {\"Estado\": \"actives\", \"Data\": \"04/19/20\", \"Casos Ativos\": 1687.0, \"Pacientes\": \"Precisam de UTI\"}, {\"Estado\": \"actives\", \"Data\": \"04/20/20\", \"Casos Ativos\": 1923.0, \"Pacientes\": \"Precisam de UTI\"}, {\"Estado\": \"actives\", \"Data\": \"04/21/20\", \"Casos Ativos\": 2082.0, \"Pacientes\": \"Precisam de UTI\"}, {\"Estado\": \"actives\", \"Data\": \"04/22/20\", \"Casos Ativos\": 2104.0, \"Pacientes\": \"Precisam de UTI\"}, {\"Estado\": \"actives\", \"Data\": \"04/23/20\", \"Casos Ativos\": 2416.0, \"Pacientes\": \"Precisam de UTI\"}, {\"Estado\": \"actives\", \"Data\": \"04/24/20\", \"Casos Ativos\": 2722.0, \"Pacientes\": \"Precisam de UTI\"}, {\"Estado\": \"actives\", \"Data\": \"04/25/20\", \"Casos Ativos\": 3133.0, \"Pacientes\": \"Precisam de UTI\"}, {\"Estado\": \"actives\", \"Data\": \"04/26/20\", \"Casos Ativos\": 3439.0, \"Pacientes\": \"Precisam de UTI\"}, {\"Estado\": \"actives\", \"Data\": \"04/27/20\", \"Casos Ativos\": 3804.0, \"Pacientes\": \"Precisam de UTI\"}, {\"Estado\": \"actives\", \"Data\": \"04/28/20\", \"Casos Ativos\": 4273.0, \"Pacientes\": \"Precisam de UTI\"}, {\"Estado\": \"actives\", \"Data\": \"04/29/20\", \"Casos Ativos\": 4805.0, \"Pacientes\": \"Precisam de UTI\"}, {\"Estado\": \"actives\", \"Data\": \"04/30/20\", \"Casos Ativos\": 5430.0, \"Pacientes\": \"Precisam de UTI\"}, {\"Estado\": \"actives\", \"Data\": \"05/01/20\", \"Casos Ativos\": 5730.0, \"Pacientes\": \"Precisam de UTI\"}, {\"Estado\": \"actives\", \"Data\": \"05/02/20\", \"Casos Ativos\": 5928.0, \"Pacientes\": \"Precisam de UTI\"}, {\"Estado\": \"actives\", \"Data\": \"05/03/20\", \"Casos Ativos\": 6214.0, \"Pacientes\": \"Precisam de UTI\"}, {\"Estado\": \"actives\", \"Data\": \"05/04/20\", \"Casos Ativos\": 6653.0, \"Pacientes\": \"Precisam de UTI\"}, {\"Estado\": \"actives\", \"Data\": \"05/05/20\", \"Casos Ativos\": 7116.0, \"Pacientes\": \"Precisam de UTI\"}, {\"Estado\": \"actives\", \"Data\": \"05/06/20\", \"Casos Ativos\": 7998.0, \"Pacientes\": \"Precisam de UTI\"}, {\"Estado\": \"actives\", \"Data\": \"05/07/20\", \"Casos Ativos\": 8548.0, \"Pacientes\": \"Precisam de UTI\"}, {\"Estado\": \"actives\", \"Data\": \"05/08/20\", \"Casos Ativos\": 9310.0, \"Pacientes\": \"Precisam de UTI\"}, {\"Estado\": \"actives\", \"Data\": \"05/09/20\", \"Casos Ativos\": 10046.0, \"Pacientes\": \"Precisam de UTI\"}, {\"Estado\": \"actives\", \"Data\": \"05/10/20\", \"Casos Ativos\": 10394.0, \"Pacientes\": \"Precisam de UTI\"}, {\"Estado\": \"actives\", \"Data\": \"01/22/20\", \"Casos Ativos\": 0.0, \"Pacientes\": \"Sem necessidade de UTI\"}, {\"Estado\": \"actives\", \"Data\": \"01/23/20\", \"Casos Ativos\": 0.0, \"Pacientes\": \"Sem necessidade de UTI\"}, {\"Estado\": \"actives\", \"Data\": \"01/24/20\", \"Casos Ativos\": 0.0, \"Pacientes\": \"Sem necessidade de UTI\"}, {\"Estado\": \"actives\", \"Data\": \"01/25/20\", \"Casos Ativos\": 0.0, \"Pacientes\": \"Sem necessidade de UTI\"}, {\"Estado\": \"actives\", \"Data\": \"01/26/20\", \"Casos Ativos\": 0.0, \"Pacientes\": \"Sem necessidade de UTI\"}, {\"Estado\": \"actives\", \"Data\": \"01/27/20\", \"Casos Ativos\": 0.0, \"Pacientes\": \"Sem necessidade de UTI\"}, {\"Estado\": \"actives\", \"Data\": \"01/28/20\", \"Casos Ativos\": 0.0, \"Pacientes\": \"Sem necessidade de UTI\"}, {\"Estado\": \"actives\", \"Data\": \"01/29/20\", \"Casos Ativos\": 0.0, \"Pacientes\": \"Sem necessidade de UTI\"}, {\"Estado\": \"actives\", \"Data\": \"01/30/20\", \"Casos Ativos\": 0.0, \"Pacientes\": \"Sem necessidade de UTI\"}, {\"Estado\": \"actives\", \"Data\": \"01/31/20\", \"Casos Ativos\": 0.0, \"Pacientes\": \"Sem necessidade de UTI\"}, {\"Estado\": \"actives\", \"Data\": \"02/01/20\", \"Casos Ativos\": 0.0, \"Pacientes\": \"Sem necessidade de UTI\"}, {\"Estado\": \"actives\", \"Data\": \"02/02/20\", \"Casos Ativos\": 0.0, \"Pacientes\": \"Sem necessidade de UTI\"}, {\"Estado\": \"actives\", \"Data\": \"02/03/20\", \"Casos Ativos\": 0.0, \"Pacientes\": \"Sem necessidade de UTI\"}, {\"Estado\": \"actives\", \"Data\": \"02/04/20\", \"Casos Ativos\": 0.0, \"Pacientes\": \"Sem necessidade de UTI\"}, {\"Estado\": \"actives\", \"Data\": \"02/05/20\", \"Casos Ativos\": 0.0, \"Pacientes\": \"Sem necessidade de UTI\"}, {\"Estado\": \"actives\", \"Data\": \"02/06/20\", \"Casos Ativos\": 0.0, \"Pacientes\": \"Sem necessidade de UTI\"}, {\"Estado\": \"actives\", \"Data\": \"02/07/20\", \"Casos Ativos\": 0.0, \"Pacientes\": \"Sem necessidade de UTI\"}, {\"Estado\": \"actives\", \"Data\": \"02/08/20\", \"Casos Ativos\": 0.0, \"Pacientes\": \"Sem necessidade de UTI\"}, {\"Estado\": \"actives\", \"Data\": \"02/09/20\", \"Casos Ativos\": 0.0, \"Pacientes\": \"Sem necessidade de UTI\"}, {\"Estado\": \"actives\", \"Data\": \"02/10/20\", \"Casos Ativos\": 0.0, \"Pacientes\": \"Sem necessidade de UTI\"}, {\"Estado\": \"actives\", \"Data\": \"02/11/20\", \"Casos Ativos\": 0.0, \"Pacientes\": \"Sem necessidade de UTI\"}, {\"Estado\": \"actives\", \"Data\": \"02/12/20\", \"Casos Ativos\": 0.0, \"Pacientes\": \"Sem necessidade de UTI\"}, {\"Estado\": \"actives\", \"Data\": \"02/13/20\", \"Casos Ativos\": 0.0, \"Pacientes\": \"Sem necessidade de UTI\"}, {\"Estado\": \"actives\", \"Data\": \"02/14/20\", \"Casos Ativos\": 0.0, \"Pacientes\": \"Sem necessidade de UTI\"}, {\"Estado\": \"actives\", \"Data\": \"02/15/20\", \"Casos Ativos\": 0.0, \"Pacientes\": \"Sem necessidade de UTI\"}, {\"Estado\": \"actives\", \"Data\": \"02/16/20\", \"Casos Ativos\": 0.0, \"Pacientes\": \"Sem necessidade de UTI\"}, {\"Estado\": \"actives\", \"Data\": \"02/17/20\", \"Casos Ativos\": 0.0, \"Pacientes\": \"Sem necessidade de UTI\"}, {\"Estado\": \"actives\", \"Data\": \"02/18/20\", \"Casos Ativos\": 0.0, \"Pacientes\": \"Sem necessidade de UTI\"}, {\"Estado\": \"actives\", \"Data\": \"02/19/20\", \"Casos Ativos\": 0.0, \"Pacientes\": \"Sem necessidade de UTI\"}, {\"Estado\": \"actives\", \"Data\": \"02/20/20\", \"Casos Ativos\": 0.0, \"Pacientes\": \"Sem necessidade de UTI\"}, {\"Estado\": \"actives\", \"Data\": \"02/21/20\", \"Casos Ativos\": 0.0, \"Pacientes\": \"Sem necessidade de UTI\"}, {\"Estado\": \"actives\", \"Data\": \"02/22/20\", \"Casos Ativos\": 0.0, \"Pacientes\": \"Sem necessidade de UTI\"}, {\"Estado\": \"actives\", \"Data\": \"02/23/20\", \"Casos Ativos\": 0.0, \"Pacientes\": \"Sem necessidade de UTI\"}, {\"Estado\": \"actives\", \"Data\": \"02/24/20\", \"Casos Ativos\": 0.0, \"Pacientes\": \"Sem necessidade de UTI\"}, {\"Estado\": \"actives\", \"Data\": \"02/25/20\", \"Casos Ativos\": 0.0, \"Pacientes\": \"Sem necessidade de UTI\"}, {\"Estado\": \"actives\", \"Data\": \"02/26/20\", \"Casos Ativos\": 1.0, \"Pacientes\": \"Sem necessidade de UTI\"}, {\"Estado\": \"actives\", \"Data\": \"02/27/20\", \"Casos Ativos\": 1.0, \"Pacientes\": \"Sem necessidade de UTI\"}, {\"Estado\": \"actives\", \"Data\": \"02/28/20\", \"Casos Ativos\": 1.0, \"Pacientes\": \"Sem necessidade de UTI\"}, {\"Estado\": \"actives\", \"Data\": \"02/29/20\", \"Casos Ativos\": 2.0, \"Pacientes\": \"Sem necessidade de UTI\"}, {\"Estado\": \"actives\", \"Data\": \"03/01/20\", \"Casos Ativos\": 2.0, \"Pacientes\": \"Sem necessidade de UTI\"}, {\"Estado\": \"actives\", \"Data\": \"03/02/20\", \"Casos Ativos\": 2.0, \"Pacientes\": \"Sem necessidade de UTI\"}, {\"Estado\": \"actives\", \"Data\": \"03/03/20\", \"Casos Ativos\": 2.0, \"Pacientes\": \"Sem necessidade de UTI\"}, {\"Estado\": \"actives\", \"Data\": \"03/04/20\", \"Casos Ativos\": 4.0, \"Pacientes\": \"Sem necessidade de UTI\"}, {\"Estado\": \"actives\", \"Data\": \"03/05/20\", \"Casos Ativos\": 4.0, \"Pacientes\": \"Sem necessidade de UTI\"}, {\"Estado\": \"actives\", \"Data\": \"03/06/20\", \"Casos Ativos\": 11.0, \"Pacientes\": \"Sem necessidade de UTI\"}, {\"Estado\": \"actives\", \"Data\": \"03/07/20\", \"Casos Ativos\": 11.0, \"Pacientes\": \"Sem necessidade de UTI\"}, {\"Estado\": \"actives\", \"Data\": \"03/08/20\", \"Casos Ativos\": 18.0, \"Pacientes\": \"Sem necessidade de UTI\"}, {\"Estado\": \"actives\", \"Data\": \"03/09/20\", \"Casos Ativos\": 22.0, \"Pacientes\": \"Sem necessidade de UTI\"}, {\"Estado\": \"actives\", \"Data\": \"03/10/20\", \"Casos Ativos\": 27.0, \"Pacientes\": \"Sem necessidade de UTI\"}, {\"Estado\": \"actives\", \"Data\": \"03/11/20\", \"Casos Ativos\": 33.0, \"Pacientes\": \"Sem necessidade de UTI\"}, {\"Estado\": \"actives\", \"Data\": \"03/12/20\", \"Casos Ativos\": 46.0, \"Pacientes\": \"Sem necessidade de UTI\"}, {\"Estado\": \"actives\", \"Data\": \"03/13/20\", \"Casos Ativos\": 133.0, \"Pacientes\": \"Sem necessidade de UTI\"}, {\"Estado\": \"actives\", \"Data\": \"03/14/20\", \"Casos Ativos\": 133.0, \"Pacientes\": \"Sem necessidade de UTI\"}, {\"Estado\": \"actives\", \"Data\": \"03/15/20\", \"Casos Ativos\": 143.0, \"Pacientes\": \"Sem necessidade de UTI\"}, {\"Estado\": \"actives\", \"Data\": \"03/16/20\", \"Casos Ativos\": 175.0, \"Pacientes\": \"Sem necessidade de UTI\"}, {\"Estado\": \"actives\", \"Data\": \"03/17/20\", \"Casos Ativos\": 280.0, \"Pacientes\": \"Sem necessidade de UTI\"}, {\"Estado\": \"actives\", \"Data\": \"03/18/20\", \"Casos Ativos\": 323.0, \"Pacientes\": \"Sem necessidade de UTI\"}, {\"Estado\": \"actives\", \"Data\": \"03/19/20\", \"Casos Ativos\": 539.0, \"Pacientes\": \"Sem necessidade de UTI\"}, {\"Estado\": \"actives\", \"Data\": \"03/20/20\", \"Casos Ativos\": 686.0, \"Pacientes\": \"Sem necessidade de UTI\"}, {\"Estado\": \"actives\", \"Data\": \"03/21/20\", \"Casos Ativos\": 884.0, \"Pacientes\": \"Sem necessidade de UTI\"}, {\"Estado\": \"actives\", \"Data\": \"03/22/20\", \"Casos Ativos\": 1337.0, \"Pacientes\": \"Sem necessidade de UTI\"}, {\"Estado\": \"actives\", \"Data\": \"03/23/20\", \"Casos Ativos\": 1661.0, \"Pacientes\": \"Sem necessidade de UTI\"}, {\"Estado\": \"actives\", \"Data\": \"03/24/20\", \"Casos Ativos\": 1935.0, \"Pacientes\": \"Sem necessidade de UTI\"}, {\"Estado\": \"actives\", \"Data\": \"03/25/20\", \"Casos Ativos\": 2194.0, \"Pacientes\": \"Sem necessidade de UTI\"}, {\"Estado\": \"actives\", \"Data\": \"03/26/20\", \"Casos Ativos\": 2554.0, \"Pacientes\": \"Sem necessidade de UTI\"}, {\"Estado\": \"actives\", \"Data\": \"03/27/20\", \"Casos Ativos\": 2921.0, \"Pacientes\": \"Sem necessidade de UTI\"}, {\"Estado\": \"actives\", \"Data\": \"03/28/20\", \"Casos Ativos\": 3333.0, \"Pacientes\": \"Sem necessidade de UTI\"}, {\"Estado\": \"actives\", \"Data\": \"03/29/20\", \"Casos Ativos\": 3620.0, \"Pacientes\": \"Sem necessidade de UTI\"}, {\"Estado\": \"actives\", \"Data\": \"03/30/20\", \"Casos Ativos\": 3784.0, \"Pacientes\": \"Sem necessidade de UTI\"}, {\"Estado\": \"actives\", \"Data\": \"03/31/20\", \"Casos Ativos\": 4742.0, \"Pacientes\": \"Sem necessidade de UTI\"}, {\"Estado\": \"actives\", \"Data\": \"04/01/20\", \"Casos Ativos\": 5693.0, \"Pacientes\": \"Sem necessidade de UTI\"}, {\"Estado\": \"actives\", \"Data\": \"04/02/20\", \"Casos Ativos\": 6682.0, \"Pacientes\": \"Sem necessidade de UTI\"}, {\"Estado\": \"actives\", \"Data\": \"04/03/20\", \"Casos Ativos\": 7542.0, \"Pacientes\": \"Sem necessidade de UTI\"}, {\"Estado\": \"actives\", \"Data\": \"04/04/20\", \"Casos Ativos\": 8613.0, \"Pacientes\": \"Sem necessidade de UTI\"}, {\"Estado\": \"actives\", \"Data\": \"04/05/20\", \"Casos Ativos\": 9255.0, \"Pacientes\": \"Sem necessidade de UTI\"}, {\"Estado\": \"actives\", \"Data\": \"04/06/20\", \"Casos Ativos\": 10094.0, \"Pacientes\": \"Sem necessidade de UTI\"}, {\"Estado\": \"actives\", \"Data\": \"04/07/20\", \"Casos Ativos\": 11634.0, \"Pacientes\": \"Sem necessidade de UTI\"}, {\"Estado\": \"actives\", \"Data\": \"04/08/20\", \"Casos Ativos\": 13397.0, \"Pacientes\": \"Sem necessidade de UTI\"}, {\"Estado\": \"actives\", \"Data\": \"04/09/20\", \"Casos Ativos\": 14933.0, \"Pacientes\": \"Sem necessidade de UTI\"}, {\"Estado\": \"actives\", \"Data\": \"04/10/20\", \"Casos Ativos\": 16199.0, \"Pacientes\": \"Sem necessidade de UTI\"}, {\"Estado\": \"actives\", \"Data\": \"04/11/20\", \"Casos Ativos\": 17098.0, \"Pacientes\": \"Sem necessidade de UTI\"}, {\"Estado\": \"actives\", \"Data\": \"04/12/20\", \"Casos Ativos\": 18300.0, \"Pacientes\": \"Sem necessidade de UTI\"}, {\"Estado\": \"actives\", \"Data\": \"04/13/20\", \"Casos Ativos\": 19298.0, \"Pacientes\": \"Sem necessidade de UTI\"}, {\"Estado\": \"actives\", \"Data\": \"04/14/20\", \"Casos Ativos\": 18202.0, \"Pacientes\": \"Sem necessidade de UTI\"}, {\"Estado\": \"actives\", \"Data\": \"04/15/20\", \"Casos Ativos\": 11051.0, \"Pacientes\": \"Sem necessidade de UTI\"}, {\"Estado\": \"actives\", \"Data\": \"04/16/20\", \"Casos Ativos\": 12738.0, \"Pacientes\": \"Sem necessidade de UTI\"}, {\"Estado\": \"actives\", \"Data\": \"04/17/20\", \"Casos Ativos\": 15413.0, \"Pacientes\": \"Sem necessidade de UTI\"}, {\"Estado\": \"actives\", \"Data\": \"04/18/20\", \"Casos Ativos\": 17845.0, \"Pacientes\": \"Sem necessidade de UTI\"}, {\"Estado\": \"actives\", \"Data\": \"04/19/20\", \"Casos Ativos\": 12375.0, \"Pacientes\": \"Sem necessidade de UTI\"}, {\"Estado\": \"actives\", \"Data\": \"04/20/20\", \"Casos Ativos\": 14103.0, \"Pacientes\": \"Sem necessidade de UTI\"}, {\"Estado\": \"actives\", \"Data\": \"04/21/20\", \"Casos Ativos\": 15265.0, \"Pacientes\": \"Sem necessidade de UTI\"}, {\"Estado\": \"actives\", \"Data\": \"04/22/20\", \"Casos Ativos\": 15429.0, \"Pacientes\": \"Sem necessidade de UTI\"}, {\"Estado\": \"actives\", \"Data\": \"04/23/20\", \"Casos Ativos\": 17716.0, \"Pacientes\": \"Sem necessidade de UTI\"}, {\"Estado\": \"actives\", \"Data\": \"04/24/20\", \"Casos Ativos\": 19962.0, \"Pacientes\": \"Sem necessidade de UTI\"}, {\"Estado\": \"actives\", \"Data\": \"04/25/20\", \"Casos Ativos\": 22974.0, \"Pacientes\": \"Sem necessidade de UTI\"}, {\"Estado\": \"actives\", \"Data\": \"04/26/20\", \"Casos Ativos\": 25223.0, \"Pacientes\": \"Sem necessidade de UTI\"}, {\"Estado\": \"actives\", \"Data\": \"04/27/20\", \"Casos Ativos\": 27897.0, \"Pacientes\": \"Sem necessidade de UTI\"}, {\"Estado\": \"actives\", \"Data\": \"04/28/20\", \"Casos Ativos\": 31335.0, \"Pacientes\": \"Sem necessidade de UTI\"}, {\"Estado\": \"actives\", \"Data\": \"04/29/20\", \"Casos Ativos\": 35235.0, \"Pacientes\": \"Sem necessidade de UTI\"}, {\"Estado\": \"actives\", \"Data\": \"04/30/20\", \"Casos Ativos\": 39816.0, \"Pacientes\": \"Sem necessidade de UTI\"}, {\"Estado\": \"actives\", \"Data\": \"05/01/20\", \"Casos Ativos\": 42021.0, \"Pacientes\": \"Sem necessidade de UTI\"}, {\"Estado\": \"actives\", \"Data\": \"05/02/20\", \"Casos Ativos\": 43474.0, \"Pacientes\": \"Sem necessidade de UTI\"}, {\"Estado\": \"actives\", \"Data\": \"05/03/20\", \"Casos Ativos\": 45570.0, \"Pacientes\": \"Sem necessidade de UTI\"}, {\"Estado\": \"actives\", \"Data\": \"05/04/20\", \"Casos Ativos\": 48785.0, \"Pacientes\": \"Sem necessidade de UTI\"}, {\"Estado\": \"actives\", \"Data\": \"05/05/20\", \"Casos Ativos\": 52180.0, \"Pacientes\": \"Sem necessidade de UTI\"}, {\"Estado\": \"actives\", \"Data\": \"05/06/20\", \"Casos Ativos\": 58655.0, \"Pacientes\": \"Sem necessidade de UTI\"}, {\"Estado\": \"actives\", \"Data\": \"05/07/20\", \"Casos Ativos\": 62685.0, \"Pacientes\": \"Sem necessidade de UTI\"}, {\"Estado\": \"actives\", \"Data\": \"05/08/20\", \"Casos Ativos\": 68270.0, \"Pacientes\": \"Sem necessidade de UTI\"}, {\"Estado\": \"actives\", \"Data\": \"05/09/20\", \"Casos Ativos\": 73674.0, \"Pacientes\": \"Sem necessidade de UTI\"}, {\"Estado\": \"actives\", \"Data\": \"05/10/20\", \"Casos Ativos\": 76225.0, \"Pacientes\": \"Sem necessidade de UTI\"}], \"data-34d9b806eba4af7cf55b2faaa85e55a5\": [{\"y\": 13096.8}], \"data-8abec10a19213157203ee9f47c2b269f\": [{\"y\": 43656.0}]}}, {\"mode\": \"vega-lite\"});\n",
       "</script>"
      ],
      "text/plain": [
       "alt.HConcatChart(...)"
      ]
     },
     "execution_count": 7,
     "metadata": {},
     "output_type": "execute_result"
    }
   ],
   "source": [
    "#hide_input\n",
    "selection = alt.selection_multi(fields=[STATE_COLUMN], on='mouseover')\n",
    "color = alt.condition(selection,\n",
    "                    alt.Color(STATE_COLUMN+':N', \n",
    "                              scale=alt.Scale(scheme='tableau20', reverse=False), legend=None),\n",
    "                              alt.value('#ffbf79')\n",
    "                     )\n",
    "\n",
    "chart = alt.Chart(df).mark_bar().encode(\n",
    "    x=alt.X(DATE_COLUMN+':O', axis=alt.Axis(title=DATE_COLUMN)),\n",
    "    y=alt.Y(ACTIVE_COLUMN, axis=alt.Axis(title=ACTIVE_COLUMN)),\n",
    "    color=color,\n",
    "    tooltip=[DATE_COLUMN, STATE_COLUMN, ACTIVE_COLUMN],\n",
    "    order=alt.Order(\n",
    "    STATE_COLUMN,\n",
    "    sort='ascending'\n",
    "    )\n",
    ").properties(\n",
    "    title=[\n",
    "        \"Achate a curva - todos os casos ativos\",\n",
    "        \" * ver premissas\"\n",
    "    ]\n",
    ").add_selection(\n",
    "    selection\n",
    ")\n",
    "\n",
    "legend = alt.Chart(df).mark_point().encode(\n",
    "    y=alt.Y(STATE_COLUMN+':N', axis=alt.Axis(orient='right')),\n",
    "    color=color\n",
    ")\n",
    "\n",
    "x1line = alt.Chart(pd.DataFrame({'y': [TOTAL_AVAILABLE_ICU]})).mark_rule(color='#e42726', strokeWidth=2).encode(\n",
    "    y='y:Q'\n",
    ")\n",
    "text1 = x1line.mark_text(align='left', x=5, dy=10, color='#e42726', strokeWidth=1).encode(\n",
    "    text=alt.value(\"UTIs para pacientes COVID19: \"+\"{:.0f}\".format(TOTAL_AVAILABLE_ICU))\n",
    ")\n",
    "\n",
    "x2line = alt.Chart(pd.DataFrame({'y': [TOTAL_ICU]})).mark_rule(color='darkred', strokeWidth=2).encode(\n",
    "    y='y:Q'\n",
    ")\n",
    "text2 = x2line.mark_text(align='left', x=5, dy=10, color='darkred', strokeWidth=1).encode(\n",
    "    text=alt.value(\"Total de UTIs: \"+\"{:.0f}\".format(TOTAL_ICU))\n",
    ")\n",
    "\n",
    "chart.properties(width=CHART_WIDTH, height=CHART_HEIGHT) + x1line + text1 + x2line + text2 | legend"
   ]
  },
  {
   "cell_type": "code",
   "execution_count": 8,
   "metadata": {},
   "outputs": [
    {
     "name": "stdout",
     "output_type": "stream",
     "text": [
      "Premissas :\n",
      "- A população brasileira estimada é de 211 milhões de habitantes (fonte: ibge)\n",
      "- O Brasil tem cerca de 20 leitos de UTI para cada 100 mil habitantes (fonte: bcc). Outros leitos foram construídos para combater a covid-19 (fonte: ministério da saúde)\n",
      "- Baseado nos dados acima, estima-se que haja 43656 UTIs no país.\n",
      "- 30% de UTIs disponíveis para pacientes com covid19 (fonte: artigo oglobo)\n",
      "- Cerca de 12% dos pacientes com covid-19 precisam de tratamento intensivo (fonte: artigo the lancet)\n"
     ]
    }
   ],
   "source": [
    "#hide_input\n",
    "print(\"Premissas :\")\n",
    "print(\"- A população brasileira estimada é de \"+\"{:.0f}\".format(POPULATION/1000000)+\" milhões de habitantes (fonte: ibge)\")\n",
    "print(\"- O Brasil tem cerca de \"+str(ICU_PER_100k)+\" leitos de UTI para cada 100 mil habitantes (fonte: bcc). Outros leitos foram construídos para combater a covid-19 (fonte: ministério da saúde)\")\n",
    "print(\"- Baseado nos dados acima, estima-se que haja \"+\"{:.0f}\".format(TOTAL_ICU)+\" UTIs no país.\")\n",
    "print(\"- {:.0f}\".format(AVAILABLE_PERCENTAGE_ICU*100)+\"% de UTIs disponíveis para pacientes com covid19 (fonte: artigo oglobo)\")\n",
    "print(\"- Cerca de \"+\"{:.0f}\".format(CASES_NEED_ICU*100)+\"% dos pacientes com covid-19 precisam de tratamento intensivo (fonte: artigo the lancet)\")"
   ]
  },
  {
   "cell_type": "markdown",
   "metadata": {
    "papermill": {
     "duration": 0.07254,
     "end_time": "2020-04-28T12:08:09.077685",
     "exception": false,
     "start_time": "2020-04-28T12:08:09.005145",
     "status": "completed"
    },
    "tags": []
   },
   "source": [
    "Based on the work of [Alonso Silva Allende](https://covid19dashboards.com/jupyter/2020/04/27/Covid-19-Overview-Chile.html), adapted by [Cleber Jorge Amaral](http://cleberjamaral.github.io/). \n",
    "Dados:\n",
    "- covid19: [brasil.io](https://brasil.io/home/)\n",
    "- população estimada: [ibge](https://www.ibge.gov.br/apps/populacao/projecao//)\n",
    "- quantidade de leitos: [bcc](https://www.bbc.com/portuguese/brasil-52137553) e [ministério da saúde](https://www.saude.gov.br/noticias/agencia-saude/46772-brasil-ganha-reforco-de-1-134-leitos-de-uti-no-combate-ao-coronavirus)\n",
    "- leitos disponíveis: [artigo oglobo](https://oglobo.globo.com/sociedade/coronavirus/coronavirus-ministerio-estima-que-sus-tem-de-12-13-mil-leitos-de-uti-disponiveis-para-atender-pacientes-1-24328523)\n",
    "- pacientes que precisam de UTI: [artigo the lancet](https://www.thelancet.com/journals/lanres/article/PIIS2213-2600(20)30161-2/fulltext)"
   ]
  },
  {
   "cell_type": "code",
   "execution_count": null,
   "metadata": {},
   "outputs": [],
   "source": []
  }
 ],
 "metadata": {
  "kernelspec": {
   "display_name": "Python 3",
   "language": "python",
   "name": "python3"
  },
  "language_info": {
   "codemirror_mode": {
    "name": "ipython",
    "version": 3
   },
   "file_extension": ".py",
   "mimetype": "text/x-python",
   "name": "python",
   "nbconvert_exporter": "python",
   "pygments_lexer": "ipython3",
   "version": "3.8.2"
  },
  "papermill": {
   "duration": 3.904156,
   "end_time": "2020-04-28T12:08:09.239969",
   "environment_variables": {},
   "exception": null,
   "input_path": "2020-03-17-compare-trajectories.ipynb",
   "output_path": "2020-03-17-compare-trajectories.ipynb",
   "parameters": {},
   "start_time": "2020-04-28T12:08:05.335813",
   "version": "2.0.0"
  }
 },
 "nbformat": 4,
 "nbformat_minor": 2
}
