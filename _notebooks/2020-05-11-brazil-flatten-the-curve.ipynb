{
 "cells": [
  {
   "cell_type": "markdown",
   "metadata": {
    "papermill": {
     "duration": 0.018943,
     "end_time": "2020-04-28T12:08:06.188782",
     "exception": false,
     "start_time": "2020-04-28T12:08:06.169839",
     "status": "completed"
    },
    "tags": []
   },
   "source": [
    "# Achate a curva\n",
    "> Número de casos ativos e estimativa de leitos de UTI total e para pacientes covid-19\n",
    "\n",
    "- toc: true\n",
    "- badges: true\n",
    "- comments: true\n",
    "- author: Cleber Jorge Amaral\n",
    "- categories: [jupyter]\n",
    "- image: images/brazil-flatten-the-curve.png"
   ]
  },
  {
   "cell_type": "code",
   "execution_count": 1,
   "metadata": {
    "execution": {
     "iopub.execute_input": "2020-04-28T12:08:06.220739Z",
     "iopub.status.busy": "2020-04-28T12:08:06.220132Z",
     "iopub.status.idle": "2020-04-28T12:08:06.644708Z",
     "shell.execute_reply": "2020-04-28T12:08:06.643619Z"
    },
    "papermill": {
     "duration": 0.441167,
     "end_time": "2020-04-28T12:08:06.644848",
     "exception": false,
     "start_time": "2020-04-28T12:08:06.203681",
     "status": "completed"
    },
    "tags": []
   },
   "outputs": [
    {
     "name": "stderr",
     "output_type": "stream",
     "text": [
      "/usr/local/lib/python3.8/site-packages/pandas/compat/__init__.py:117: UserWarning: Could not import the lzma module. Your installed Python is incomplete. Attempting to use lzma compression will result in a RuntimeError.\n",
      "  warnings.warn(msg)\n"
     ]
    }
   ],
   "source": [
    "#hide\n",
    "import pandas as pd\n",
    "import altair as alt\n",
    "import math\n",
    "from altair_saver import save\n",
    "from IPython.display import HTML\n",
    "\n",
    "CHART_WIDTH = 600\n",
    "CHART_HEIGHT = 400"
   ]
  },
  {
   "cell_type": "code",
   "execution_count": 2,
   "metadata": {},
   "outputs": [],
   "source": [
    "#hide\n",
    "STATE_COLUMN = \"Estado\"\n",
    "DATE_COLUMN = \"Data\"\n",
    "CONFIRMED_CASES = 'Casos confirmados'\n",
    "VALUE = \"Valor\"\n",
    "CASES_NEED_ICU = 0.05\n",
    "POPULATION = 211000000\n",
    "ICU_PER_100k = 20\n",
    "TOTAL_ICU = 33905\n",
    "AVAILABLE_PERCENTAGE_ICU = 0.35\n",
    "TOTAL_AVAILABLE_ICU = TOTAL_ICU * AVAILABLE_PERCENTAGE_ICU\n",
    "CASES_NEED_ICU_COLUMN = \"Precisam de UTI \"+\"{:.0f}\".format(CASES_NEED_ICU*100)+\"% dos casos\"\n",
    "PATIENTS = \"Pacientes\"\n",
    "UPPER_BOUND_ICU_NEED_STR = \"Limite superior de necessidade de UTI\"\n",
    "LOWER_BOUND_ICU_NEED_STR = \"Limite inferior de necessidade de UTI\"\n",
    "UPPER_BOUND_ICU_NEED = 0.12\n",
    "LOWER_BOUND_ICU_NEED = 0.01"
   ]
  },
  {
   "cell_type": "code",
   "execution_count": 3,
   "metadata": {
    "scrolled": true
   },
   "outputs": [
    {
     "name": "stderr",
     "output_type": "stream",
     "text": [
      "<ipython-input-3-f75e046aa17f>:6: SettingWithCopyWarning: \n",
      "A value is trying to be set on a copy of a slice from a DataFrame.\n",
      "Try using .loc[row_indexer,col_indexer] = value instead\n",
      "\n",
      "See the caveats in the documentation: https://pandas.pydata.org/pandas-docs/stable/user_guide/indexing.html#returning-a-view-versus-a-copy\n",
      "  df_cases['base'] = 'cases'\n"
     ]
    }
   ],
   "source": [
    "#hide\n",
    "url_cases = ('https://raw.githubusercontent.com/CSSEGISandData/COVID-19/master/csse_covid_19_data/csse_covid_19_time_series/time_series_covid19_confirmed_global.csv')\n",
    "\n",
    "src = pd.read_csv(url_cases)\n",
    "df_cases = src[(src['Country/Region'] == 'Brazil')]\n",
    "df_cases['base'] = 'cases'\n",
    "\n",
    "df = df_cases.copy()\n",
    "\n",
    "df = df.drop(['Province/State', 'Country/Region', 'Lat', 'Long'], axis=1)\n",
    "#df = df.reset_index()\n",
    "\n",
    "# Add active cases row\n",
    "df = df.set_index('base')\n",
    "new_row = df.loc['cases']\n",
    "new_row.name = 'actives'\n",
    "df = df.append([new_row])\n",
    "# Reset index after added new row\n",
    "df = df.reset_index()\n",
    "df = df.rename(columns={\"index\":\"base\"})\n",
    "\n",
    "# Melt structure (unpivot)\n",
    "dt_cols = list(df.columns[~df.columns.isin(['base','index'])])\n",
    "LAST_DATE = dt_cols[-1]\n",
    "df = df.melt(id_vars=['base'], value_vars=dt_cols)\n",
    "df = df.rename(columns={\n",
    "     \"base\": STATE_COLUMN, \n",
    "     \"variable\":DATE_COLUMN, \n",
    "     \"value\":VALUE,\n",
    "     \"actives\": CONFIRMED_CASES\n",
    "})\n",
    "df[DATE_COLUMN] = pd.to_datetime(df[DATE_COLUMN])\n",
    "df[DATE_COLUMN] = df[DATE_COLUMN].dt.strftime('%m/%d/%y')\n",
    "df = df.sort_values(by=[DATE_COLUMN])\n",
    "\n",
    "df = df[df[STATE_COLUMN].isin(['actives'])]\n",
    "\n",
    "data = df.copy()\n",
    "#df.tail()"
   ]
  },
  {
   "cell_type": "code",
   "execution_count": 4,
   "metadata": {},
   "outputs": [],
   "source": [
    "#hide\n",
    "df = data.copy()\n",
    "STATE_COLUMN = PATIENTS\n",
    "df[STATE_COLUMN] = CASES_NEED_ICU_COLUMN\n",
    "df[UPPER_BOUND_ICU_NEED_STR] = round(df[VALUE] * (UPPER_BOUND_ICU_NEED),0)\n",
    "df[LOWER_BOUND_ICU_NEED_STR] = round(df[VALUE] * (LOWER_BOUND_ICU_NEED),0)\n",
    "df = df.rename(columns={VALUE:CONFIRMED_CASES})\n",
    "df[CONFIRMED_CASES] = round(df[CONFIRMED_CASES] * (CASES_NEED_ICU),0)\n",
    "#df.tail()"
   ]
  },
  {
   "cell_type": "code",
   "execution_count": 5,
   "metadata": {},
   "outputs": [
    {
     "data": {
      "text/html": [
       "\n",
       "<div id=\"altair-viz-cdc4bf8c26d2417b92add77d42f19115\"></div>\n",
       "<script type=\"text/javascript\">\n",
       "  (function(spec, embedOpt){\n",
       "    let outputDiv = document.currentScript.previousElementSibling;\n",
       "    if (outputDiv.id !== \"altair-viz-cdc4bf8c26d2417b92add77d42f19115\") {\n",
       "      outputDiv = document.getElementById(\"altair-viz-cdc4bf8c26d2417b92add77d42f19115\");\n",
       "    }\n",
       "    const paths = {\n",
       "      \"vega\": \"https://cdn.jsdelivr.net/npm//vega@5?noext\",\n",
       "      \"vega-lib\": \"https://cdn.jsdelivr.net/npm//vega-lib?noext\",\n",
       "      \"vega-lite\": \"https://cdn.jsdelivr.net/npm//vega-lite@4.8.1?noext\",\n",
       "      \"vega-embed\": \"https://cdn.jsdelivr.net/npm//vega-embed@6?noext\",\n",
       "    };\n",
       "\n",
       "    function loadScript(lib) {\n",
       "      return new Promise(function(resolve, reject) {\n",
       "        var s = document.createElement('script');\n",
       "        s.src = paths[lib];\n",
       "        s.async = true;\n",
       "        s.onload = () => resolve(paths[lib]);\n",
       "        s.onerror = () => reject(`Error loading script: ${paths[lib]}`);\n",
       "        document.getElementsByTagName(\"head\")[0].appendChild(s);\n",
       "      });\n",
       "    }\n",
       "\n",
       "    function showError(err) {\n",
       "      outputDiv.innerHTML = `<div class=\"error\" style=\"color:red;\">${err}</div>`;\n",
       "      throw err;\n",
       "    }\n",
       "\n",
       "    function displayChart(vegaEmbed) {\n",
       "      vegaEmbed(outputDiv, spec, embedOpt)\n",
       "        .catch(err => showError(`Javascript Error: ${err.message}<br>This usually means there's a typo in your chart specification. See the javascript console for the full traceback.`));\n",
       "    }\n",
       "\n",
       "    if(typeof define === \"function\" && define.amd) {\n",
       "      requirejs.config({paths});\n",
       "      require([\"vega-embed\"], displayChart, err => showError(`Error loading script: ${err.message}`));\n",
       "    } else if (typeof vegaEmbed === \"function\") {\n",
       "      displayChart(vegaEmbed);\n",
       "    } else {\n",
       "      loadScript(\"vega\")\n",
       "        .then(() => loadScript(\"vega-lite\"))\n",
       "        .then(() => loadScript(\"vega-embed\"))\n",
       "        .catch(showError)\n",
       "        .then(() => displayChart(vegaEmbed));\n",
       "    }\n",
       "  })({\"config\": {\"view\": {\"continuousWidth\": 400, \"continuousHeight\": 300}}, \"layer\": [{\"data\": {\"name\": \"data-66f4119af4d90c642530306d6b9c228b\"}, \"mark\": \"line\", \"encoding\": {\"color\": {\"condition\": {\"type\": \"nominal\", \"field\": \"Pacientes\", \"legend\": null, \"scale\": {\"reverse\": false, \"scheme\": \"tableau20\"}, \"selection\": \"selector001\"}, \"value\": \"#ffbf79\"}, \"order\": {\"type\": \"nominal\", \"field\": \"Pacientes\", \"sort\": \"ascending\"}, \"tooltip\": [{\"type\": \"nominal\", \"field\": \"Data\"}, {\"type\": \"nominal\", \"field\": \"Pacientes\"}, {\"type\": \"quantitative\", \"field\": \"Casos confirmados\"}], \"x\": {\"type\": \"ordinal\", \"axis\": {\"title\": \"Data\"}, \"field\": \"Data\"}, \"y\": {\"type\": \"quantitative\", \"axis\": {\"title\": [\"Estimativa do percentual de casos confirmados que precisam de UTI: 5%\", \"Limite superior de necessidade de UTI: 12%\", \"Limite inferior de necessidade de UTI: 1%\"]}, \"field\": \"Casos confirmados\"}}, \"height\": 400, \"selection\": {\"selector001\": {\"type\": \"multi\", \"fields\": [\"Pacientes\"], \"on\": \"mouseover\"}}, \"title\": [\"Achate a curva - apenas os casos confirmados que estima-se que precisem de UTI\", \" * ver premissas\"], \"width\": 600}, {\"data\": {\"name\": \"data-5a26186991c6fc38bf2b9ddba8330616\"}, \"mark\": {\"type\": \"rule\", \"color\": \"#e42726\", \"strokeWidth\": 2}, \"encoding\": {\"y\": {\"type\": \"quantitative\", \"field\": \"y\"}}}, {\"data\": {\"name\": \"data-5a26186991c6fc38bf2b9ddba8330616\"}, \"mark\": {\"type\": \"text\", \"align\": \"left\", \"color\": \"#e42726\", \"dy\": -10, \"strokeWidth\": 1, \"x\": 5}, \"encoding\": {\"text\": {\"value\": \"UTIs para pacientes COVID19: 11867 unidades\"}, \"y\": {\"type\": \"quantitative\", \"field\": \"y\"}}}, {\"data\": {\"name\": \"data-5a26186991c6fc38bf2b9ddba8330616\"}, \"mark\": {\"type\": \"text\", \"align\": \"left\", \"color\": \"#e42726\", \"dy\": 10, \"strokeWidth\": 1, \"x\": 5}, \"encoding\": {\"text\": {\"value\": \"35% do total de 33905 UTIs do pa\\u00eds\"}, \"y\": {\"type\": \"quantitative\", \"field\": \"y\"}}}, {\"data\": {\"name\": \"data-66f4119af4d90c642530306d6b9c228b\"}, \"mark\": \"area\", \"encoding\": {\"opacity\": {\"condition\": {\"value\": 0.2, \"selection\": \"selector001\"}, \"value\": 0.5}, \"x\": {\"type\": \"ordinal\", \"field\": \"Data\"}, \"y\": {\"type\": \"quantitative\", \"field\": \"Limite inferior de necessidade de UTI\"}, \"y2\": {\"field\": \"Limite superior de necessidade de UTI\"}}}], \"$schema\": \"https://vega.github.io/schema/vega-lite/v4.8.1.json\", \"datasets\": {\"data-66f4119af4d90c642530306d6b9c228b\": [{\"Estado\": \"actives\", \"Data\": \"01/22/20\", \"Casos confirmados\": 0.0, \"Pacientes\": \"Precisam de UTI 5% dos casos\", \"Limite superior de necessidade de UTI\": 0.0, \"Limite inferior de necessidade de UTI\": 0.0}, {\"Estado\": \"actives\", \"Data\": \"01/23/20\", \"Casos confirmados\": 0.0, \"Pacientes\": \"Precisam de UTI 5% dos casos\", \"Limite superior de necessidade de UTI\": 0.0, \"Limite inferior de necessidade de UTI\": 0.0}, {\"Estado\": \"actives\", \"Data\": \"01/24/20\", \"Casos confirmados\": 0.0, \"Pacientes\": \"Precisam de UTI 5% dos casos\", \"Limite superior de necessidade de UTI\": 0.0, \"Limite inferior de necessidade de UTI\": 0.0}, {\"Estado\": \"actives\", \"Data\": \"01/25/20\", \"Casos confirmados\": 0.0, \"Pacientes\": \"Precisam de UTI 5% dos casos\", \"Limite superior de necessidade de UTI\": 0.0, \"Limite inferior de necessidade de UTI\": 0.0}, {\"Estado\": \"actives\", \"Data\": \"01/26/20\", \"Casos confirmados\": 0.0, \"Pacientes\": \"Precisam de UTI 5% dos casos\", \"Limite superior de necessidade de UTI\": 0.0, \"Limite inferior de necessidade de UTI\": 0.0}, {\"Estado\": \"actives\", \"Data\": \"01/27/20\", \"Casos confirmados\": 0.0, \"Pacientes\": \"Precisam de UTI 5% dos casos\", \"Limite superior de necessidade de UTI\": 0.0, \"Limite inferior de necessidade de UTI\": 0.0}, {\"Estado\": \"actives\", \"Data\": \"01/28/20\", \"Casos confirmados\": 0.0, \"Pacientes\": \"Precisam de UTI 5% dos casos\", \"Limite superior de necessidade de UTI\": 0.0, \"Limite inferior de necessidade de UTI\": 0.0}, {\"Estado\": \"actives\", \"Data\": \"01/29/20\", \"Casos confirmados\": 0.0, \"Pacientes\": \"Precisam de UTI 5% dos casos\", \"Limite superior de necessidade de UTI\": 0.0, \"Limite inferior de necessidade de UTI\": 0.0}, {\"Estado\": \"actives\", \"Data\": \"01/30/20\", \"Casos confirmados\": 0.0, \"Pacientes\": \"Precisam de UTI 5% dos casos\", \"Limite superior de necessidade de UTI\": 0.0, \"Limite inferior de necessidade de UTI\": 0.0}, {\"Estado\": \"actives\", \"Data\": \"01/31/20\", \"Casos confirmados\": 0.0, \"Pacientes\": \"Precisam de UTI 5% dos casos\", \"Limite superior de necessidade de UTI\": 0.0, \"Limite inferior de necessidade de UTI\": 0.0}, {\"Estado\": \"actives\", \"Data\": \"02/01/20\", \"Casos confirmados\": 0.0, \"Pacientes\": \"Precisam de UTI 5% dos casos\", \"Limite superior de necessidade de UTI\": 0.0, \"Limite inferior de necessidade de UTI\": 0.0}, {\"Estado\": \"actives\", \"Data\": \"02/02/20\", \"Casos confirmados\": 0.0, \"Pacientes\": \"Precisam de UTI 5% dos casos\", \"Limite superior de necessidade de UTI\": 0.0, \"Limite inferior de necessidade de UTI\": 0.0}, {\"Estado\": \"actives\", \"Data\": \"02/03/20\", \"Casos confirmados\": 0.0, \"Pacientes\": \"Precisam de UTI 5% dos casos\", \"Limite superior de necessidade de UTI\": 0.0, \"Limite inferior de necessidade de UTI\": 0.0}, {\"Estado\": \"actives\", \"Data\": \"02/04/20\", \"Casos confirmados\": 0.0, \"Pacientes\": \"Precisam de UTI 5% dos casos\", \"Limite superior de necessidade de UTI\": 0.0, \"Limite inferior de necessidade de UTI\": 0.0}, {\"Estado\": \"actives\", \"Data\": \"02/05/20\", \"Casos confirmados\": 0.0, \"Pacientes\": \"Precisam de UTI 5% dos casos\", \"Limite superior de necessidade de UTI\": 0.0, \"Limite inferior de necessidade de UTI\": 0.0}, {\"Estado\": \"actives\", \"Data\": \"02/06/20\", \"Casos confirmados\": 0.0, \"Pacientes\": \"Precisam de UTI 5% dos casos\", \"Limite superior de necessidade de UTI\": 0.0, \"Limite inferior de necessidade de UTI\": 0.0}, {\"Estado\": \"actives\", \"Data\": \"02/07/20\", \"Casos confirmados\": 0.0, \"Pacientes\": \"Precisam de UTI 5% dos casos\", \"Limite superior de necessidade de UTI\": 0.0, \"Limite inferior de necessidade de UTI\": 0.0}, {\"Estado\": \"actives\", \"Data\": \"02/08/20\", \"Casos confirmados\": 0.0, \"Pacientes\": \"Precisam de UTI 5% dos casos\", \"Limite superior de necessidade de UTI\": 0.0, \"Limite inferior de necessidade de UTI\": 0.0}, {\"Estado\": \"actives\", \"Data\": \"02/09/20\", \"Casos confirmados\": 0.0, \"Pacientes\": \"Precisam de UTI 5% dos casos\", \"Limite superior de necessidade de UTI\": 0.0, \"Limite inferior de necessidade de UTI\": 0.0}, {\"Estado\": \"actives\", \"Data\": \"02/10/20\", \"Casos confirmados\": 0.0, \"Pacientes\": \"Precisam de UTI 5% dos casos\", \"Limite superior de necessidade de UTI\": 0.0, \"Limite inferior de necessidade de UTI\": 0.0}, {\"Estado\": \"actives\", \"Data\": \"02/11/20\", \"Casos confirmados\": 0.0, \"Pacientes\": \"Precisam de UTI 5% dos casos\", \"Limite superior de necessidade de UTI\": 0.0, \"Limite inferior de necessidade de UTI\": 0.0}, {\"Estado\": \"actives\", \"Data\": \"02/12/20\", \"Casos confirmados\": 0.0, \"Pacientes\": \"Precisam de UTI 5% dos casos\", \"Limite superior de necessidade de UTI\": 0.0, \"Limite inferior de necessidade de UTI\": 0.0}, {\"Estado\": \"actives\", \"Data\": \"02/13/20\", \"Casos confirmados\": 0.0, \"Pacientes\": \"Precisam de UTI 5% dos casos\", \"Limite superior de necessidade de UTI\": 0.0, \"Limite inferior de necessidade de UTI\": 0.0}, {\"Estado\": \"actives\", \"Data\": \"02/14/20\", \"Casos confirmados\": 0.0, \"Pacientes\": \"Precisam de UTI 5% dos casos\", \"Limite superior de necessidade de UTI\": 0.0, \"Limite inferior de necessidade de UTI\": 0.0}, {\"Estado\": \"actives\", \"Data\": \"02/15/20\", \"Casos confirmados\": 0.0, \"Pacientes\": \"Precisam de UTI 5% dos casos\", \"Limite superior de necessidade de UTI\": 0.0, \"Limite inferior de necessidade de UTI\": 0.0}, {\"Estado\": \"actives\", \"Data\": \"02/16/20\", \"Casos confirmados\": 0.0, \"Pacientes\": \"Precisam de UTI 5% dos casos\", \"Limite superior de necessidade de UTI\": 0.0, \"Limite inferior de necessidade de UTI\": 0.0}, {\"Estado\": \"actives\", \"Data\": \"02/17/20\", \"Casos confirmados\": 0.0, \"Pacientes\": \"Precisam de UTI 5% dos casos\", \"Limite superior de necessidade de UTI\": 0.0, \"Limite inferior de necessidade de UTI\": 0.0}, {\"Estado\": \"actives\", \"Data\": \"02/18/20\", \"Casos confirmados\": 0.0, \"Pacientes\": \"Precisam de UTI 5% dos casos\", \"Limite superior de necessidade de UTI\": 0.0, \"Limite inferior de necessidade de UTI\": 0.0}, {\"Estado\": \"actives\", \"Data\": \"02/19/20\", \"Casos confirmados\": 0.0, \"Pacientes\": \"Precisam de UTI 5% dos casos\", \"Limite superior de necessidade de UTI\": 0.0, \"Limite inferior de necessidade de UTI\": 0.0}, {\"Estado\": \"actives\", \"Data\": \"02/20/20\", \"Casos confirmados\": 0.0, \"Pacientes\": \"Precisam de UTI 5% dos casos\", \"Limite superior de necessidade de UTI\": 0.0, \"Limite inferior de necessidade de UTI\": 0.0}, {\"Estado\": \"actives\", \"Data\": \"02/21/20\", \"Casos confirmados\": 0.0, \"Pacientes\": \"Precisam de UTI 5% dos casos\", \"Limite superior de necessidade de UTI\": 0.0, \"Limite inferior de necessidade de UTI\": 0.0}, {\"Estado\": \"actives\", \"Data\": \"02/22/20\", \"Casos confirmados\": 0.0, \"Pacientes\": \"Precisam de UTI 5% dos casos\", \"Limite superior de necessidade de UTI\": 0.0, \"Limite inferior de necessidade de UTI\": 0.0}, {\"Estado\": \"actives\", \"Data\": \"02/23/20\", \"Casos confirmados\": 0.0, \"Pacientes\": \"Precisam de UTI 5% dos casos\", \"Limite superior de necessidade de UTI\": 0.0, \"Limite inferior de necessidade de UTI\": 0.0}, {\"Estado\": \"actives\", \"Data\": \"02/24/20\", \"Casos confirmados\": 0.0, \"Pacientes\": \"Precisam de UTI 5% dos casos\", \"Limite superior de necessidade de UTI\": 0.0, \"Limite inferior de necessidade de UTI\": 0.0}, {\"Estado\": \"actives\", \"Data\": \"02/25/20\", \"Casos confirmados\": 0.0, \"Pacientes\": \"Precisam de UTI 5% dos casos\", \"Limite superior de necessidade de UTI\": 0.0, \"Limite inferior de necessidade de UTI\": 0.0}, {\"Estado\": \"actives\", \"Data\": \"02/26/20\", \"Casos confirmados\": 0.0, \"Pacientes\": \"Precisam de UTI 5% dos casos\", \"Limite superior de necessidade de UTI\": 0.0, \"Limite inferior de necessidade de UTI\": 0.0}, {\"Estado\": \"actives\", \"Data\": \"02/27/20\", \"Casos confirmados\": 0.0, \"Pacientes\": \"Precisam de UTI 5% dos casos\", \"Limite superior de necessidade de UTI\": 0.0, \"Limite inferior de necessidade de UTI\": 0.0}, {\"Estado\": \"actives\", \"Data\": \"02/28/20\", \"Casos confirmados\": 0.0, \"Pacientes\": \"Precisam de UTI 5% dos casos\", \"Limite superior de necessidade de UTI\": 0.0, \"Limite inferior de necessidade de UTI\": 0.0}, {\"Estado\": \"actives\", \"Data\": \"02/29/20\", \"Casos confirmados\": 0.0, \"Pacientes\": \"Precisam de UTI 5% dos casos\", \"Limite superior de necessidade de UTI\": 0.0, \"Limite inferior de necessidade de UTI\": 0.0}, {\"Estado\": \"actives\", \"Data\": \"03/01/20\", \"Casos confirmados\": 0.0, \"Pacientes\": \"Precisam de UTI 5% dos casos\", \"Limite superior de necessidade de UTI\": 0.0, \"Limite inferior de necessidade de UTI\": 0.0}, {\"Estado\": \"actives\", \"Data\": \"03/02/20\", \"Casos confirmados\": 0.0, \"Pacientes\": \"Precisam de UTI 5% dos casos\", \"Limite superior de necessidade de UTI\": 0.0, \"Limite inferior de necessidade de UTI\": 0.0}, {\"Estado\": \"actives\", \"Data\": \"03/03/20\", \"Casos confirmados\": 0.0, \"Pacientes\": \"Precisam de UTI 5% dos casos\", \"Limite superior de necessidade de UTI\": 0.0, \"Limite inferior de necessidade de UTI\": 0.0}, {\"Estado\": \"actives\", \"Data\": \"03/04/20\", \"Casos confirmados\": 0.0, \"Pacientes\": \"Precisam de UTI 5% dos casos\", \"Limite superior de necessidade de UTI\": 0.0, \"Limite inferior de necessidade de UTI\": 0.0}, {\"Estado\": \"actives\", \"Data\": \"03/05/20\", \"Casos confirmados\": 0.0, \"Pacientes\": \"Precisam de UTI 5% dos casos\", \"Limite superior de necessidade de UTI\": 0.0, \"Limite inferior de necessidade de UTI\": 0.0}, {\"Estado\": \"actives\", \"Data\": \"03/06/20\", \"Casos confirmados\": 1.0, \"Pacientes\": \"Precisam de UTI 5% dos casos\", \"Limite superior de necessidade de UTI\": 2.0, \"Limite inferior de necessidade de UTI\": 0.0}, {\"Estado\": \"actives\", \"Data\": \"03/07/20\", \"Casos confirmados\": 1.0, \"Pacientes\": \"Precisam de UTI 5% dos casos\", \"Limite superior de necessidade de UTI\": 2.0, \"Limite inferior de necessidade de UTI\": 0.0}, {\"Estado\": \"actives\", \"Data\": \"03/08/20\", \"Casos confirmados\": 1.0, \"Pacientes\": \"Precisam de UTI 5% dos casos\", \"Limite superior de necessidade de UTI\": 2.0, \"Limite inferior de necessidade de UTI\": 0.0}, {\"Estado\": \"actives\", \"Data\": \"03/09/20\", \"Casos confirmados\": 1.0, \"Pacientes\": \"Precisam de UTI 5% dos casos\", \"Limite superior de necessidade de UTI\": 3.0, \"Limite inferior de necessidade de UTI\": 0.0}, {\"Estado\": \"actives\", \"Data\": \"03/10/20\", \"Casos confirmados\": 2.0, \"Pacientes\": \"Precisam de UTI 5% dos casos\", \"Limite superior de necessidade de UTI\": 4.0, \"Limite inferior de necessidade de UTI\": 0.0}, {\"Estado\": \"actives\", \"Data\": \"03/11/20\", \"Casos confirmados\": 2.0, \"Pacientes\": \"Precisam de UTI 5% dos casos\", \"Limite superior de necessidade de UTI\": 5.0, \"Limite inferior de necessidade de UTI\": 0.0}, {\"Estado\": \"actives\", \"Data\": \"03/12/20\", \"Casos confirmados\": 3.0, \"Pacientes\": \"Precisam de UTI 5% dos casos\", \"Limite superior de necessidade de UTI\": 6.0, \"Limite inferior de necessidade de UTI\": 1.0}, {\"Estado\": \"actives\", \"Data\": \"03/13/20\", \"Casos confirmados\": 8.0, \"Pacientes\": \"Precisam de UTI 5% dos casos\", \"Limite superior de necessidade de UTI\": 18.0, \"Limite inferior de necessidade de UTI\": 2.0}, {\"Estado\": \"actives\", \"Data\": \"03/14/20\", \"Casos confirmados\": 8.0, \"Pacientes\": \"Precisam de UTI 5% dos casos\", \"Limite superior de necessidade de UTI\": 18.0, \"Limite inferior de necessidade de UTI\": 2.0}, {\"Estado\": \"actives\", \"Data\": \"03/15/20\", \"Casos confirmados\": 8.0, \"Pacientes\": \"Precisam de UTI 5% dos casos\", \"Limite superior de necessidade de UTI\": 19.0, \"Limite inferior de necessidade de UTI\": 2.0}, {\"Estado\": \"actives\", \"Data\": \"03/16/20\", \"Casos confirmados\": 10.0, \"Pacientes\": \"Precisam de UTI 5% dos casos\", \"Limite superior de necessidade de UTI\": 24.0, \"Limite inferior de necessidade de UTI\": 2.0}, {\"Estado\": \"actives\", \"Data\": \"03/17/20\", \"Casos confirmados\": 16.0, \"Pacientes\": \"Precisam de UTI 5% dos casos\", \"Limite superior de necessidade de UTI\": 39.0, \"Limite inferior de necessidade de UTI\": 3.0}, {\"Estado\": \"actives\", \"Data\": \"03/18/20\", \"Casos confirmados\": 19.0, \"Pacientes\": \"Precisam de UTI 5% dos casos\", \"Limite superior de necessidade de UTI\": 45.0, \"Limite inferior de necessidade de UTI\": 4.0}, {\"Estado\": \"actives\", \"Data\": \"03/19/20\", \"Casos confirmados\": 31.0, \"Pacientes\": \"Precisam de UTI 5% dos casos\", \"Limite superior de necessidade de UTI\": 75.0, \"Limite inferior de necessidade de UTI\": 6.0}, {\"Estado\": \"actives\", \"Data\": \"03/20/20\", \"Casos confirmados\": 40.0, \"Pacientes\": \"Precisam de UTI 5% dos casos\", \"Limite superior de necessidade de UTI\": 95.0, \"Limite inferior de necessidade de UTI\": 8.0}, {\"Estado\": \"actives\", \"Data\": \"03/21/20\", \"Casos confirmados\": 51.0, \"Pacientes\": \"Precisam de UTI 5% dos casos\", \"Limite superior de necessidade de UTI\": 123.0, \"Limite inferior de necessidade de UTI\": 10.0}, {\"Estado\": \"actives\", \"Data\": \"03/22/20\", \"Casos confirmados\": 77.0, \"Pacientes\": \"Precisam de UTI 5% dos casos\", \"Limite superior de necessidade de UTI\": 186.0, \"Limite inferior de necessidade de UTI\": 15.0}, {\"Estado\": \"actives\", \"Data\": \"03/23/20\", \"Casos confirmados\": 96.0, \"Pacientes\": \"Precisam de UTI 5% dos casos\", \"Limite superior de necessidade de UTI\": 231.0, \"Limite inferior de necessidade de UTI\": 19.0}, {\"Estado\": \"actives\", \"Data\": \"03/24/20\", \"Casos confirmados\": 112.0, \"Pacientes\": \"Precisam de UTI 5% dos casos\", \"Limite superior de necessidade de UTI\": 270.0, \"Limite inferior de necessidade de UTI\": 22.0}, {\"Estado\": \"actives\", \"Data\": \"03/25/20\", \"Casos confirmados\": 128.0, \"Pacientes\": \"Precisam de UTI 5% dos casos\", \"Limite superior de necessidade de UTI\": 306.0, \"Limite inferior de necessidade de UTI\": 26.0}, {\"Estado\": \"actives\", \"Data\": \"03/26/20\", \"Casos confirmados\": 149.0, \"Pacientes\": \"Precisam de UTI 5% dos casos\", \"Limite superior de necessidade de UTI\": 358.0, \"Limite inferior de necessidade de UTI\": 30.0}, {\"Estado\": \"actives\", \"Data\": \"03/27/20\", \"Casos confirmados\": 171.0, \"Pacientes\": \"Precisam de UTI 5% dos casos\", \"Limite superior de necessidade de UTI\": 410.0, \"Limite inferior de necessidade de UTI\": 34.0}, {\"Estado\": \"actives\", \"Data\": \"03/28/20\", \"Casos confirmados\": 195.0, \"Pacientes\": \"Precisam de UTI 5% dos casos\", \"Limite superior de necessidade de UTI\": 468.0, \"Limite inferior de necessidade de UTI\": 39.0}, {\"Estado\": \"actives\", \"Data\": \"03/29/20\", \"Casos confirmados\": 213.0, \"Pacientes\": \"Precisam de UTI 5% dos casos\", \"Limite superior de necessidade de UTI\": 511.0, \"Limite inferior de necessidade de UTI\": 43.0}, {\"Estado\": \"actives\", \"Data\": \"03/30/20\", \"Casos confirmados\": 229.0, \"Pacientes\": \"Precisam de UTI 5% dos casos\", \"Limite superior de necessidade de UTI\": 549.0, \"Limite inferior de necessidade de UTI\": 46.0}, {\"Estado\": \"actives\", \"Data\": \"03/31/20\", \"Casos confirmados\": 286.0, \"Pacientes\": \"Precisam de UTI 5% dos casos\", \"Limite superior de necessidade de UTI\": 686.0, \"Limite inferior de necessidade de UTI\": 57.0}, {\"Estado\": \"actives\", \"Data\": \"04/01/20\", \"Casos confirmados\": 342.0, \"Pacientes\": \"Precisam de UTI 5% dos casos\", \"Limite superior de necessidade de UTI\": 820.0, \"Limite inferior de necessidade de UTI\": 68.0}, {\"Estado\": \"actives\", \"Data\": \"04/02/20\", \"Casos confirmados\": 402.0, \"Pacientes\": \"Precisam de UTI 5% dos casos\", \"Limite superior de necessidade de UTI\": 965.0, \"Limite inferior de necessidade de UTI\": 80.0}, {\"Estado\": \"actives\", \"Data\": \"04/03/20\", \"Casos confirmados\": 453.0, \"Pacientes\": \"Precisam de UTI 5% dos casos\", \"Limite superior de necessidade de UTI\": 1087.0, \"Limite inferior de necessidade de UTI\": 91.0}, {\"Estado\": \"actives\", \"Data\": \"04/04/20\", \"Casos confirmados\": 518.0, \"Pacientes\": \"Precisam de UTI 5% dos casos\", \"Limite superior de necessidade de UTI\": 1243.0, \"Limite inferior de necessidade de UTI\": 104.0}, {\"Estado\": \"actives\", \"Data\": \"04/05/20\", \"Casos confirmados\": 556.0, \"Pacientes\": \"Precisam de UTI 5% dos casos\", \"Limite superior de necessidade de UTI\": 1336.0, \"Limite inferior de necessidade de UTI\": 111.0}, {\"Estado\": \"actives\", \"Data\": \"04/06/20\", \"Casos confirmados\": 608.0, \"Pacientes\": \"Precisam de UTI 5% dos casos\", \"Limite superior de necessidade de UTI\": 1459.0, \"Limite inferior de necessidade de UTI\": 122.0}, {\"Estado\": \"actives\", \"Data\": \"04/07/20\", \"Casos confirmados\": 702.0, \"Pacientes\": \"Precisam de UTI 5% dos casos\", \"Limite superior de necessidade de UTI\": 1684.0, \"Limite inferior de necessidade de UTI\": 140.0}, {\"Estado\": \"actives\", \"Data\": \"04/08/20\", \"Casos confirmados\": 808.0, \"Pacientes\": \"Precisam de UTI 5% dos casos\", \"Limite superior de necessidade de UTI\": 1940.0, \"Limite inferior de necessidade de UTI\": 162.0}, {\"Estado\": \"actives\", \"Data\": \"04/09/20\", \"Casos confirmados\": 905.0, \"Pacientes\": \"Precisam de UTI 5% dos casos\", \"Limite superior de necessidade de UTI\": 2171.0, \"Limite inferior de necessidade de UTI\": 181.0}, {\"Estado\": \"actives\", \"Data\": \"04/10/20\", \"Casos confirmados\": 982.0, \"Pacientes\": \"Precisam de UTI 5% dos casos\", \"Limite superior de necessidade de UTI\": 2357.0, \"Limite inferior de necessidade de UTI\": 196.0}, {\"Estado\": \"actives\", \"Data\": \"04/11/20\", \"Casos confirmados\": 1036.0, \"Pacientes\": \"Precisam de UTI 5% dos casos\", \"Limite superior de necessidade de UTI\": 2487.0, \"Limite inferior de necessidade de UTI\": 207.0}, {\"Estado\": \"actives\", \"Data\": \"04/12/20\", \"Casos confirmados\": 1110.0, \"Pacientes\": \"Precisam de UTI 5% dos casos\", \"Limite superior de necessidade de UTI\": 2663.0, \"Limite inferior de necessidade de UTI\": 222.0}, {\"Estado\": \"actives\", \"Data\": \"04/13/20\", \"Casos confirmados\": 1172.0, \"Pacientes\": \"Precisam de UTI 5% dos casos\", \"Limite superior de necessidade de UTI\": 2812.0, \"Limite inferior de necessidade de UTI\": 234.0}, {\"Estado\": \"actives\", \"Data\": \"04/14/20\", \"Casos confirmados\": 1263.0, \"Pacientes\": \"Precisam de UTI 5% dos casos\", \"Limite superior de necessidade de UTI\": 3031.0, \"Limite inferior de necessidade de UTI\": 253.0}, {\"Estado\": \"actives\", \"Data\": \"04/15/20\", \"Casos confirmados\": 1416.0, \"Pacientes\": \"Precisam de UTI 5% dos casos\", \"Limite superior de necessidade de UTI\": 3398.0, \"Limite inferior de necessidade de UTI\": 283.0}, {\"Estado\": \"actives\", \"Data\": \"04/16/20\", \"Casos confirmados\": 1521.0, \"Pacientes\": \"Precisam de UTI 5% dos casos\", \"Limite superior de necessidade de UTI\": 3651.0, \"Limite inferior de necessidade de UTI\": 304.0}, {\"Estado\": \"actives\", \"Data\": \"04/17/20\", \"Casos confirmados\": 1684.0, \"Pacientes\": \"Precisam de UTI 5% dos casos\", \"Limite superior de necessidade de UTI\": 4042.0, \"Limite inferior de necessidade de UTI\": 337.0}, {\"Estado\": \"actives\", \"Data\": \"04/18/20\", \"Casos confirmados\": 1833.0, \"Pacientes\": \"Precisam de UTI 5% dos casos\", \"Limite superior de necessidade de UTI\": 4399.0, \"Limite inferior de necessidade de UTI\": 367.0}, {\"Estado\": \"actives\", \"Data\": \"04/19/20\", \"Casos confirmados\": 1933.0, \"Pacientes\": \"Precisam de UTI 5% dos casos\", \"Limite superior de necessidade de UTI\": 4638.0, \"Limite inferior de necessidade de UTI\": 387.0}, {\"Estado\": \"actives\", \"Data\": \"04/20/20\", \"Casos confirmados\": 2037.0, \"Pacientes\": \"Precisam de UTI 5% dos casos\", \"Limite superior de necessidade de UTI\": 4889.0, \"Limite inferior de necessidade de UTI\": 407.0}, {\"Estado\": \"actives\", \"Data\": \"04/21/20\", \"Casos confirmados\": 2154.0, \"Pacientes\": \"Precisam de UTI 5% dos casos\", \"Limite superior de necessidade de UTI\": 5169.0, \"Limite inferior de necessidade de UTI\": 431.0}, {\"Estado\": \"actives\", \"Data\": \"04/22/20\", \"Casos confirmados\": 2288.0, \"Pacientes\": \"Precisam de UTI 5% dos casos\", \"Limite superior de necessidade de UTI\": 5491.0, \"Limite inferior de necessidade de UTI\": 458.0}, {\"Estado\": \"actives\", \"Data\": \"04/23/20\", \"Casos confirmados\": 2502.0, \"Pacientes\": \"Precisam de UTI 5% dos casos\", \"Limite superior de necessidade de UTI\": 6004.0, \"Limite inferior de necessidade de UTI\": 500.0}, {\"Estado\": \"actives\", \"Data\": \"04/24/20\", \"Casos confirmados\": 2702.0, \"Pacientes\": \"Precisam de UTI 5% dos casos\", \"Limite superior de necessidade de UTI\": 6485.0, \"Limite inferior de necessidade de UTI\": 540.0}, {\"Estado\": \"actives\", \"Data\": \"04/25/20\", \"Casos confirmados\": 2966.0, \"Pacientes\": \"Precisam de UTI 5% dos casos\", \"Limite superior de necessidade de UTI\": 7119.0, \"Limite inferior de necessidade de UTI\": 593.0}, {\"Estado\": \"actives\", \"Data\": \"04/26/20\", \"Casos confirmados\": 3155.0, \"Pacientes\": \"Precisam de UTI 5% dos casos\", \"Limite superior de necessidade de UTI\": 7572.0, \"Limite inferior de necessidade de UTI\": 631.0}, {\"Estado\": \"actives\", \"Data\": \"04/27/20\", \"Casos confirmados\": 3372.0, \"Pacientes\": \"Precisam de UTI 5% dos casos\", \"Limite superior de necessidade de UTI\": 8094.0, \"Limite inferior de necessidade de UTI\": 674.0}, {\"Estado\": \"actives\", \"Data\": \"04/28/20\", \"Casos confirmados\": 3662.0, \"Pacientes\": \"Precisam de UTI 5% dos casos\", \"Limite superior de necessidade de UTI\": 8788.0, \"Limite inferior de necessidade de UTI\": 732.0}, {\"Estado\": \"actives\", \"Data\": \"04/29/20\", \"Casos confirmados\": 3984.0, \"Pacientes\": \"Precisam de UTI 5% dos casos\", \"Limite superior de necessidade de UTI\": 9562.0, \"Limite inferior de necessidade de UTI\": 797.0}, {\"Estado\": \"actives\", \"Data\": \"04/30/20\", \"Casos confirmados\": 4359.0, \"Pacientes\": \"Precisam de UTI 5% dos casos\", \"Limite superior de necessidade de UTI\": 10462.0, \"Limite inferior de necessidade de UTI\": 872.0}, {\"Estado\": \"actives\", \"Data\": \"05/01/20\", \"Casos confirmados\": 4610.0, \"Pacientes\": \"Precisam de UTI 5% dos casos\", \"Limite superior de necessidade de UTI\": 11064.0, \"Limite inferior de necessidade de UTI\": 922.0}, {\"Estado\": \"actives\", \"Data\": \"05/02/20\", \"Casos confirmados\": 4855.0, \"Pacientes\": \"Precisam de UTI 5% dos casos\", \"Limite superior de necessidade de UTI\": 11652.0, \"Limite inferior de necessidade de UTI\": 971.0}, {\"Estado\": \"actives\", \"Data\": \"05/03/20\", \"Casos confirmados\": 5091.0, \"Pacientes\": \"Precisam de UTI 5% dos casos\", \"Limite superior de necessidade de UTI\": 12219.0, \"Limite inferior de necessidade de UTI\": 1018.0}, {\"Estado\": \"actives\", \"Data\": \"05/04/20\", \"Casos confirmados\": 5431.0, \"Pacientes\": \"Precisam de UTI 5% dos casos\", \"Limite superior de necessidade de UTI\": 13034.0, \"Limite inferior de necessidade de UTI\": 1086.0}, {\"Estado\": \"actives\", \"Data\": \"05/05/20\", \"Casos confirmados\": 5773.0, \"Pacientes\": \"Precisam de UTI 5% dos casos\", \"Limite superior de necessidade de UTI\": 13855.0, \"Limite inferior de necessidade de UTI\": 1155.0}, {\"Estado\": \"actives\", \"Data\": \"05/06/20\", \"Casos confirmados\": 6331.0, \"Pacientes\": \"Precisam de UTI 5% dos casos\", \"Limite superior de necessidade de UTI\": 15193.0, \"Limite inferior de necessidade de UTI\": 1266.0}, {\"Estado\": \"actives\", \"Data\": \"05/07/20\", \"Casos confirmados\": 6789.0, \"Pacientes\": \"Precisam de UTI 5% dos casos\", \"Limite superior de necessidade de UTI\": 16293.0, \"Limite inferior de necessidade de UTI\": 1358.0}, {\"Estado\": \"actives\", \"Data\": \"05/08/20\", \"Casos confirmados\": 7345.0, \"Pacientes\": \"Precisam de UTI 5% dos casos\", \"Limite superior de necessidade de UTI\": 17627.0, \"Limite inferior de necessidade de UTI\": 1469.0}, {\"Estado\": \"actives\", \"Data\": \"05/09/20\", \"Casos confirmados\": 7803.0, \"Pacientes\": \"Precisam de UTI 5% dos casos\", \"Limite superior de necessidade de UTI\": 18727.0, \"Limite inferior de necessidade de UTI\": 1561.0}, {\"Estado\": \"actives\", \"Data\": \"05/10/20\", \"Casos confirmados\": 8135.0, \"Pacientes\": \"Precisam de UTI 5% dos casos\", \"Limite superior de necessidade de UTI\": 19524.0, \"Limite inferior de necessidade de UTI\": 1627.0}, {\"Estado\": \"actives\", \"Data\": \"05/11/20\", \"Casos confirmados\": 8480.0, \"Pacientes\": \"Precisam de UTI 5% dos casos\", \"Limite superior de necessidade de UTI\": 20351.0, \"Limite inferior de necessidade de UTI\": 1696.0}, {\"Estado\": \"actives\", \"Data\": \"05/12/20\", \"Casos confirmados\": 8911.0, \"Pacientes\": \"Precisam de UTI 5% dos casos\", \"Limite superior de necessidade de UTI\": 21386.0, \"Limite inferior de necessidade de UTI\": 1782.0}], \"data-5a26186991c6fc38bf2b9ddba8330616\": [{\"y\": 11866.75}]}}, {\"mode\": \"vega-lite\"});\n",
       "</script>"
      ],
      "text/plain": [
       "alt.LayerChart(...)"
      ]
     },
     "execution_count": 5,
     "metadata": {},
     "output_type": "execute_result"
    }
   ],
   "source": [
    "#hide_input\n",
    "selection = alt.selection_multi(fields=[STATE_COLUMN], on='mouseover')\n",
    "color = alt.condition(selection,\n",
    "                    alt.Color(STATE_COLUMN+':N', \n",
    "                              scale=alt.Scale(scheme='tableau20', reverse=False), legend=None),\n",
    "                              alt.value('#ffbf79')\n",
    "                     )\n",
    "\n",
    "chart = alt.Chart(df).mark_line().encode(\n",
    "    x=alt.X(DATE_COLUMN+':O', axis=alt.Axis(title=DATE_COLUMN)),\n",
    "    y=alt.Y(CONFIRMED_CASES+':Q', axis=alt.Axis(\n",
    "        title=[\"Estimativa do percentual de casos confirmados que precisam de UTI: {:.0f}\".format(CASES_NEED_ICU*100)+\"%\",\n",
    "               UPPER_BOUND_ICU_NEED_STR+\": {:.0f}\".format(UPPER_BOUND_ICU_NEED*100)+\"%\",\n",
    "               LOWER_BOUND_ICU_NEED_STR+\": {:.0f}\".format(LOWER_BOUND_ICU_NEED*100)+\"%\"])),\n",
    "    color=color,\n",
    "    tooltip=[\n",
    "        DATE_COLUMN, \n",
    "        STATE_COLUMN, \n",
    "        CONFIRMED_CASES\n",
    "    ],\n",
    "    order=alt.Order(\n",
    "    STATE_COLUMN,\n",
    "    sort='ascending'\n",
    "    )\n",
    ").properties(\n",
    "    title=[\n",
    "        \"Achate a curva - apenas os casos confirmados que estima-se que precisem de UTI\",\n",
    "        \" * ver premissas\"\n",
    "    ]\n",
    ").add_selection(\n",
    "    selection\n",
    ")\n",
    "\n",
    "shades = alt.Chart(df).mark_area().encode(\n",
    "    x=DATE_COLUMN+':O',\n",
    "    y=LOWER_BOUND_ICU_NEED_STR+\":Q\",\n",
    "    y2=UPPER_BOUND_ICU_NEED_STR+':Q',\n",
    "    opacity = alt.condition(selection, alt.value(0.2), alt.value(0.5))\n",
    ")\n",
    "\n",
    "x1line = alt.Chart(pd.DataFrame({'y': [TOTAL_AVAILABLE_ICU]})).mark_rule(color='#e42726', strokeWidth=2).encode(\n",
    "    y='y:Q'\n",
    ")\n",
    "text1 = x1line.mark_text(align='left', x=5, dy=-10, color='#e42726', strokeWidth=1).encode(\n",
    "    text=alt.value(\"UTIs para pacientes COVID19: \"+\"{:.0f}\".format(TOTAL_AVAILABLE_ICU)+\" unidades\")\n",
    ")\n",
    "text2 = x1line.mark_text(align='left', x=5, dy=10, color='#e42726', strokeWidth=1).encode(\n",
    "    text=alt.value(\"{:.0f}\".format(AVAILABLE_PERCENTAGE_ICU*100)+\"% do total de \"+\"{:.0f}\".format(TOTAL_ICU)+\" UTIs do país\")   \n",
    ")\n",
    "\n",
    "plot = chart.properties(width=CHART_WIDTH, height=CHART_HEIGHT) + x1line + text1 + text2 + shades\n",
    "plot"
   ]
  },
  {
   "cell_type": "code",
   "execution_count": 6,
   "metadata": {},
   "outputs": [
    {
     "name": "stdout",
     "output_type": "stream",
     "text": [
      "Premissas :\n",
      "- O Brasil tem 33905 leitos de UTI adulto (SUS/Não SUS), dado de 06/05/2020 (fonte: painel de insumos e leitos)\n",
      "- 35% de UTIs disponíveis para pacientes com covid19 (fonte: artigo oglobo)\n",
      "- Estima-se que cerca de 5% dos pacientes com covid-19 venham a precisar de tratamento intensivo. No pior caso registrado, na Itália, cerca de 12% precisaram de UTI e no melhor caso, China, cerca de 1% dos infectados precisaram de UTI (fonte: artigo the lancet)\n"
     ]
    }
   ],
   "source": [
    "#hide_input\n",
    "print(\"Premissas :\")\n",
    "print(\"- O Brasil tem 33905 leitos de UTI adulto (SUS/Não SUS), dado de 06/05/2020 (fonte: painel de insumos e leitos)\")\n",
    "print(\"- {:.0f}\".format(AVAILABLE_PERCENTAGE_ICU*100)+\"% de UTIs disponíveis para pacientes com covid19 (fonte: artigo oglobo)\")\n",
    "print(\"- Estima-se que cerca de \"+\"{:.0f}\".format(CASES_NEED_ICU*100)+\"% dos pacientes com covid-19 venham a precisar de tratamento intensivo. No pior caso registrado, na Itália, cerca de 12% precisaram de UTI e no melhor caso, China, cerca de 1% dos infectados precisaram de UTI (fonte: artigo the lancet)\")"
   ]
  },
  {
   "cell_type": "code",
   "execution_count": 7,
   "metadata": {},
   "outputs": [
    {
     "data": {
      "text/html": [
       "<small class=\"float-right\">Last Updated on May, 12 2020</small>"
      ],
      "text/plain": [
       "<IPython.core.display.HTML object>"
      ]
     },
     "execution_count": 7,
     "metadata": {},
     "output_type": "execute_result"
    }
   ],
   "source": [
    "#hide_input\n",
    "HTML(f'<small class=\"float-right\">Last Updated on {pd.to_datetime(LAST_DATE).strftime(\"%B, %d %Y\")}</small>')"
   ]
  },
  {
   "cell_type": "markdown",
   "metadata": {
    "papermill": {
     "duration": 0.07254,
     "end_time": "2020-04-28T12:08:09.077685",
     "exception": false,
     "start_time": "2020-04-28T12:08:09.005145",
     "status": "completed"
    },
    "tags": []
   },
   "source": [
    "Based on the work of [Alonso Silva Allende](https://covid19dashboards.com/jupyter/2020/04/27/Covid-19-Overview-Chile.html) and [Joao B. Duarte](https://github.com/github/covid19-dashboard/blob/master/_notebooks/2020-03-19-estimating_infected.ipynb), adapted by [Cleber Jorge Amaral](http://cleberjamaral.github.io/). \n",
    "\n",
    "Dados:\n",
    "- covid19: [CSSEGISandData](https://github.com/CSSEGISandData/COVID-19)\n",
    "- quantidade de leitos: [painel de insumos e leitos](https://covid-insumos.saude.gov.br/paineis/insumos/painel_leitos.php), [elpais](https://brasil.elpais.com/brasil/2020-04-28/sem-transparencia-sobre-fila-para-utis-justica-opera-para-garantir-atendimento-a-pacientes-de-covid-19.html), [elpais2](https://brasil.elpais.com/sociedade/2020-04-15/sem-leitos-de-uti-municipios-pequenos-temem-por-estrutura-limitada-para-transferir-pacientes-graves-com-a-covid-19.html), [bcc](https://www.bbc.com/portuguese/brasil-52137553) e [ministério da saúde](https://www.saude.gov.br/noticias/agencia-saude/46772-brasil-ganha-reforco-de-1-134-leitos-de-uti-no-combate-ao-coronavirus)\n",
    "- leitos disponíveis: [artigo oglobo](https://oglobo.globo.com/sociedade/coronavirus/coronavirus-ministerio-estima-que-sus-tem-de-12-13-mil-leitos-de-uti-disponiveis-para-atender-pacientes-1-24328523)\n",
    "- pacientes que precisam de UTI: [artigo the lancet](https://linkinghub.elsevier.com/retrieve/pii/S2213260020301612)"
   ]
  },
  {
   "cell_type": "code",
   "execution_count": 8,
   "metadata": {},
   "outputs": [
    {
     "ename": "ValueError",
     "evalue": "No enabled saver found that supports format='png'",
     "output_type": "error",
     "traceback": [
      "\u001b[0;31m---------------------------------------------------------------------------\u001b[0m",
      "\u001b[0;31mValueError\u001b[0m                                Traceback (most recent call last)",
      "\u001b[0;32m<ipython-input-8-5d5a1c6630be>\u001b[0m in \u001b[0;36m<module>\u001b[0;34m\u001b[0m\n\u001b[0;32m----> 1\u001b[0;31m \u001b[0msave\u001b[0m\u001b[0;34m(\u001b[0m\u001b[0mplot\u001b[0m\u001b[0;34m,\u001b[0m\u001b[0;34m\"../images/brazil-flatten-the-curve.png\"\u001b[0m\u001b[0;34m)\u001b[0m\u001b[0;34m\u001b[0m\u001b[0;34m\u001b[0m\u001b[0m\n\u001b[0m",
      "\u001b[0;32m~/.local/lib/python3.8/site-packages/altair_saver/_core.py\u001b[0m in \u001b[0;36msave\u001b[0;34m(chart, fp, fmt, mode, embed_options, method, suppress_data_warning, **kwargs)\u001b[0m\n\u001b[1;32m    167\u001b[0m         \u001b[0membed_options\u001b[0m \u001b[0;34m=\u001b[0m \u001b[0malt\u001b[0m\u001b[0;34m.\u001b[0m\u001b[0mrenderers\u001b[0m\u001b[0;34m.\u001b[0m\u001b[0moptions\u001b[0m\u001b[0;34m.\u001b[0m\u001b[0mget\u001b[0m\u001b[0;34m(\u001b[0m\u001b[0;34m\"embed_options\"\u001b[0m\u001b[0;34m,\u001b[0m \u001b[0;32mNone\u001b[0m\u001b[0;34m)\u001b[0m\u001b[0;34m\u001b[0m\u001b[0;34m\u001b[0m\u001b[0m\n\u001b[1;32m    168\u001b[0m \u001b[0;34m\u001b[0m\u001b[0m\n\u001b[0;32m--> 169\u001b[0;31m     \u001b[0mSaver\u001b[0m \u001b[0;34m=\u001b[0m \u001b[0m_select_saver\u001b[0m\u001b[0;34m(\u001b[0m\u001b[0mmethod\u001b[0m\u001b[0;34m,\u001b[0m \u001b[0mmode\u001b[0m\u001b[0;34m=\u001b[0m\u001b[0mmode\u001b[0m\u001b[0;34m,\u001b[0m \u001b[0mfmt\u001b[0m\u001b[0;34m=\u001b[0m\u001b[0mfmt\u001b[0m\u001b[0;34m,\u001b[0m \u001b[0mfp\u001b[0m\u001b[0;34m=\u001b[0m\u001b[0mfp\u001b[0m\u001b[0;34m)\u001b[0m\u001b[0;34m\u001b[0m\u001b[0;34m\u001b[0m\u001b[0m\n\u001b[0m\u001b[1;32m    170\u001b[0m     \u001b[0msaver\u001b[0m \u001b[0;34m=\u001b[0m \u001b[0mSaver\u001b[0m\u001b[0;34m(\u001b[0m\u001b[0mspec\u001b[0m\u001b[0;34m,\u001b[0m \u001b[0mmode\u001b[0m\u001b[0;34m=\u001b[0m\u001b[0mmode\u001b[0m\u001b[0;34m,\u001b[0m \u001b[0membed_options\u001b[0m\u001b[0;34m=\u001b[0m\u001b[0membed_options\u001b[0m\u001b[0;34m,\u001b[0m \u001b[0;34m**\u001b[0m\u001b[0mkwargs\u001b[0m\u001b[0;34m)\u001b[0m\u001b[0;34m\u001b[0m\u001b[0;34m\u001b[0m\u001b[0m\n\u001b[1;32m    171\u001b[0m \u001b[0;34m\u001b[0m\u001b[0m\n",
      "\u001b[0;32m~/.local/lib/python3.8/site-packages/altair_saver/_core.py\u001b[0m in \u001b[0;36m_select_saver\u001b[0;34m(method, mode, fmt, fp)\u001b[0m\n\u001b[1;32m     67\u001b[0m             \u001b[0;32mif\u001b[0m \u001b[0ms\u001b[0m\u001b[0;34m.\u001b[0m\u001b[0menabled\u001b[0m\u001b[0;34m(\u001b[0m\u001b[0;34m)\u001b[0m \u001b[0;32mand\u001b[0m \u001b[0mfmt\u001b[0m \u001b[0;32min\u001b[0m \u001b[0ms\u001b[0m\u001b[0;34m.\u001b[0m\u001b[0mvalid_formats\u001b[0m\u001b[0;34m[\u001b[0m\u001b[0mmode\u001b[0m\u001b[0;34m]\u001b[0m\u001b[0;34m:\u001b[0m\u001b[0;34m\u001b[0m\u001b[0;34m\u001b[0m\u001b[0m\n\u001b[1;32m     68\u001b[0m                 \u001b[0;32mreturn\u001b[0m \u001b[0ms\u001b[0m\u001b[0;34m\u001b[0m\u001b[0;34m\u001b[0m\u001b[0m\n\u001b[0;32m---> 69\u001b[0;31m         \u001b[0;32mraise\u001b[0m \u001b[0mValueError\u001b[0m\u001b[0;34m(\u001b[0m\u001b[0;34mf\"No enabled saver found that supports format={fmt!r}\"\u001b[0m\u001b[0;34m)\u001b[0m\u001b[0;34m\u001b[0m\u001b[0;34m\u001b[0m\u001b[0m\n\u001b[0m\u001b[1;32m     70\u001b[0m     \u001b[0;32melse\u001b[0m\u001b[0;34m:\u001b[0m\u001b[0;34m\u001b[0m\u001b[0;34m\u001b[0m\u001b[0m\n\u001b[1;32m     71\u001b[0m         \u001b[0;32mraise\u001b[0m \u001b[0mValueError\u001b[0m\u001b[0;34m(\u001b[0m\u001b[0;34mf\"Unrecognized method: {method}\"\u001b[0m\u001b[0;34m)\u001b[0m\u001b[0;34m\u001b[0m\u001b[0;34m\u001b[0m\u001b[0m\n",
      "\u001b[0;31mValueError\u001b[0m: No enabled saver found that supports format='png'"
     ]
    }
   ],
   "source": [
    "save(plot,\"../images/brazil-flatten-the-curve.png\")"
   ]
  }
 ],
 "metadata": {
  "kernelspec": {
   "display_name": "Python 3",
   "language": "python",
   "name": "python3"
  },
  "language_info": {
   "codemirror_mode": {
    "name": "ipython",
    "version": 3
   },
   "file_extension": ".py",
   "mimetype": "text/x-python",
   "name": "python",
   "nbconvert_exporter": "python",
   "pygments_lexer": "ipython3",
   "version": "3.8.2"
  },
  "papermill": {
   "duration": 3.904156,
   "end_time": "2020-04-28T12:08:09.239969",
   "environment_variables": {},
   "exception": null,
   "input_path": "2020-03-17-compare-trajectories.ipynb",
   "output_path": "2020-03-17-compare-trajectories.ipynb",
   "parameters": {},
   "start_time": "2020-04-28T12:08:05.335813",
   "version": "2.0.0"
  }
 },
 "nbformat": 4,
 "nbformat_minor": 2
}
